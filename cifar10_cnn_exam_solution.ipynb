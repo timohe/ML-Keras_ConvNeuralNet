{
  "nbformat": 4,
  "nbformat_minor": 0,
  "metadata": {
    "colab": {
      "name": "cifar10_cnn_exam_solution.ipynb",
      "version": "0.3.2",
      "provenance": []
    },
    "kernelspec": {
      "display_name": "Python 3",
      "language": "python",
      "name": "python3"
    },
    "accelerator": "GPU"
  },
  "cells": [
    {
      "metadata": {
        "id": "CwL1HaHTuWLt",
        "colab_type": "text"
      },
      "cell_type": "markdown",
      "source": [
        "# CIFAR10 with CNN\n",
        "code from https://github.com/fchollet/keras/blob/master/examples/mnist_cnn.py\n"
      ]
    },
    {
      "metadata": {
        "id": "tkM8NCnJuWLv",
        "colab_type": "raw"
      },
      "cell_type": "markdown",
      "source": [
        "This notebook trains a simple convolutional neural network on the CIFAR10 small images dataset. \n",
        "\n"
      ]
    },
    {
      "metadata": {
        "id": "S8UZFSsBuWLv",
        "colab_type": "code",
        "colab": {}
      },
      "cell_type": "code",
      "source": [
        "# import libraries\n",
        "from __future__ import print_function\n",
        "from __future__ import print_function\n",
        "import keras\n",
        "from keras.datasets import cifar10\n",
        "from keras.models import Sequential\n",
        "from keras.layers import Dense, Dropout, Activation, Flatten\n",
        "from keras.layers import Conv2D, MaxPooling2D\n",
        "\n",
        "#for confusion matrix\n",
        "import numpy as np\n",
        "import sklearn\n",
        "from sklearn.metrics import confusion_matrix\n"
      ],
      "execution_count": 0,
      "outputs": []
    },
    {
      "metadata": {
        "id": "HX32-SrFuWL0",
        "colab_type": "text"
      },
      "cell_type": "markdown",
      "source": [
        "Prepare data"
      ]
    },
    {
      "metadata": {
        "id": "o07n3FvbuWL0",
        "colab_type": "code",
        "colab": {
          "base_uri": "https://localhost:8080/",
          "height": 68
        },
        "outputId": "d886454a-c8a0-49c0-bbff-60def00afb9d"
      },
      "cell_type": "code",
      "source": [
        "# define constants\n",
        "batch_size = 128\n",
        "num_classes = 10\n",
        "epochs = 20\n",
        "\n",
        "\n",
        "# The data, shuffled and split between train and test sets:\n",
        "(x_train, y_train), (x_test, y_test) = cifar10.load_data()\n",
        "print('x_train shape:', x_train.shape)\n",
        "print(x_train.shape[0], 'train samples')\n",
        "print(x_test.shape[0], 'test samples')\n",
        "\n",
        "# Convert class vectors to binary class matrices.\n",
        "y_train = keras.utils.to_categorical(y_train, num_classes)\n",
        "y_test = keras.utils.to_categorical(y_test, num_classes)\n",
        "\n",
        "# Cast features into correct data type then scale features\n",
        "x_train = x_train.astype('float32')\n",
        "x_test = x_test.astype('float32')\n",
        "x_train /= 255\n",
        "x_test /= 255"
      ],
      "execution_count": 10,
      "outputs": [
        {
          "output_type": "stream",
          "text": [
            "x_train shape: (50000, 32, 32, 3)\n",
            "50000 train samples\n",
            "10000 test samples\n"
          ],
          "name": "stdout"
        }
      ]
    },
    {
      "metadata": {
        "id": "cW5LnHj5uWL3",
        "colab_type": "text"
      },
      "cell_type": "markdown",
      "source": [
        "Define model"
      ]
    },
    {
      "metadata": {
        "id": "YYl_mjtUuWL4",
        "colab_type": "code",
        "colab": {}
      },
      "cell_type": "code",
      "source": [
        "model = Sequential()\n",
        "\n",
        "model.add(Conv2D(32, (3, 3), padding='same',\n",
        "                 input_shape=x_train.shape[1:]))\n",
        "model.add(Activation('relu'))\n",
        "model.add(Conv2D(32, (3, 3)))\n",
        "model.add(Activation('relu'))\n",
        "model.add(MaxPooling2D(pool_size=(2, 2)))\n",
        "model.add(Dropout(0.25))\n",
        "\n",
        "model.add(Conv2D(64, (3, 3), padding='same'))\n",
        "model.add(Activation('relu'))\n",
        "model.add(Conv2D(64, (3, 3)))\n",
        "model.add(Activation('relu'))\n",
        "model.add(MaxPooling2D(pool_size=(2, 2)))\n",
        "model.add(Dropout(0.25))\n",
        "\n",
        "model.add(Flatten())\n",
        "model.add(Dense(512))\n",
        "model.add(Activation('relu'))\n",
        "model.add(Dropout(0.5))\n",
        "model.add(Dense(num_classes))\n",
        "model.add(Activation('softmax'))\n"
      ],
      "execution_count": 0,
      "outputs": []
    },
    {
      "metadata": {
        "id": "MSNoYmMFuWL5",
        "colab_type": "text"
      },
      "cell_type": "markdown",
      "source": [
        "Show model structure"
      ]
    },
    {
      "metadata": {
        "id": "CF1UH3FsuWL6",
        "colab_type": "code",
        "colab": {
          "base_uri": "https://localhost:8080/",
          "height": 748
        },
        "outputId": "e719ae2a-67b2-4d76-db4e-6229ddcc47e4"
      },
      "cell_type": "code",
      "source": [
        "model.summary()"
      ],
      "execution_count": 12,
      "outputs": [
        {
          "output_type": "stream",
          "text": [
            "_________________________________________________________________\n",
            "Layer (type)                 Output Shape              Param #   \n",
            "=================================================================\n",
            "conv2d_5 (Conv2D)            (None, 32, 32, 32)        896       \n",
            "_________________________________________________________________\n",
            "activation_7 (Activation)    (None, 32, 32, 32)        0         \n",
            "_________________________________________________________________\n",
            "conv2d_6 (Conv2D)            (None, 30, 30, 32)        9248      \n",
            "_________________________________________________________________\n",
            "activation_8 (Activation)    (None, 30, 30, 32)        0         \n",
            "_________________________________________________________________\n",
            "max_pooling2d_3 (MaxPooling2 (None, 15, 15, 32)        0         \n",
            "_________________________________________________________________\n",
            "dropout_4 (Dropout)          (None, 15, 15, 32)        0         \n",
            "_________________________________________________________________\n",
            "conv2d_7 (Conv2D)            (None, 15, 15, 64)        18496     \n",
            "_________________________________________________________________\n",
            "activation_9 (Activation)    (None, 15, 15, 64)        0         \n",
            "_________________________________________________________________\n",
            "conv2d_8 (Conv2D)            (None, 13, 13, 64)        36928     \n",
            "_________________________________________________________________\n",
            "activation_10 (Activation)   (None, 13, 13, 64)        0         \n",
            "_________________________________________________________________\n",
            "max_pooling2d_4 (MaxPooling2 (None, 6, 6, 64)          0         \n",
            "_________________________________________________________________\n",
            "dropout_5 (Dropout)          (None, 6, 6, 64)          0         \n",
            "_________________________________________________________________\n",
            "flatten_2 (Flatten)          (None, 2304)              0         \n",
            "_________________________________________________________________\n",
            "dense_3 (Dense)              (None, 512)               1180160   \n",
            "_________________________________________________________________\n",
            "activation_11 (Activation)   (None, 512)               0         \n",
            "_________________________________________________________________\n",
            "dropout_6 (Dropout)          (None, 512)               0         \n",
            "_________________________________________________________________\n",
            "dense_4 (Dense)              (None, 10)                5130      \n",
            "_________________________________________________________________\n",
            "activation_12 (Activation)   (None, 10)                0         \n",
            "=================================================================\n",
            "Total params: 1,250,858\n",
            "Trainable params: 1,250,858\n",
            "Non-trainable params: 0\n",
            "_________________________________________________________________\n"
          ],
          "name": "stdout"
        }
      ]
    },
    {
      "metadata": {
        "id": "5LrNtCcXuWL9",
        "colab_type": "text"
      },
      "cell_type": "markdown",
      "source": [
        "Compile model and fit\n"
      ]
    },
    {
      "metadata": {
        "id": "j--3W_mEuWL9",
        "colab_type": "code",
        "colab": {
          "base_uri": "https://localhost:8080/",
          "height": 751
        },
        "outputId": "d403a29c-d718-4c12-e048-948120eed0f0"
      },
      "cell_type": "code",
      "source": [
        "# initiate RMSprop optimizer\n",
        "opt = keras.optimizers.rmsprop(lr=0.0001, decay=1e-6)\n",
        "\n",
        "# Let's train the model using RMSprop\n",
        "model.compile(loss='categorical_crossentropy',\n",
        "              optimizer=opt,\n",
        "                metrics=['accuracy'])\n",
        "\n",
        "\n",
        "model.fit(x_train, y_train,\n",
        "            batch_size=batch_size,\n",
        "            epochs=epochs,\n",
        "            validation_data=(x_test, y_test),\n",
        "            shuffle=True)\n",
        "\n",
        "\n"
      ],
      "execution_count": 13,
      "outputs": [
        {
          "output_type": "stream",
          "text": [
            "Train on 50000 samples, validate on 10000 samples\n",
            "Epoch 1/20\n",
            "50000/50000 [==============================] - 14s 272us/step - loss: 1.9766 - acc: 0.2752 - val_loss: 1.7337 - val_acc: 0.3869\n",
            "Epoch 2/20\n",
            "50000/50000 [==============================] - 13s 262us/step - loss: 1.7088 - acc: 0.3814 - val_loss: 1.5992 - val_acc: 0.4358\n",
            "Epoch 3/20\n",
            " 9088/50000 [====>.........................] - ETA: 10s - loss: 1.6215 - acc: 0.4133"
          ],
          "name": "stdout"
        },
        {
          "output_type": "stream",
          "text": [
            "50000/50000 [==============================] - 13s 263us/step - loss: 1.5838 - acc: 0.4274 - val_loss: 1.5235 - val_acc: 0.4569\n",
            "Epoch 4/20\n",
            "50000/50000 [==============================] - 13s 262us/step - loss: 1.4976 - acc: 0.4599 - val_loss: 1.4065 - val_acc: 0.4958\n",
            "Epoch 5/20\n",
            "29824/50000 [================>.............] - ETA: 5s - loss: 1.4437 - acc: 0.4835\b\b\b\b\b\b\b\b\b\b\b\b\b\b\b\b\b\b\b\b\b\b\b\b\b\b\b\b\b\b\b\b\b\b\b\b\b\b\b\b\b\b\b\b\b\b\b\b\b\b\b\b\b\b\b\b\b\b\b\b\b\b\b\b\b\b\b\b\b\b\b\b\b\b\b\b\b\b\b\b\b\b\b"
          ],
          "name": "stdout"
        },
        {
          "output_type": "stream",
          "text": [
            "50000/50000 [==============================] - 13s 265us/step - loss: 1.4306 - acc: 0.4862 - val_loss: 1.3208 - val_acc: 0.5278\n",
            "Epoch 6/20\n",
            "50000/50000 [==============================] - 13s 261us/step - loss: 1.3757 - acc: 0.5061 - val_loss: 1.2874 - val_acc: 0.5418\n",
            "Epoch 7/20\n",
            "34688/50000 [===================>..........] - ETA: 3s - loss: 1.3266 - acc: 0.5281"
          ],
          "name": "stdout"
        },
        {
          "output_type": "stream",
          "text": [
            "50000/50000 [==============================] - 13s 262us/step - loss: 1.3254 - acc: 0.5280 - val_loss: 1.2291 - val_acc: 0.5637\n",
            "Epoch 8/20\n",
            "50000/50000 [==============================] - 13s 259us/step - loss: 1.2850 - acc: 0.5409 - val_loss: 1.2176 - val_acc: 0.5711\n",
            "Epoch 9/20\n",
            "35968/50000 [====================>.........] - ETA: 3s - loss: 1.2539 - acc: 0.5552"
          ],
          "name": "stdout"
        },
        {
          "output_type": "stream",
          "text": [
            "50000/50000 [==============================] - 13s 257us/step - loss: 1.2488 - acc: 0.5563 - val_loss: 1.1548 - val_acc: 0.5942\n",
            "Epoch 10/20\n",
            "50000/50000 [==============================] - 13s 256us/step - loss: 1.2122 - acc: 0.5714 - val_loss: 1.1243 - val_acc: 0.6030\n",
            "Epoch 11/20\n",
            "35200/50000 [====================>.........] - ETA: 3s - loss: 1.1787 - acc: 0.5845"
          ],
          "name": "stdout"
        },
        {
          "output_type": "stream",
          "text": [
            "50000/50000 [==============================] - 13s 257us/step - loss: 1.1793 - acc: 0.5859 - val_loss: 1.1110 - val_acc: 0.6127\n",
            "Epoch 12/20\n",
            "50000/50000 [==============================] - 13s 260us/step - loss: 1.1507 - acc: 0.5943 - val_loss: 1.0982 - val_acc: 0.6134\n",
            "Epoch 13/20\n",
            "35456/50000 [====================>.........] - ETA: 3s - loss: 1.1236 - acc: 0.6031"
          ],
          "name": "stdout"
        },
        {
          "output_type": "stream",
          "text": [
            "50000/50000 [==============================] - 13s 260us/step - loss: 1.1214 - acc: 0.6028 - val_loss: 1.0515 - val_acc: 0.6301\n",
            "Epoch 14/20\n",
            "50000/50000 [==============================] - 13s 261us/step - loss: 1.0915 - acc: 0.6158 - val_loss: 1.0232 - val_acc: 0.6404\n",
            "Epoch 15/20\n",
            "34688/50000 [===================>..........] - ETA: 3s - loss: 1.0706 - acc: 0.6253"
          ],
          "name": "stdout"
        },
        {
          "output_type": "stream",
          "text": [
            "50000/50000 [==============================] - 13s 265us/step - loss: 1.0662 - acc: 0.6280 - val_loss: 1.0502 - val_acc: 0.6284\n",
            "Epoch 16/20\n",
            "50000/50000 [==============================] - 13s 265us/step - loss: 1.0409 - acc: 0.6355 - val_loss: 0.9791 - val_acc: 0.6602\n",
            "Epoch 17/20\n",
            "34176/50000 [===================>..........] - ETA: 3s - loss: 1.0215 - acc: 0.6434"
          ],
          "name": "stdout"
        },
        {
          "output_type": "stream",
          "text": [
            "50000/50000 [==============================] - 13s 265us/step - loss: 1.0194 - acc: 0.6435 - val_loss: 1.0054 - val_acc: 0.6525\n",
            "Epoch 18/20\n",
            "50000/50000 [==============================] - 13s 267us/step - loss: 0.9992 - acc: 0.6503 - val_loss: 0.9778 - val_acc: 0.6576\n",
            "Epoch 19/20\n",
            "33920/50000 [===================>..........] - ETA: 4s - loss: 0.9752 - acc: 0.6591"
          ],
          "name": "stdout"
        },
        {
          "output_type": "stream",
          "text": [
            "50000/50000 [==============================] - 13s 266us/step - loss: 0.9750 - acc: 0.6574 - val_loss: 0.9303 - val_acc: 0.6755\n",
            "Epoch 20/20\n",
            "50000/50000 [==============================] - 13s 264us/step - loss: 0.9599 - acc: 0.6645 - val_loss: 0.9348 - val_acc: 0.6758\n"
          ],
          "name": "stdout"
        },
        {
          "output_type": "execute_result",
          "data": {
            "text/plain": [
              "<keras.callbacks.History at 0x7f7c477a1a58>"
            ]
          },
          "metadata": {
            "tags": []
          },
          "execution_count": 13
        }
      ]
    },
    {
      "metadata": {
        "id": "TnqygMfpuWMF",
        "colab_type": "code",
        "colab": {}
      },
      "cell_type": "code",
      "source": [
        "# Save the original model\n",
        "model.save('cifra10_base.h5')"
      ],
      "execution_count": 0,
      "outputs": []
    },
    {
      "metadata": {
        "id": "qjAnVrbjuWMH",
        "colab_type": "code",
        "colab": {
          "base_uri": "https://localhost:8080/",
          "height": 272
        },
        "outputId": "8efefb96-ada1-486a-fb47-9e410d91f8a0"
      },
      "cell_type": "code",
      "source": [
        "# Print base model loss and accuracy\n",
        "print('\\n  - Base case:')\n",
        "model = keras.models.load_model(\"cifra10_base.h5\")\n",
        "scores = model.evaluate(x_test, y_test, verbose=0)\n",
        "print('\\tTest loss:\\t', scores[0])\n",
        "print('\\tTest accuracy:\\t', scores[1])\n",
        "Y_pred = model.predict(x_test, verbose=2)\n",
        "cm = confusion_matrix(np.argmax(y_test,axis=1),np.argmax(Y_pred, axis=1))\n",
        "print('\\tConfusion Matrix:\\t')\n",
        "print(cm)"
      ],
      "execution_count": 15,
      "outputs": [
        {
          "output_type": "stream",
          "text": [
            "\n",
            "  - Base case:\n",
            "\tTest loss:\t 0.9348436509132385\n",
            "\tTest accuracy:\t 0.6758\n",
            "\tConfusion Matrix:\t\n",
            "[[768  52  26  13   5   3   9   6  68  50]\n",
            " [ 13 911   2   2   0   0   6   1  12  53]\n",
            " [102  30 502  69  92  61  66  41  19  18]\n",
            " [ 38  41  70 457  54 141  73  56  31  39]\n",
            " [ 43  18  94  61 526  28  78 126  17   9]\n",
            " [ 29  17  63 172  32 550  28  77  17  15]\n",
            " [ 13  22  43  66  32  14 770   9   8  23]\n",
            " [ 33  15  31  31  40  49   7 751   4  39]\n",
            " [ 71  78   9   7   1   4   3   3 791  33]\n",
            " [ 30 179   3   8   3   5  11  11  18 732]]\n"
          ],
          "name": "stdout"
        }
      ]
    },
    {
      "metadata": {
        "id": "Yt0xEddBmTsk",
        "colab_type": "text"
      },
      "cell_type": "markdown",
      "source": [
        "### 1) Augment the data by adding noise. Discuss results."
      ]
    },
    {
      "metadata": {
        "id": "AMBbUhcTuWMJ",
        "colab_type": "code",
        "colab": {
          "base_uri": "https://localhost:8080/",
          "height": 3522
        },
        "outputId": "77a3cdb7-25e6-463e-cbe1-90a0a2f1047c"
      },
      "cell_type": "code",
      "source": [
        "# Save models with gaussian noise with different Standard Deviation\n",
        "for e in [0.5,0.1,0.05,0.02,0.01]:\n",
        "    model = keras.models.load_model(\"cifra10_base.h5\")\n",
        "    model.add(keras.layers.GaussianNoise(e))\n",
        "    model.compile(loss='categorical_crossentropy',\n",
        "                  optimizer=opt,\n",
        "                    metrics=['accuracy'])\n",
        "    model.fit(x_train, y_train,\n",
        "                batch_size=batch_size,\n",
        "                epochs=epochs,\n",
        "                validation_data=(x_test, y_test),\n",
        "                shuffle=True)\n",
        "    model.save('cifra10_n'+str(e)+'.h5')"
      ],
      "execution_count": 16,
      "outputs": [
        {
          "output_type": "stream",
          "text": [
            "Train on 50000 samples, validate on 10000 samples\n",
            "Epoch 1/20\n",
            "50000/50000 [==============================] - 14s 287us/step - loss: 5.6383 - acc: 0.3516 - val_loss: 1.0401 - val_acc: 0.6606\n",
            "Epoch 2/20\n",
            "50000/50000 [==============================] - 14s 270us/step - loss: 5.7322 - acc: 0.3581 - val_loss: 1.1184 - val_acc: 0.6453\n",
            "Epoch 3/20\n",
            " 6272/50000 [==>...........................] - ETA: 11s - loss: 5.6725 - acc: 0.3710\b\b\b\b\b\b\b\b\b\b\b\b\b\b\b\b\b\b\b\b\b\b\b\b\b\b\b\b\b\b\b\b\b\b\b\b\b\b\b\b\b\b\b\b\b\b\b\b\b\b\b\b\b\b\b\b\b\b\b\b\b\b\b\b\b\b\b\b\b\b\b\b\b\b\b\b\b\b\b\b\b\b\b\b"
          ],
          "name": "stdout"
        },
        {
          "output_type": "stream",
          "text": [
            "50000/50000 [==============================] - 14s 271us/step - loss: 5.7587 - acc: 0.3607 - val_loss: 2.0146 - val_acc: 0.5251\n",
            "Epoch 4/20\n",
            "50000/50000 [==============================] - 14s 271us/step - loss: 5.7041 - acc: 0.3687 - val_loss: 1.8109 - val_acc: 0.5755\n",
            "Epoch 5/20\n",
            "25216/50000 [==============>...............] - ETA: 6s - loss: 5.8295 - acc: 0.3488\b\b\b\b\b\b\b\b\b\b\b\b\b\b\b\b\b\b\b\b\b\b\b\b\b\b\b\b\b\b\b\b\b\b\b\b\b\b\b\b\b\b\b\b\b\b\b\b\b\b\b\b\b\b\b\b\b\b\b\b\b\b\b\b\b\b\b\b\b\b\b\b\b\b\b\b\b\b\b\b\b\b\b"
          ],
          "name": "stdout"
        },
        {
          "output_type": "stream",
          "text": [
            "50000/50000 [==============================] - 13s 270us/step - loss: 5.7508 - acc: 0.3595 - val_loss: 1.6099 - val_acc: 0.5887\n",
            "Epoch 6/20\n",
            "50000/50000 [==============================] - 13s 269us/step - loss: 5.8275 - acc: 0.3555 - val_loss: 1.4313 - val_acc: 0.6172\n",
            "Epoch 7/20\n",
            "30080/50000 [=================>............] - ETA: 5s - loss: 5.7712 - acc: 0.3425"
          ],
          "name": "stdout"
        },
        {
          "output_type": "stream",
          "text": [
            "50000/50000 [==============================] - 13s 267us/step - loss: 5.7989 - acc: 0.3488 - val_loss: 1.7460 - val_acc: 0.5820\n",
            "Epoch 8/20\n",
            "50000/50000 [==============================] - 14s 271us/step - loss: 5.7162 - acc: 0.3569 - val_loss: 1.3900 - val_acc: 0.6248\n",
            "Epoch 9/20\n",
            "30336/50000 [=================>............] - ETA: 5s - loss: 5.7664 - acc: 0.3622"
          ],
          "name": "stdout"
        },
        {
          "output_type": "stream",
          "text": [
            "50000/50000 [==============================] - 13s 269us/step - loss: 5.7074 - acc: 0.3669 - val_loss: 1.3688 - val_acc: 0.6276\n",
            "Epoch 10/20\n",
            "50000/50000 [==============================] - 13s 266us/step - loss: 5.7382 - acc: 0.3608 - val_loss: 1.4451 - val_acc: 0.6167\n",
            "Epoch 11/20\n",
            "30848/50000 [=================>............] - ETA: 4s - loss: 5.8428 - acc: 0.3684"
          ],
          "name": "stdout"
        },
        {
          "output_type": "stream",
          "text": [
            "50000/50000 [==============================] - 13s 266us/step - loss: 5.7812 - acc: 0.3742 - val_loss: 1.9533 - val_acc: 0.5522\n",
            "Epoch 12/20\n",
            "50000/50000 [==============================] - 13s 267us/step - loss: 5.6932 - acc: 0.3710 - val_loss: 1.4649 - val_acc: 0.6274\n",
            "Epoch 13/20\n",
            "32128/50000 [==================>...........] - ETA: 4s - loss: 5.7336 - acc: 0.3813"
          ],
          "name": "stdout"
        },
        {
          "output_type": "stream",
          "text": [
            "50000/50000 [==============================] - 13s 267us/step - loss: 5.7335 - acc: 0.3792 - val_loss: 2.0371 - val_acc: 0.5368\n",
            "Epoch 14/20\n",
            "50000/50000 [==============================] - 13s 269us/step - loss: 5.7280 - acc: 0.3835 - val_loss: 1.5463 - val_acc: 0.6198\n",
            "Epoch 15/20\n",
            "32896/50000 [==================>...........] - ETA: 4s - loss: 5.7175 - acc: 0.3781"
          ],
          "name": "stdout"
        },
        {
          "output_type": "stream",
          "text": [
            "50000/50000 [==============================] - 13s 265us/step - loss: 5.7049 - acc: 0.3767 - val_loss: 1.7299 - val_acc: 0.5973\n",
            "Epoch 16/20\n",
            "50000/50000 [==============================] - 14s 270us/step - loss: 5.7389 - acc: 0.3855 - val_loss: 1.4248 - val_acc: 0.6330\n",
            "Epoch 17/20\n",
            "30592/50000 [=================>............] - ETA: 4s - loss: 5.8286 - acc: 0.3652"
          ],
          "name": "stdout"
        },
        {
          "output_type": "stream",
          "text": [
            "50000/50000 [==============================] - 13s 266us/step - loss: 5.7500 - acc: 0.3740 - val_loss: 1.4435 - val_acc: 0.6296\n",
            "Epoch 18/20\n",
            "50000/50000 [==============================] - 13s 269us/step - loss: 5.6674 - acc: 0.3831 - val_loss: 1.4782 - val_acc: 0.6284\n",
            "Epoch 19/20\n",
            "31872/50000 [==================>...........] - ETA: 4s - loss: 5.6772 - acc: 0.3801"
          ],
          "name": "stdout"
        },
        {
          "output_type": "stream",
          "text": [
            "50000/50000 [==============================] - 13s 267us/step - loss: 5.6830 - acc: 0.3747 - val_loss: 1.4231 - val_acc: 0.6327\n",
            "Epoch 20/20\n",
            "50000/50000 [==============================] - 13s 268us/step - loss: 5.7050 - acc: 0.3695 - val_loss: 1.4783 - val_acc: 0.6273\n",
            "Train on 50000 samples, validate on 10000 samples\n",
            "Epoch 1/20\n",
            "27520/50000 [===============>..............] - ETA: 6s - loss: 1.5461 - acc: 0.6448"
          ],
          "name": "stdout"
        },
        {
          "output_type": "stream",
          "text": [
            "50000/50000 [==============================] - 14s 289us/step - loss: 1.5480 - acc: 0.6454 - val_loss: 0.9283 - val_acc: 0.6726\n",
            "Epoch 2/20\n",
            "50000/50000 [==============================] - 13s 266us/step - loss: 1.5137 - acc: 0.6451 - val_loss: 1.1436 - val_acc: 0.5936\n",
            "Epoch 3/20\n",
            "31104/50000 [=================>............] - ETA: 4s - loss: 1.5590 - acc: 0.6441"
          ],
          "name": "stdout"
        },
        {
          "output_type": "stream",
          "text": [
            "50000/50000 [==============================] - 13s 265us/step - loss: 1.5562 - acc: 0.6452 - val_loss: 0.9652 - val_acc: 0.6582\n",
            "Epoch 4/20\n",
            "50000/50000 [==============================] - 13s 265us/step - loss: 1.5287 - acc: 0.6468 - val_loss: 0.9424 - val_acc: 0.6728\n",
            "Epoch 5/20\n",
            "32640/50000 [==================>...........] - ETA: 4s - loss: 1.5162 - acc: 0.6490"
          ],
          "name": "stdout"
        },
        {
          "output_type": "stream",
          "text": [
            "50000/50000 [==============================] - 13s 267us/step - loss: 1.5420 - acc: 0.6463 - val_loss: 0.9530 - val_acc: 0.6713\n",
            "Epoch 6/20\n",
            "50000/50000 [==============================] - 13s 265us/step - loss: 1.5272 - acc: 0.6492 - val_loss: 0.9848 - val_acc: 0.6534\n",
            "Epoch 7/20\n",
            "33408/50000 [===================>..........] - ETA: 4s - loss: 1.4888 - acc: 0.6560"
          ],
          "name": "stdout"
        },
        {
          "output_type": "stream",
          "text": [
            "50000/50000 [==============================] - 13s 265us/step - loss: 1.5125 - acc: 0.6573 - val_loss: 0.9178 - val_acc: 0.6838\n",
            "Epoch 8/20\n",
            "50000/50000 [==============================] - 13s 267us/step - loss: 1.4858 - acc: 0.6639 - val_loss: 0.9029 - val_acc: 0.6818\n",
            "Epoch 9/20\n",
            "33920/50000 [===================>..........] - ETA: 4s - loss: 1.4838 - acc: 0.6607"
          ],
          "name": "stdout"
        },
        {
          "output_type": "stream",
          "text": [
            "50000/50000 [==============================] - 13s 266us/step - loss: 1.4914 - acc: 0.6594 - val_loss: 1.0473 - val_acc: 0.6365\n",
            "Epoch 10/20\n",
            "50000/50000 [==============================] - 13s 269us/step - loss: 1.5034 - acc: 0.6554 - val_loss: 0.9055 - val_acc: 0.6859\n",
            "Epoch 11/20\n",
            "31872/50000 [==================>...........] - ETA: 4s - loss: 1.4701 - acc: 0.6601"
          ],
          "name": "stdout"
        },
        {
          "output_type": "stream",
          "text": [
            "50000/50000 [==============================] - 13s 267us/step - loss: 1.4709 - acc: 0.6616 - val_loss: 0.9253 - val_acc: 0.6802\n",
            "Epoch 12/20\n",
            "50000/50000 [==============================] - 13s 267us/step - loss: 1.5285 - acc: 0.6432 - val_loss: 0.9100 - val_acc: 0.6868\n",
            "Epoch 13/20\n",
            "32384/50000 [==================>...........] - ETA: 4s - loss: 1.5323 - acc: 0.6501"
          ],
          "name": "stdout"
        },
        {
          "output_type": "stream",
          "text": [
            "50000/50000 [==============================] - 13s 267us/step - loss: 1.4908 - acc: 0.6551 - val_loss: 0.8894 - val_acc: 0.6882\n",
            "Epoch 14/20\n",
            "50000/50000 [==============================] - 13s 267us/step - loss: 1.4621 - acc: 0.6638 - val_loss: 0.8739 - val_acc: 0.7001\n",
            "Epoch 15/20\n",
            "33408/50000 [===================>..........] - ETA: 4s - loss: 1.4550 - acc: 0.6661"
          ],
          "name": "stdout"
        },
        {
          "output_type": "stream",
          "text": [
            "50000/50000 [==============================] - 13s 267us/step - loss: 1.4386 - acc: 0.6663 - val_loss: 0.8984 - val_acc: 0.6971\n",
            "Epoch 16/20\n",
            "50000/50000 [==============================] - 13s 265us/step - loss: 1.4609 - acc: 0.6678 - val_loss: 0.8803 - val_acc: 0.7008\n",
            "Epoch 17/20\n",
            "34176/50000 [===================>..........] - ETA: 3s - loss: 1.4249 - acc: 0.6730"
          ],
          "name": "stdout"
        },
        {
          "output_type": "stream",
          "text": [
            "50000/50000 [==============================] - 13s 264us/step - loss: 1.4213 - acc: 0.6743 - val_loss: 0.8615 - val_acc: 0.7055\n",
            "Epoch 18/20\n",
            "50000/50000 [==============================] - 13s 262us/step - loss: 1.4219 - acc: 0.6781 - val_loss: 0.9109 - val_acc: 0.6912\n",
            "Epoch 19/20\n",
            "33664/50000 [===================>..........] - ETA: 4s - loss: 1.4199 - acc: 0.6778"
          ],
          "name": "stdout"
        },
        {
          "output_type": "stream",
          "text": [
            "50000/50000 [==============================] - 13s 266us/step - loss: 1.4034 - acc: 0.6765 - val_loss: 0.8579 - val_acc: 0.7035\n",
            "Epoch 20/20\n",
            "50000/50000 [==============================] - 13s 265us/step - loss: 1.4367 - acc: 0.6757 - val_loss: 0.8635 - val_acc: 0.7043\n",
            "Train on 50000 samples, validate on 10000 samples\n",
            "Epoch 1/20\n",
            "29056/50000 [================>.............] - ETA: 6s - loss: 1.2247 - acc: 0.6619"
          ],
          "name": "stdout"
        },
        {
          "output_type": "stream",
          "text": [
            "50000/50000 [==============================] - 15s 291us/step - loss: 1.2177 - acc: 0.6615 - val_loss: 0.9130 - val_acc: 0.6821\n",
            "Epoch 2/20\n",
            "50000/50000 [==============================] - 13s 268us/step - loss: 1.2280 - acc: 0.6617 - val_loss: 0.8980 - val_acc: 0.6932\n",
            "Epoch 3/20\n",
            "30336/50000 [=================>............] - ETA: 5s - loss: 1.2315 - acc: 0.6618"
          ],
          "name": "stdout"
        },
        {
          "output_type": "stream",
          "text": [
            "50000/50000 [==============================] - 13s 270us/step - loss: 1.2338 - acc: 0.6625 - val_loss: 0.8904 - val_acc: 0.6904\n",
            "Epoch 4/20\n",
            "50000/50000 [==============================] - 13s 268us/step - loss: 1.1939 - acc: 0.6665 - val_loss: 0.8942 - val_acc: 0.6872\n",
            "Epoch 5/20\n",
            "32640/50000 [==================>...........] - ETA: 4s - loss: 1.1711 - acc: 0.6729"
          ],
          "name": "stdout"
        },
        {
          "output_type": "stream",
          "text": [
            "50000/50000 [==============================] - 13s 268us/step - loss: 1.1821 - acc: 0.6698 - val_loss: 0.9206 - val_acc: 0.6747\n",
            "Epoch 6/20\n",
            "50000/50000 [==============================] - 13s 268us/step - loss: 1.1786 - acc: 0.6739 - val_loss: 0.9003 - val_acc: 0.6860\n",
            "Epoch 7/20\n",
            "33664/50000 [===================>..........] - ETA: 4s - loss: 1.1752 - acc: 0.6753"
          ],
          "name": "stdout"
        },
        {
          "output_type": "stream",
          "text": [
            "50000/50000 [==============================] - 13s 267us/step - loss: 1.1760 - acc: 0.6761 - val_loss: 0.8891 - val_acc: 0.6972\n",
            "Epoch 8/20\n",
            "50000/50000 [==============================] - 13s 268us/step - loss: 1.1809 - acc: 0.6746 - val_loss: 0.8815 - val_acc: 0.6980\n",
            "Epoch 9/20\n",
            "32896/50000 [==================>...........] - ETA: 4s - loss: 1.1530 - acc: 0.6804"
          ],
          "name": "stdout"
        },
        {
          "output_type": "stream",
          "text": [
            "50000/50000 [==============================] - 13s 266us/step - loss: 1.1503 - acc: 0.6811 - val_loss: 0.8635 - val_acc: 0.7010\n",
            "Epoch 10/20\n",
            "50000/50000 [==============================] - 13s 270us/step - loss: 1.1503 - acc: 0.6837 - val_loss: 0.8613 - val_acc: 0.7032\n",
            "Epoch 11/20\n",
            "33152/50000 [==================>...........] - ETA: 4s - loss: 1.1696 - acc: 0.6824"
          ],
          "name": "stdout"
        },
        {
          "output_type": "stream",
          "text": [
            "50000/50000 [==============================] - 13s 267us/step - loss: 1.1572 - acc: 0.6847 - val_loss: 0.8573 - val_acc: 0.7039\n",
            "Epoch 12/20\n",
            "50000/50000 [==============================] - 13s 269us/step - loss: 1.1442 - acc: 0.6902 - val_loss: 0.8888 - val_acc: 0.6901\n",
            "Epoch 13/20\n",
            "34176/50000 [===================>..........] - ETA: 3s - loss: 1.1219 - acc: 0.6912"
          ],
          "name": "stdout"
        },
        {
          "output_type": "stream",
          "text": [
            "50000/50000 [==============================] - 13s 268us/step - loss: 1.1263 - acc: 0.6913 - val_loss: 0.8524 - val_acc: 0.7061\n",
            "Epoch 14/20\n",
            "50000/50000 [==============================] - 13s 270us/step - loss: 1.1321 - acc: 0.6903 - val_loss: 0.8525 - val_acc: 0.7052\n",
            "Epoch 15/20\n",
            "32640/50000 [==================>...........] - ETA: 4s - loss: 1.1275 - acc: 0.6940"
          ],
          "name": "stdout"
        },
        {
          "output_type": "stream",
          "text": [
            "50000/50000 [==============================] - 13s 267us/step - loss: 1.1134 - acc: 0.6941 - val_loss: 0.8614 - val_acc: 0.7057\n",
            "Epoch 16/20\n",
            "50000/50000 [==============================] - 13s 269us/step - loss: 1.1276 - acc: 0.6914 - val_loss: 0.8501 - val_acc: 0.7073\n",
            "Epoch 17/20\n",
            "31360/50000 [=================>............] - ETA: 4s - loss: 1.1192 - acc: 0.6941"
          ],
          "name": "stdout"
        },
        {
          "output_type": "stream",
          "text": [
            "50000/50000 [==============================] - 13s 269us/step - loss: 1.1167 - acc: 0.6952 - val_loss: 0.8408 - val_acc: 0.7123\n",
            "Epoch 18/20\n",
            "50000/50000 [==============================] - 13s 268us/step - loss: 1.0940 - acc: 0.6986 - val_loss: 0.8231 - val_acc: 0.7144\n",
            "Epoch 19/20\n",
            "31104/50000 [=================>............] - ETA: 4s - loss: 1.0855 - acc: 0.7021"
          ],
          "name": "stdout"
        },
        {
          "output_type": "stream",
          "text": [
            "50000/50000 [==============================] - 13s 269us/step - loss: 1.0902 - acc: 0.6993 - val_loss: 0.8189 - val_acc: 0.7178\n",
            "Epoch 20/20\n",
            "50000/50000 [==============================] - 13s 269us/step - loss: 1.0739 - acc: 0.7031 - val_loss: 0.8434 - val_acc: 0.7109\n",
            "Train on 50000 samples, validate on 10000 samples\n",
            "Epoch 1/20\n",
            "28288/50000 [===============>..............] - ETA: 6s - loss: 1.0484 - acc: 0.6668"
          ],
          "name": "stdout"
        },
        {
          "output_type": "stream",
          "text": [
            "50000/50000 [==============================] - 15s 302us/step - loss: 1.0465 - acc: 0.6689 - val_loss: 0.9199 - val_acc: 0.6789\n",
            "Epoch 2/20\n",
            "50000/50000 [==============================] - 13s 270us/step - loss: 1.0441 - acc: 0.6732 - val_loss: 0.8859 - val_acc: 0.6909\n",
            "Epoch 3/20\n",
            "31104/50000 [=================>............] - ETA: 4s - loss: 1.0230 - acc: 0.6765"
          ],
          "name": "stdout"
        },
        {
          "output_type": "stream",
          "text": [
            "50000/50000 [==============================] - 13s 270us/step - loss: 1.0294 - acc: 0.6762 - val_loss: 0.9449 - val_acc: 0.6685\n",
            "Epoch 4/20\n",
            "50000/50000 [==============================] - 13s 269us/step - loss: 1.0279 - acc: 0.6766 - val_loss: 0.8678 - val_acc: 0.6972\n",
            "Epoch 5/20\n",
            "31872/50000 [==================>...........] - ETA: 4s - loss: 0.9978 - acc: 0.6868"
          ],
          "name": "stdout"
        },
        {
          "output_type": "stream",
          "text": [
            "50000/50000 [==============================] - 13s 270us/step - loss: 1.0036 - acc: 0.6846 - val_loss: 0.8722 - val_acc: 0.7029\n",
            "Epoch 6/20\n",
            "50000/50000 [==============================] - 13s 270us/step - loss: 1.0021 - acc: 0.6856 - val_loss: 0.8539 - val_acc: 0.7019\n",
            "Epoch 7/20\n",
            "32896/50000 [==================>...........] - ETA: 4s - loss: 0.9846 - acc: 0.6881"
          ],
          "name": "stdout"
        },
        {
          "output_type": "stream",
          "text": [
            "50000/50000 [==============================] - 14s 270us/step - loss: 0.9829 - acc: 0.6875 - val_loss: 0.8858 - val_acc: 0.6922\n",
            "Epoch 8/20\n",
            "50000/50000 [==============================] - 13s 269us/step - loss: 0.9716 - acc: 0.6932 - val_loss: 0.8540 - val_acc: 0.7054\n",
            "Epoch 9/20\n",
            "30848/50000 [=================>............] - ETA: 4s - loss: 0.9699 - acc: 0.6937"
          ],
          "name": "stdout"
        },
        {
          "output_type": "stream",
          "text": [
            "50000/50000 [==============================] - 14s 271us/step - loss: 0.9611 - acc: 0.6960 - val_loss: 0.9252 - val_acc: 0.6715\n",
            "Epoch 10/20\n",
            "50000/50000 [==============================] - 13s 268us/step - loss: 0.9456 - acc: 0.7006 - val_loss: 0.8380 - val_acc: 0.7141\n",
            "Epoch 11/20\n",
            "30848/50000 [=================>............] - ETA: 4s - loss: 0.9269 - acc: 0.7081"
          ],
          "name": "stdout"
        },
        {
          "output_type": "stream",
          "text": [
            "50000/50000 [==============================] - 14s 271us/step - loss: 0.9356 - acc: 0.7050 - val_loss: 0.8096 - val_acc: 0.7200\n",
            "Epoch 12/20\n",
            "50000/50000 [==============================] - 13s 269us/step - loss: 0.9412 - acc: 0.7057 - val_loss: 0.8259 - val_acc: 0.7177\n",
            "Epoch 13/20\n",
            "31616/50000 [=================>............] - ETA: 4s - loss: 0.9281 - acc: 0.7038"
          ],
          "name": "stdout"
        },
        {
          "output_type": "stream",
          "text": [
            "50000/50000 [==============================] - 14s 271us/step - loss: 0.9279 - acc: 0.7061 - val_loss: 0.7981 - val_acc: 0.7230\n",
            "Epoch 14/20\n",
            "50000/50000 [==============================] - 14s 271us/step - loss: 0.9165 - acc: 0.7122 - val_loss: 0.8186 - val_acc: 0.7178\n",
            "Epoch 15/20\n",
            "30336/50000 [=================>............] - ETA: 5s - loss: 0.9137 - acc: 0.7141"
          ],
          "name": "stdout"
        },
        {
          "output_type": "stream",
          "text": [
            "50000/50000 [==============================] - 14s 271us/step - loss: 0.9142 - acc: 0.7156 - val_loss: 0.7904 - val_acc: 0.7304\n",
            "Epoch 16/20\n",
            "50000/50000 [==============================] - 14s 271us/step - loss: 0.8983 - acc: 0.7215 - val_loss: 0.7975 - val_acc: 0.7263\n",
            "Epoch 17/20\n",
            "30592/50000 [=================>............] - ETA: 4s - loss: 0.8922 - acc: 0.7212"
          ],
          "name": "stdout"
        },
        {
          "output_type": "stream",
          "text": [
            "50000/50000 [==============================] - 13s 269us/step - loss: 0.8971 - acc: 0.7208 - val_loss: 0.8827 - val_acc: 0.7031\n",
            "Epoch 18/20\n",
            "50000/50000 [==============================] - 14s 272us/step - loss: 0.8931 - acc: 0.7271 - val_loss: 0.7853 - val_acc: 0.7354\n",
            "Epoch 19/20\n",
            "30336/50000 [=================>............] - ETA: 5s - loss: 0.8523 - acc: 0.7269"
          ],
          "name": "stdout"
        },
        {
          "output_type": "stream",
          "text": [
            "50000/50000 [==============================] - 14s 274us/step - loss: 0.8657 - acc: 0.7264 - val_loss: 0.9021 - val_acc: 0.6983\n",
            "Epoch 20/20\n",
            "50000/50000 [==============================] - 14s 272us/step - loss: 0.8700 - acc: 0.7293 - val_loss: 0.8100 - val_acc: 0.7270\n",
            "Train on 50000 samples, validate on 10000 samples\n",
            "Epoch 1/20\n",
            "27776/50000 [===============>..............] - ETA: 6s - loss: 0.9950 - acc: 0.6723"
          ],
          "name": "stdout"
        },
        {
          "output_type": "stream",
          "text": [
            "50000/50000 [==============================] - 15s 299us/step - loss: 0.9966 - acc: 0.6692 - val_loss: 0.9223 - val_acc: 0.6798\n",
            "Epoch 2/20\n",
            "50000/50000 [==============================] - 14s 270us/step - loss: 0.9783 - acc: 0.6761 - val_loss: 0.8901 - val_acc: 0.6927\n",
            "Epoch 3/20\n",
            "28032/50000 [===============>..............] - ETA: 5s - loss: 0.9604 - acc: 0.6836"
          ],
          "name": "stdout"
        },
        {
          "output_type": "stream",
          "text": [
            "50000/50000 [==============================] - 14s 273us/step - loss: 0.9607 - acc: 0.6826 - val_loss: 0.8818 - val_acc: 0.6909\n",
            "Epoch 4/20\n",
            "50000/50000 [==============================] - 14s 273us/step - loss: 0.9519 - acc: 0.6821 - val_loss: 0.8703 - val_acc: 0.6985\n",
            "Epoch 5/20\n",
            "31104/50000 [=================>............] - ETA: 4s - loss: 0.9320 - acc: 0.6888"
          ],
          "name": "stdout"
        },
        {
          "output_type": "stream",
          "text": [
            "50000/50000 [==============================] - 14s 272us/step - loss: 0.9363 - acc: 0.6886 - val_loss: 0.9113 - val_acc: 0.6847\n",
            "Epoch 6/20\n",
            "50000/50000 [==============================] - 14s 271us/step - loss: 0.9278 - acc: 0.6931 - val_loss: 0.8359 - val_acc: 0.7129\n",
            "Epoch 7/20\n",
            "29184/50000 [================>.............] - ETA: 5s - loss: 0.9226 - acc: 0.6952"
          ],
          "name": "stdout"
        },
        {
          "output_type": "stream",
          "text": [
            "50000/50000 [==============================] - 14s 274us/step - loss: 0.9142 - acc: 0.6978 - val_loss: 0.8259 - val_acc: 0.7147\n",
            "Epoch 8/20\n",
            "50000/50000 [==============================] - 14s 275us/step - loss: 0.8948 - acc: 0.7007 - val_loss: 0.8455 - val_acc: 0.7048\n",
            "Epoch 9/20\n",
            "28544/50000 [================>.............] - ETA: 5s - loss: 0.8910 - acc: 0.7061\b\b\b\b\b\b\b\b\b\b\b\b\b\b\b\b\b\b\b\b\b\b\b\b\b\b\b\b\b\b\b\b\b\b\b\b\b\b\b\b\b\b\b\b\b\b\b\b\b\b\b\b\b\b\b\b\b\b\b\b\b\b\b\b\b\b\b\b\b\b\b\b\b\b\b\b\b\b\b\b\b\b\b"
          ],
          "name": "stdout"
        },
        {
          "output_type": "stream",
          "text": [
            "50000/50000 [==============================] - 14s 276us/step - loss: 0.8985 - acc: 0.7053 - val_loss: 0.8358 - val_acc: 0.7160\n",
            "Epoch 10/20\n",
            "50000/50000 [==============================] - 14s 274us/step - loss: 0.8842 - acc: 0.7093 - val_loss: 0.8027 - val_acc: 0.7247\n",
            "Epoch 11/20\n",
            "29568/50000 [================>.............] - ETA: 5s - loss: 0.8518 - acc: 0.7147"
          ],
          "name": "stdout"
        },
        {
          "output_type": "stream",
          "text": [
            "50000/50000 [==============================] - 14s 277us/step - loss: 0.8608 - acc: 0.7139 - val_loss: 0.7991 - val_acc: 0.7238\n",
            "Epoch 12/20\n",
            "50000/50000 [==============================] - 14s 277us/step - loss: 0.8593 - acc: 0.7163 - val_loss: 0.7970 - val_acc: 0.7238\n",
            "Epoch 13/20\n",
            "29440/50000 [================>.............] - ETA: 5s - loss: 0.8674 - acc: 0.7158"
          ],
          "name": "stdout"
        },
        {
          "output_type": "stream",
          "text": [
            "50000/50000 [==============================] - 14s 278us/step - loss: 0.8618 - acc: 0.7187 - val_loss: 0.7799 - val_acc: 0.7335\n",
            "Epoch 14/20\n",
            "50000/50000 [==============================] - 14s 276us/step - loss: 0.8346 - acc: 0.7216 - val_loss: 0.7820 - val_acc: 0.7310\n",
            "Epoch 15/20\n",
            "31232/50000 [=================>............] - ETA: 4s - loss: 0.8294 - acc: 0.7271"
          ],
          "name": "stdout"
        },
        {
          "output_type": "stream",
          "text": [
            "50000/50000 [==============================] - 14s 281us/step - loss: 0.8272 - acc: 0.7277 - val_loss: 0.7726 - val_acc: 0.7324\n",
            "Epoch 16/20\n",
            "50000/50000 [==============================] - 14s 279us/step - loss: 0.8091 - acc: 0.7313 - val_loss: 0.7724 - val_acc: 0.7341\n",
            "Epoch 17/20\n",
            "30592/50000 [=================>............] - ETA: 5s - loss: 0.8111 - acc: 0.7340"
          ],
          "name": "stdout"
        },
        {
          "output_type": "stream",
          "text": [
            "50000/50000 [==============================] - 14s 277us/step - loss: 0.8151 - acc: 0.7335 - val_loss: 0.7683 - val_acc: 0.7365\n",
            "Epoch 18/20\n",
            "50000/50000 [==============================] - 14s 271us/step - loss: 0.8033 - acc: 0.7369 - val_loss: 0.7512 - val_acc: 0.7404\n",
            "Epoch 19/20\n",
            "28032/50000 [===============>..............] - ETA: 5s - loss: 0.7926 - acc: 0.7403"
          ],
          "name": "stdout"
        },
        {
          "output_type": "stream",
          "text": [
            "50000/50000 [==============================] - 14s 271us/step - loss: 0.7941 - acc: 0.7381 - val_loss: 0.7466 - val_acc: 0.7455\n",
            "Epoch 20/20\n",
            "50000/50000 [==============================] - 14s 270us/step - loss: 0.7820 - acc: 0.7440 - val_loss: 0.7355 - val_acc: 0.7488\n"
          ],
          "name": "stdout"
        }
      ]
    },
    {
      "metadata": {
        "id": "fVUkk-43uWML",
        "colab_type": "code",
        "colab": {
          "base_uri": "https://localhost:8080/",
          "height": 459
        },
        "outputId": "1e4d46a0-26cc-49dd-bc1e-75a83e9350df"
      },
      "cell_type": "code",
      "source": [
        "# Load models and print results\n",
        "for e in [0.5,0.1,0.05,0.02,0.01]:\n",
        "    model = keras.models.load_model('cifra10_n'+str(e)+'.h5')\n",
        "    print('\\n  - Gaussian Noise with '+str(e)+' stdev:')\n",
        "    scores = model.evaluate(x_test, y_test, verbose=0)\n",
        "    print('\\tTest loss:\\t', scores[0])\n",
        "    print('\\tTest accuracy:\\t', scores[1])\n",
        "    \n",
        "# Load and print of the best loss and accuracy obtained\n",
        "model = keras.models.load_model(\"cifra10_n0.02.h5\")\n",
        "print('\\n\\nBest results:')\n",
        "print('  - Gaussian Noise with 0.02 stdev:')\n",
        "scores = model.evaluate(x_test, y_test, verbose=0)\n",
        "print('\\tTest loss:\\t', scores[0])\n",
        "print('\\tTest accuracy:\\t', scores[1])"
      ],
      "execution_count": 17,
      "outputs": [
        {
          "output_type": "stream",
          "text": [
            "\n",
            "  - Gaussian Noise with 0.5 stdev:\n",
            "\tTest loss:\t 1.4783432458877563\n",
            "\tTest accuracy:\t 0.6273\n",
            "\n",
            "  - Gaussian Noise with 0.1 stdev:\n",
            "\tTest loss:\t 0.8635457564353943\n",
            "\tTest accuracy:\t 0.7043\n",
            "\n",
            "  - Gaussian Noise with 0.05 stdev:\n",
            "\tTest loss:\t 0.8434040348052978\n",
            "\tTest accuracy:\t 0.7109\n",
            "\n",
            "  - Gaussian Noise with 0.02 stdev:\n",
            "\tTest loss:\t 0.809952991771698\n",
            "\tTest accuracy:\t 0.727\n",
            "\n",
            "  - Gaussian Noise with 0.01 stdev:\n",
            "\tTest loss:\t 0.7354572436332703\n",
            "\tTest accuracy:\t 0.7488\n",
            "\n",
            "\n",
            "Best results:\n",
            "  - Gaussian Noise with 0.02 stdev:\n",
            "\tTest loss:\t 0.809952991771698\n",
            "\tTest accuracy:\t 0.727\n"
          ],
          "name": "stdout"
        }
      ]
    },
    {
      "metadata": {
        "id": "JsJqBNCqmTso",
        "colab_type": "text"
      },
      "cell_type": "markdown",
      "source": [
        "### 2) Add layers to the network to see if can improve performance"
      ]
    },
    {
      "metadata": {
        "id": "W-q-pZF-mTso",
        "colab_type": "text"
      },
      "cell_type": "markdown",
      "source": [
        "#### First model: batch normalization"
      ]
    },
    {
      "metadata": {
        "id": "f2KL0hWjuWMO",
        "colab_type": "code",
        "colab": {
          "base_uri": "https://localhost:8080/",
          "height": 734
        },
        "outputId": "60ac699b-2ac6-42a1-da13-dbb1ead011af"
      },
      "cell_type": "code",
      "source": [
        "from keras.layers.normalization import BatchNormalization\n",
        "\n",
        "model = Sequential()\n",
        "\n",
        "model.add(Conv2D(32, (3, 3), padding='same',\n",
        "                 input_shape=x_train.shape[1:]))\n",
        "\n",
        "model.add(BatchNormalization())\n",
        "\n",
        "model.add(Activation('relu'))\n",
        "model.add(Conv2D(32, (3, 3)))\n",
        "\n",
        "model.add(BatchNormalization())\n",
        "\n",
        "model.add(Activation('relu'))\n",
        "model.add(MaxPooling2D(pool_size=(2, 2)))\n",
        "model.add(Dropout(0.25))\n",
        "\n",
        "model.add(Conv2D(64, (3, 3), padding='same'))\n",
        "\n",
        "model.add(BatchNormalization())\n",
        "\n",
        "model.add(Activation('relu'))\n",
        "model.add(Conv2D(64, (3, 3)))\n",
        "\n",
        "model.add(BatchNormalization())\n",
        "\n",
        "model.add(Activation('relu'))\n",
        "model.add(MaxPooling2D(pool_size=(2, 2)))\n",
        "model.add(Dropout(0.25))\n",
        "\n",
        "model.add(Flatten())\n",
        "model.add(Dense(512))\n",
        "model.add(Activation('relu'))\n",
        "model.add(Dropout(0.5))\n",
        "model.add(Dense(num_classes))\n",
        "model.add(Activation('softmax'))\n",
        "\n",
        "model.compile(loss='categorical_crossentropy',\n",
        "              optimizer=opt,\n",
        "                metrics=['accuracy'])\n",
        "model.fit(x_train, y_train,\n",
        "            batch_size=batch_size,\n",
        "            epochs=epochs,\n",
        "            validation_data=(x_test, y_test),\n",
        "            shuffle=True)\n",
        "\n",
        "model.save('cifra10_batch.h5')\n"
      ],
      "execution_count": 18,
      "outputs": [
        {
          "output_type": "stream",
          "text": [
            "Train on 50000 samples, validate on 10000 samples\n",
            "Epoch 1/20\n",
            "50000/50000 [==============================] - 21s 429us/step - loss: 1.9740 - acc: 0.2997 - val_loss: 1.5177 - val_acc: 0.4549\n",
            "Epoch 2/20\n",
            "50000/50000 [==============================] - 19s 370us/step - loss: 1.5783 - acc: 0.4229 - val_loss: 1.4144 - val_acc: 0.4909\n",
            "Epoch 3/20\n",
            " 3072/50000 [>.............................] - ETA: 16s - loss: 1.4976 - acc: 0.4502"
          ],
          "name": "stdout"
        },
        {
          "output_type": "stream",
          "text": [
            "50000/50000 [==============================] - 19s 377us/step - loss: 1.4466 - acc: 0.4774 - val_loss: 1.2602 - val_acc: 0.5471\n",
            "Epoch 4/20\n",
            "50000/50000 [==============================] - 18s 365us/step - loss: 1.3561 - acc: 0.5111 - val_loss: 1.2602 - val_acc: 0.5517\n",
            "Epoch 5/20\n",
            "25600/50000 [==============>...............] - ETA: 8s - loss: 1.2975 - acc: 0.5344"
          ],
          "name": "stdout"
        },
        {
          "output_type": "stream",
          "text": [
            "50000/50000 [==============================] - 18s 369us/step - loss: 1.2847 - acc: 0.5400 - val_loss: 1.1074 - val_acc: 0.6093\n",
            "Epoch 6/20\n",
            "50000/50000 [==============================] - 18s 368us/step - loss: 1.2142 - acc: 0.5655 - val_loss: 1.1484 - val_acc: 0.5939\n",
            "Epoch 7/20\n",
            "31104/50000 [=================>............] - ETA: 6s - loss: 1.1615 - acc: 0.5832"
          ],
          "name": "stdout"
        },
        {
          "output_type": "stream",
          "text": [
            "50000/50000 [==============================] - 18s 365us/step - loss: 1.1526 - acc: 0.5880 - val_loss: 1.0022 - val_acc: 0.6477\n",
            "Epoch 8/20\n",
            "50000/50000 [==============================] - 18s 367us/step - loss: 1.1000 - acc: 0.6082 - val_loss: 0.9663 - val_acc: 0.6614\n",
            "Epoch 9/20\n",
            "32768/50000 [==================>...........] - ETA: 5s - loss: 1.0502 - acc: 0.6259"
          ],
          "name": "stdout"
        },
        {
          "output_type": "stream",
          "text": [
            "50000/50000 [==============================] - 18s 366us/step - loss: 1.0478 - acc: 0.6268 - val_loss: 0.9367 - val_acc: 0.6709\n",
            "Epoch 10/20\n",
            "50000/50000 [==============================] - 18s 364us/step - loss: 1.0060 - acc: 0.6409 - val_loss: 0.9728 - val_acc: 0.6590\n",
            "Epoch 11/20\n",
            "32640/50000 [==================>...........] - ETA: 5s - loss: 0.9759 - acc: 0.6542"
          ],
          "name": "stdout"
        },
        {
          "output_type": "stream",
          "text": [
            "50000/50000 [==============================] - 18s 367us/step - loss: 0.9728 - acc: 0.6564 - val_loss: 0.8689 - val_acc: 0.6989\n",
            "Epoch 12/20\n",
            "50000/50000 [==============================] - 19s 372us/step - loss: 0.9328 - acc: 0.6684 - val_loss: 0.8626 - val_acc: 0.6951\n",
            "Epoch 13/20\n",
            "30336/50000 [=================>............] - ETA: 6s - loss: 0.9149 - acc: 0.6770"
          ],
          "name": "stdout"
        },
        {
          "output_type": "stream",
          "text": [
            "50000/50000 [==============================] - 18s 368us/step - loss: 0.9107 - acc: 0.6791 - val_loss: 0.8522 - val_acc: 0.7028\n",
            "Epoch 14/20\n",
            "50000/50000 [==============================] - 18s 366us/step - loss: 0.8729 - acc: 0.6928 - val_loss: 0.8268 - val_acc: 0.7134\n",
            "Epoch 15/20\n",
            "31488/50000 [=================>............] - ETA: 6s - loss: 0.8543 - acc: 0.6981"
          ],
          "name": "stdout"
        },
        {
          "output_type": "stream",
          "text": [
            "50000/50000 [==============================] - 18s 366us/step - loss: 0.8518 - acc: 0.7000 - val_loss: 0.8909 - val_acc: 0.6888\n",
            "Epoch 16/20\n",
            "50000/50000 [==============================] - 18s 365us/step - loss: 0.8348 - acc: 0.7042 - val_loss: 0.8392 - val_acc: 0.7082\n",
            "Epoch 17/20\n",
            "31616/50000 [=================>............] - ETA: 6s - loss: 0.8192 - acc: 0.7125"
          ],
          "name": "stdout"
        },
        {
          "output_type": "stream",
          "text": [
            "50000/50000 [==============================] - 18s 366us/step - loss: 0.8116 - acc: 0.7155 - val_loss: 0.7811 - val_acc: 0.7275\n",
            "Epoch 18/20\n",
            "50000/50000 [==============================] - 18s 367us/step - loss: 0.7879 - acc: 0.7214 - val_loss: 0.9236 - val_acc: 0.6898\n",
            "Epoch 19/20\n",
            "31104/50000 [=================>............] - ETA: 6s - loss: 0.7789 - acc: 0.7260"
          ],
          "name": "stdout"
        },
        {
          "output_type": "stream",
          "text": [
            "50000/50000 [==============================] - 19s 370us/step - loss: 0.7756 - acc: 0.7258 - val_loss: 0.8088 - val_acc: 0.7243\n",
            "Epoch 20/20\n",
            "50000/50000 [==============================] - 18s 369us/step - loss: 0.7515 - acc: 0.7370 - val_loss: 0.7678 - val_acc: 0.7365\n"
          ],
          "name": "stdout"
        }
      ]
    },
    {
      "metadata": {
        "id": "L-1gJhvUuWMR",
        "colab_type": "code",
        "colab": {
          "base_uri": "https://localhost:8080/",
          "height": 272
        },
        "outputId": "144f8054-4c9c-40b3-9630-8ce41bcc525c"
      },
      "cell_type": "code",
      "source": [
        "\n",
        "model = keras.models.load_model('cifra10_batch.h5')\n",
        "print('\\n  - Model with Batch Normalization:')\n",
        "scores = model.evaluate(x_test, y_test, verbose=0)\n",
        "print('\\tTest loss:\\t', scores[0])\n",
        "print('\\tTest accuracy:\\t', scores[1])\n",
        "\n",
        "Y_pred = model.predict(x_test, verbose=2)\n",
        "cm = confusion_matrix(np.argmax(y_test,axis=1),np.argmax(Y_pred, axis=1))\n",
        "print('\\tConfusion Matrix:\\t')\n",
        "print(cm)"
      ],
      "execution_count": 19,
      "outputs": [
        {
          "output_type": "stream",
          "text": [
            "\n",
            "  - Model with Batch Normalization:\n",
            "\tTest loss:\t 0.7677783198356628\n",
            "\tTest accuracy:\t 0.7365\n",
            "\tConfusion Matrix:\t\n",
            "[[652  14  56  37  38   9  12  19  96  67]\n",
            " [  4 774   4  12   9   9  20   6  32 130]\n",
            " [ 44   2 496 103 138  89  81  24  11  12]\n",
            " [  8   2  23 615  69 176  71  20   7   9]\n",
            " [  6   0  17  72 779  33  50  33   8   2]\n",
            " [  5   1   9 198  59 679  14  33   1   1]\n",
            " [  2   0  16  61  29  27 860   3   2   0]\n",
            " [  3   0   8  44  81  74   6 774   3   7]\n",
            " [ 20  18   7  25  11   9   6   2 878  24]\n",
            " [ 13  38   4  13  14  10   7  13  30 858]]\n"
          ],
          "name": "stdout"
        }
      ]
    },
    {
      "metadata": {
        "id": "MmxET6jumTsx",
        "colab_type": "text"
      },
      "cell_type": "markdown",
      "source": [
        "#### Second model: regularizer"
      ]
    },
    {
      "metadata": {
        "id": "ptxx_FTouWMU",
        "colab_type": "code",
        "colab": {
          "base_uri": "https://localhost:8080/",
          "height": 734
        },
        "outputId": "97096b9c-d601-42d4-e36f-3ff4fed7f944"
      },
      "cell_type": "code",
      "source": [
        "from keras.layers.normalization import BatchNormalization\n",
        "from keras import regularizers\n",
        "\n",
        "weight_decay = 1e-4\n",
        "\n",
        "model = Sequential()\n",
        "\n",
        "model.add(Conv2D(32, (3, 3), padding='same',\n",
        "                 input_shape=x_train.shape[1:]))\n",
        "\n",
        "model.add(Activation('relu'))\n",
        "model.add(Conv2D(32, (3, 3)))\n",
        "model.add(Activation('relu'))\n",
        "model.add(MaxPooling2D(pool_size=(2, 2)))\n",
        "model.add(Dropout(0.25))\n",
        "\n",
        "model.add(Conv2D(64, (3, 3), padding='same', kernel_regularizer=regularizers.l2(weight_decay)))\n",
        "model.add(Activation('relu'))\n",
        "model.add(Conv2D(64, (3, 3), kernel_regularizer=regularizers.l2(weight_decay)))\n",
        "model.add(Activation('relu'))\n",
        "model.add(MaxPooling2D(pool_size=(2, 2)))\n",
        "model.add(Dropout(0.25))\n",
        "\n",
        "model.add(Flatten())\n",
        "model.add(Dense(512))\n",
        "model.add(Activation('relu'))\n",
        "model.add(Dropout(0.5))\n",
        "model.add(Dense(num_classes))\n",
        "model.add(Activation('softmax'))\n",
        "\n",
        "model.compile(loss='categorical_crossentropy',\n",
        "              optimizer=opt,\n",
        "                metrics=['accuracy'])\n",
        "model.fit(x_train, y_train,\n",
        "            batch_size=batch_size,\n",
        "            epochs=epochs,\n",
        "            validation_data=(x_test, y_test),\n",
        "            shuffle=True)\n",
        "\n",
        "model.save('cifra10_regL2.h5')"
      ],
      "execution_count": 20,
      "outputs": [
        {
          "output_type": "stream",
          "text": [
            "Train on 50000 samples, validate on 10000 samples\n",
            "Epoch 1/20\n",
            "50000/50000 [==============================] - 16s 322us/step - loss: 1.9914 - acc: 0.2747 - val_loss: 1.7675 - val_acc: 0.3713\n",
            "Epoch 2/20\n",
            "50000/50000 [==============================] - 14s 281us/step - loss: 1.6977 - acc: 0.3872 - val_loss: 1.5543 - val_acc: 0.4453\n",
            "Epoch 3/20\n",
            " 5248/50000 [==>...........................] - ETA: 11s - loss: 1.6367 - acc: 0.4059"
          ],
          "name": "stdout"
        },
        {
          "output_type": "stream",
          "text": [
            "50000/50000 [==============================] - 14s 277us/step - loss: 1.5844 - acc: 0.4289 - val_loss: 1.4826 - val_acc: 0.4710\n",
            "Epoch 4/20\n",
            "50000/50000 [==============================] - 14s 279us/step - loss: 1.5024 - acc: 0.4603 - val_loss: 1.3937 - val_acc: 0.5070\n",
            "Epoch 5/20\n",
            "25728/50000 [==============>...............] - ETA: 6s - loss: 1.4529 - acc: 0.4773"
          ],
          "name": "stdout"
        },
        {
          "output_type": "stream",
          "text": [
            "50000/50000 [==============================] - 14s 280us/step - loss: 1.4393 - acc: 0.4835 - val_loss: 1.3528 - val_acc: 0.5171\n",
            "Epoch 6/20\n",
            "50000/50000 [==============================] - 14s 273us/step - loss: 1.3878 - acc: 0.5038 - val_loss: 1.3348 - val_acc: 0.5230\n",
            "Epoch 7/20\n",
            "28800/50000 [================>.............] - ETA: 5s - loss: 1.3558 - acc: 0.5169"
          ],
          "name": "stdout"
        },
        {
          "output_type": "stream",
          "text": [
            "50000/50000 [==============================] - 14s 276us/step - loss: 1.3420 - acc: 0.5215 - val_loss: 1.2523 - val_acc: 0.5599\n",
            "Epoch 8/20\n",
            "50000/50000 [==============================] - 14s 278us/step - loss: 1.3025 - acc: 0.5393 - val_loss: 1.2629 - val_acc: 0.5478\n",
            "Epoch 9/20\n",
            "28544/50000 [================>.............] - ETA: 5s - loss: 1.2677 - acc: 0.5520"
          ],
          "name": "stdout"
        },
        {
          "output_type": "stream",
          "text": [
            "50000/50000 [==============================] - 14s 275us/step - loss: 1.2664 - acc: 0.5525 - val_loss: 1.2043 - val_acc: 0.5753\n",
            "Epoch 10/20\n",
            "50000/50000 [==============================] - 14s 276us/step - loss: 1.2343 - acc: 0.5663 - val_loss: 1.1654 - val_acc: 0.5924\n",
            "Epoch 11/20\n",
            "29312/50000 [================>.............] - ETA: 5s - loss: 1.1994 - acc: 0.5787"
          ],
          "name": "stdout"
        },
        {
          "output_type": "stream",
          "text": [
            "50000/50000 [==============================] - 14s 281us/step - loss: 1.2010 - acc: 0.5776 - val_loss: 1.1767 - val_acc: 0.5929\n",
            "Epoch 12/20\n",
            "50000/50000 [==============================] - 14s 286us/step - loss: 1.1708 - acc: 0.5897 - val_loss: 1.1215 - val_acc: 0.6095\n",
            "Epoch 13/20\n",
            "30208/50000 [=================>............] - ETA: 5s - loss: 1.1416 - acc: 0.6026"
          ],
          "name": "stdout"
        },
        {
          "output_type": "stream",
          "text": [
            "50000/50000 [==============================] - 14s 287us/step - loss: 1.1432 - acc: 0.6019 - val_loss: 1.0666 - val_acc: 0.6273\n",
            "Epoch 14/20\n",
            "50000/50000 [==============================] - 14s 283us/step - loss: 1.1170 - acc: 0.6106 - val_loss: 1.0436 - val_acc: 0.6411\n",
            "Epoch 15/20\n",
            "31104/50000 [=================>............] - ETA: 5s - loss: 1.0912 - acc: 0.6192"
          ],
          "name": "stdout"
        },
        {
          "output_type": "stream",
          "text": [
            "50000/50000 [==============================] - 14s 281us/step - loss: 1.0899 - acc: 0.6214 - val_loss: 1.0521 - val_acc: 0.6398\n",
            "Epoch 16/20\n",
            "50000/50000 [==============================] - 14s 284us/step - loss: 1.0726 - acc: 0.6278 - val_loss: 1.0147 - val_acc: 0.6502\n",
            "Epoch 17/20\n",
            "30464/50000 [=================>............] - ETA: 5s - loss: 1.0606 - acc: 0.6332"
          ],
          "name": "stdout"
        },
        {
          "output_type": "stream",
          "text": [
            "50000/50000 [==============================] - 14s 283us/step - loss: 1.0515 - acc: 0.6354 - val_loss: 0.9949 - val_acc: 0.6575\n",
            "Epoch 18/20\n",
            "50000/50000 [==============================] - 14s 283us/step - loss: 1.0303 - acc: 0.6419 - val_loss: 0.9667 - val_acc: 0.6704\n",
            "Epoch 19/20\n",
            "32896/50000 [==================>...........] - ETA: 4s - loss: 1.0048 - acc: 0.6498"
          ],
          "name": "stdout"
        },
        {
          "output_type": "stream",
          "text": [
            "50000/50000 [==============================] - 14s 282us/step - loss: 1.0096 - acc: 0.6483 - val_loss: 0.9837 - val_acc: 0.6621\n",
            "Epoch 20/20\n",
            "50000/50000 [==============================] - 14s 282us/step - loss: 0.9918 - acc: 0.6543 - val_loss: 0.9333 - val_acc: 0.6795\n"
          ],
          "name": "stdout"
        }
      ]
    },
    {
      "metadata": {
        "id": "kdaY9vZpuWMa",
        "colab_type": "code",
        "colab": {
          "base_uri": "https://localhost:8080/",
          "height": 272
        },
        "outputId": "ed991007-00a5-4c5c-e6d7-4b072b29ced5"
      },
      "cell_type": "code",
      "source": [
        "model= keras.models.load_model('cifra10_regL2.h5')\n",
        "print('\\n  - regularizer L2:')\n",
        "scores = model.evaluate(x_test, y_test, verbose=0)\n",
        "print('\\tTest loss:\\t', scores[0])\n",
        "print('\\tTest accuracy:\\t', scores[1])\n",
        "\n",
        "Y_pred = model.predict(x_test, verbose=2)\n",
        "cm = confusion_matrix(np.argmax(y_test,axis=1),np.argmax(Y_pred, axis=1))\n",
        "print('\\tConfusion Matrix:\\t')\n",
        "print(cm)"
      ],
      "execution_count": 21,
      "outputs": [
        {
          "output_type": "stream",
          "text": [
            "\n",
            "  - regularizer L2:\n",
            "\tTest loss:\t 0.9333020919799805\n",
            "\tTest accuracy:\t 0.6795\n",
            "\tConfusion Matrix:\t\n",
            "[[700  36  52  21   9  14  20  10  95  43]\n",
            " [ 21 826   3   9   2   4  14   3  29  89]\n",
            " [ 76  10 503  56 105  86  92  35  20  17]\n",
            " [ 15  11  77 427  61 209 114  40  19  27]\n",
            " [ 27   4  74  43 561  57 110 106  15   3]\n",
            " [ 11   5  56 124  40 655  46  45   7  11]\n",
            " [  9   6  39  36  31  24 827  11   5  12]\n",
            " [ 19   4  31  38  53  86  14 723   6  26]\n",
            " [ 61  45  15   7   4   6   9   2 814  37]\n",
            " [ 33 109   9  12   8   4  16  19  31 759]]\n"
          ],
          "name": "stdout"
        }
      ]
    },
    {
      "metadata": {
        "id": "XRymftMOmTs3",
        "colab_type": "text"
      },
      "cell_type": "markdown",
      "source": [
        "### 3) Try another method for dealing with overfitting"
      ]
    },
    {
      "metadata": {
        "id": "S7i58d-1uWMc",
        "colab_type": "code",
        "colab": {
          "base_uri": "https://localhost:8080/",
          "height": 734
        },
        "outputId": "40d55c5b-45ba-459f-c7eb-1d7e27f050ae"
      },
      "cell_type": "code",
      "source": [
        "from keras.layers.normalization import BatchNormalization\n",
        "from keras import regularizers\n",
        "\n",
        "weight_decay = 1e-4\n",
        "\n",
        "model = Sequential()\n",
        "\n",
        "model.add(Conv2D(32, (3, 3), padding='same',\n",
        "                 input_shape=x_train.shape[1:]))\n",
        "\n",
        "model.add(BatchNormalization())\n",
        "\n",
        "model.add(Activation('relu'))\n",
        "model.add(Conv2D(32, (3, 3)))\n",
        "\n",
        "model.add(BatchNormalization())\n",
        "\n",
        "model.add(Activation('relu'))\n",
        "model.add(MaxPooling2D(pool_size=(2, 2)))\n",
        "model.add(Dropout(0.25))\n",
        "\n",
        "model.add(Conv2D(64, (3, 3), padding='same', kernel_regularizer=regularizers.l2(weight_decay)))\n",
        "\n",
        "model.add(BatchNormalization())\n",
        "\n",
        "model.add(Activation('relu'))\n",
        "model.add(Conv2D(64, (3, 3), kernel_regularizer=regularizers.l2(weight_decay)))\n",
        "\n",
        "model.add(BatchNormalization())\n",
        "\n",
        "model.add(Activation('relu'))\n",
        "model.add(MaxPooling2D(pool_size=(2, 2)))\n",
        "model.add(Dropout(0.25))\n",
        "\n",
        "model.add(Flatten())\n",
        "model.add(Dense(512))\n",
        "model.add(Activation('relu'))\n",
        "model.add(Dropout(0.5))\n",
        "model.add(Dense(num_classes))\n",
        "model.add(Activation('softmax'))\n",
        "\n",
        "model.compile(loss='categorical_crossentropy',\n",
        "              optimizer=opt,\n",
        "                metrics=['accuracy'])\n",
        "model.fit(x_train, y_train,\n",
        "            batch_size=batch_size,\n",
        "            epochs=epochs,\n",
        "            validation_data=(x_test, y_test),\n",
        "            shuffle=True)\n",
        "\n",
        "model.save('cifra10_batch_regL2.h5')"
      ],
      "execution_count": 22,
      "outputs": [
        {
          "output_type": "stream",
          "text": [
            "Train on 50000 samples, validate on 10000 samples\n",
            "Epoch 1/20\n",
            "50000/50000 [==============================] - 23s 460us/step - loss: 1.9712 - acc: 0.3017 - val_loss: 1.5671 - val_acc: 0.4336\n",
            "Epoch 2/20\n",
            "49536/50000 [============================>.] - ETA: 0s - loss: 1.5809 - acc: 0.4282"
          ],
          "name": "stdout"
        },
        {
          "output_type": "stream",
          "text": [
            "50000/50000 [==============================] - 19s 378us/step - loss: 1.5796 - acc: 0.4287 - val_loss: 1.3653 - val_acc: 0.5095\n",
            "Epoch 3/20\n",
            "50000/50000 [==============================] - 19s 375us/step - loss: 1.4432 - acc: 0.4850 - val_loss: 1.3360 - val_acc: 0.5239\n",
            "Epoch 4/20\n",
            "36096/50000 [====================>.........] - ETA: 4s - loss: 1.3671 - acc: 0.5135"
          ],
          "name": "stdout"
        },
        {
          "output_type": "stream",
          "text": [
            "50000/50000 [==============================] - 18s 366us/step - loss: 1.3585 - acc: 0.5157 - val_loss: 1.2537 - val_acc: 0.5539\n",
            "Epoch 5/20\n",
            "50000/50000 [==============================] - 18s 364us/step - loss: 1.2891 - acc: 0.5448 - val_loss: 1.1363 - val_acc: 0.6038\n",
            "Epoch 6/20\n",
            "34944/50000 [===================>..........] - ETA: 5s - loss: 1.2304 - acc: 0.5660"
          ],
          "name": "stdout"
        },
        {
          "output_type": "stream",
          "text": [
            "50000/50000 [==============================] - 18s 361us/step - loss: 1.2193 - acc: 0.5698 - val_loss: 1.1096 - val_acc: 0.6114\n",
            "Epoch 7/20\n",
            "50000/50000 [==============================] - 18s 363us/step - loss: 1.1713 - acc: 0.5870 - val_loss: 1.0484 - val_acc: 0.6338\n",
            "Epoch 8/20\n",
            "34304/50000 [===================>..........] - ETA: 5s - loss: 1.1230 - acc: 0.6037"
          ],
          "name": "stdout"
        },
        {
          "output_type": "stream",
          "text": [
            "50000/50000 [==============================] - 18s 363us/step - loss: 1.1163 - acc: 0.6051 - val_loss: 1.0196 - val_acc: 0.6398\n",
            "Epoch 9/20\n",
            "50000/50000 [==============================] - 18s 362us/step - loss: 1.0674 - acc: 0.6253 - val_loss: 0.9619 - val_acc: 0.6624\n",
            "Epoch 10/20\n",
            "33664/50000 [===================>..........] - ETA: 5s - loss: 1.0315 - acc: 0.6371"
          ],
          "name": "stdout"
        },
        {
          "output_type": "stream",
          "text": [
            "50000/50000 [==============================] - 18s 364us/step - loss: 1.0279 - acc: 0.6390 - val_loss: 0.9230 - val_acc: 0.6802\n",
            "Epoch 11/20\n",
            "50000/50000 [==============================] - 18s 364us/step - loss: 0.9964 - acc: 0.6519 - val_loss: 0.9402 - val_acc: 0.6727\n",
            "Epoch 12/20\n",
            "34048/50000 [===================>..........] - ETA: 5s - loss: 0.9647 - acc: 0.6623"
          ],
          "name": "stdout"
        },
        {
          "output_type": "stream",
          "text": [
            "50000/50000 [==============================] - 18s 367us/step - loss: 0.9610 - acc: 0.6648 - val_loss: 0.8788 - val_acc: 0.6943\n",
            "Epoch 13/20\n",
            "50000/50000 [==============================] - 18s 365us/step - loss: 0.9343 - acc: 0.6735 - val_loss: 0.8759 - val_acc: 0.6955\n",
            "Epoch 14/20\n",
            "33152/50000 [==================>...........] - ETA: 5s - loss: 0.9081 - acc: 0.6822"
          ],
          "name": "stdout"
        },
        {
          "output_type": "stream",
          "text": [
            "50000/50000 [==============================] - 18s 370us/step - loss: 0.9101 - acc: 0.6819 - val_loss: 0.8369 - val_acc: 0.7076\n",
            "Epoch 15/20\n",
            "50000/50000 [==============================] - 18s 369us/step - loss: 0.8866 - acc: 0.6897 - val_loss: 0.8433 - val_acc: 0.7059\n",
            "Epoch 16/20\n",
            "32000/50000 [==================>...........] - ETA: 6s - loss: 0.8689 - acc: 0.6983"
          ],
          "name": "stdout"
        },
        {
          "output_type": "stream",
          "text": [
            "50000/50000 [==============================] - 18s 370us/step - loss: 0.8667 - acc: 0.6991 - val_loss: 0.7807 - val_acc: 0.7315\n",
            "Epoch 17/20\n",
            "50000/50000 [==============================] - 18s 369us/step - loss: 0.8454 - acc: 0.7041 - val_loss: 0.7916 - val_acc: 0.7242\n",
            "Epoch 18/20\n",
            "32384/50000 [==================>...........] - ETA: 6s - loss: 0.8211 - acc: 0.7132"
          ],
          "name": "stdout"
        },
        {
          "output_type": "stream",
          "text": [
            "50000/50000 [==============================] - 18s 367us/step - loss: 0.8249 - acc: 0.7120 - val_loss: 0.7565 - val_acc: 0.7384\n",
            "Epoch 19/20\n",
            "50000/50000 [==============================] - 18s 366us/step - loss: 0.8069 - acc: 0.7196 - val_loss: 0.8221 - val_acc: 0.7177\n",
            "Epoch 20/20\n",
            "33664/50000 [===================>..........] - ETA: 5s - loss: 0.7873 - acc: 0.7258"
          ],
          "name": "stdout"
        },
        {
          "output_type": "stream",
          "text": [
            "50000/50000 [==============================] - 18s 369us/step - loss: 0.7902 - acc: 0.7248 - val_loss: 0.7412 - val_acc: 0.7442\n"
          ],
          "name": "stdout"
        }
      ]
    },
    {
      "metadata": {
        "id": "jpd39SHkuWMf",
        "colab_type": "code",
        "colab": {
          "base_uri": "https://localhost:8080/",
          "height": 85
        },
        "outputId": "5a0c8de5-10c0-4159-f49d-838cb96fbbfb"
      },
      "cell_type": "code",
      "source": [
        "model.save('cifra10_batch_regL2.h5')\n",
        "print('\\n  - Model with batch normalization and regularizer:')\n",
        "scores = model.evaluate(x_test, y_test, verbose=0)\n",
        "print('\\tTest loss:\\t', scores[0])\n",
        "print('\\tTest accuracy:\\t', scores[1])"
      ],
      "execution_count": 23,
      "outputs": [
        {
          "output_type": "stream",
          "text": [
            "\n",
            "  - Model with batch normalization and regularizer:\n",
            "\tTest loss:\t 0.741171202468872\n",
            "\tTest accuracy:\t 0.7442\n"
          ],
          "name": "stdout"
        }
      ]
    },
    {
      "metadata": {
        "id": "mxwsz6ZUuWMh",
        "colab_type": "code",
        "colab": {
          "base_uri": "https://localhost:8080/",
          "height": 734
        },
        "outputId": "0fba1856-3345-4d1b-cec1-5b4e0db9481e"
      },
      "cell_type": "code",
      "source": [
        "model = keras.models.load_model('cifra10_batch.h5')\n",
        "model.add(keras.layers.GaussianNoise(0.01))\n",
        "model.compile(loss='categorical_crossentropy',\n",
        "              optimizer=opt,\n",
        "                metrics=['accuracy'])\n",
        "model.fit(x_train, y_train,\n",
        "            batch_size=batch_size,\n",
        "            epochs=epochs,\n",
        "            validation_data=(x_test, y_test),\n",
        "            shuffle=True)\n",
        "model.save('cifra10_batch_n0.01.h5')"
      ],
      "execution_count": 24,
      "outputs": [
        {
          "output_type": "stream",
          "text": [
            "Train on 50000 samples, validate on 10000 samples\n",
            "Epoch 1/20\n",
            "50000/50000 [==============================] - 22s 450us/step - loss: 0.7906 - acc: 0.7374 - val_loss: 0.7849 - val_acc: 0.7295\n",
            "Epoch 2/20\n",
            "50000/50000 [==============================] - 18s 366us/step - loss: 0.7871 - acc: 0.7414 - val_loss: 0.7306 - val_acc: 0.7518\n",
            "Epoch 3/20\n",
            " 1408/50000 [..............................] - ETA: 16s - loss: 0.7760 - acc: 0.7393"
          ],
          "name": "stdout"
        },
        {
          "output_type": "stream",
          "text": [
            "50000/50000 [==============================] - 18s 370us/step - loss: 0.7684 - acc: 0.7458 - val_loss: 0.7336 - val_acc: 0.7472\n",
            "Epoch 4/20\n",
            "50000/50000 [==============================] - 18s 368us/step - loss: 0.7650 - acc: 0.7470 - val_loss: 0.7358 - val_acc: 0.7494\n",
            "Epoch 5/20\n",
            "24960/50000 [=============>................] - ETA: 8s - loss: 0.7389 - acc: 0.7535"
          ],
          "name": "stdout"
        },
        {
          "output_type": "stream",
          "text": [
            "50000/50000 [==============================] - 18s 365us/step - loss: 0.7528 - acc: 0.7521 - val_loss: 0.7010 - val_acc: 0.7613\n",
            "Epoch 6/20\n",
            "50000/50000 [==============================] - 18s 368us/step - loss: 0.7430 - acc: 0.7567 - val_loss: 0.8109 - val_acc: 0.7279\n",
            "Epoch 7/20\n",
            "30464/50000 [=================>............] - ETA: 6s - loss: 0.7277 - acc: 0.7580"
          ],
          "name": "stdout"
        },
        {
          "output_type": "stream",
          "text": [
            "50000/50000 [==============================] - 18s 369us/step - loss: 0.7253 - acc: 0.7587 - val_loss: 0.6730 - val_acc: 0.7674\n",
            "Epoch 8/20\n",
            "50000/50000 [==============================] - 19s 372us/step - loss: 0.7248 - acc: 0.7660 - val_loss: 0.6886 - val_acc: 0.7610\n",
            "Epoch 9/20\n",
            "30208/50000 [=================>............] - ETA: 6s - loss: 0.6948 - acc: 0.7682"
          ],
          "name": "stdout"
        },
        {
          "output_type": "stream",
          "text": [
            "50000/50000 [==============================] - 19s 374us/step - loss: 0.7075 - acc: 0.7658 - val_loss: 0.7130 - val_acc: 0.7557\n",
            "Epoch 10/20\n",
            "50000/50000 [==============================] - 19s 370us/step - loss: 0.6985 - acc: 0.7703 - val_loss: 0.7365 - val_acc: 0.7492\n",
            "Epoch 11/20\n",
            "28672/50000 [================>.............] - ETA: 7s - loss: 0.6882 - acc: 0.7743"
          ],
          "name": "stdout"
        },
        {
          "output_type": "stream",
          "text": [
            "50000/50000 [==============================] - 20s 394us/step - loss: 0.6938 - acc: 0.7731 - val_loss: 0.6836 - val_acc: 0.7663\n",
            "Epoch 12/20\n",
            "50000/50000 [==============================] - 18s 369us/step - loss: 0.6840 - acc: 0.7771 - val_loss: 0.6573 - val_acc: 0.7736\n",
            "Epoch 13/20\n",
            "30080/50000 [=================>............] - ETA: 6s - loss: 0.6703 - acc: 0.7775"
          ],
          "name": "stdout"
        },
        {
          "output_type": "stream",
          "text": [
            "50000/50000 [==============================] - 19s 370us/step - loss: 0.6703 - acc: 0.7776 - val_loss: 0.6487 - val_acc: 0.7783\n",
            "Epoch 14/20\n",
            "50000/50000 [==============================] - 19s 372us/step - loss: 0.6606 - acc: 0.7848 - val_loss: 0.6580 - val_acc: 0.7764\n",
            "Epoch 15/20\n",
            "29824/50000 [================>.............] - ETA: 7s - loss: 0.6634 - acc: 0.7836"
          ],
          "name": "stdout"
        },
        {
          "output_type": "stream",
          "text": [
            "50000/50000 [==============================] - 19s 371us/step - loss: 0.6654 - acc: 0.7829 - val_loss: 0.6608 - val_acc: 0.7703\n",
            "Epoch 16/20\n",
            "50000/50000 [==============================] - 19s 371us/step - loss: 0.6557 - acc: 0.7863 - val_loss: 0.6736 - val_acc: 0.7708\n",
            "Epoch 17/20\n",
            "30080/50000 [=================>............] - ETA: 6s - loss: 0.6368 - acc: 0.7903"
          ],
          "name": "stdout"
        },
        {
          "output_type": "stream",
          "text": [
            "50000/50000 [==============================] - 19s 370us/step - loss: 0.6393 - acc: 0.7889 - val_loss: 0.6606 - val_acc: 0.7732\n",
            "Epoch 18/20\n",
            "50000/50000 [==============================] - 19s 372us/step - loss: 0.6301 - acc: 0.7923 - val_loss: 0.6260 - val_acc: 0.7845\n",
            "Epoch 19/20\n",
            "29440/50000 [================>.............] - ETA: 7s - loss: 0.6302 - acc: 0.7950"
          ],
          "name": "stdout"
        },
        {
          "output_type": "stream",
          "text": [
            "50000/50000 [==============================] - 19s 372us/step - loss: 0.6328 - acc: 0.7941 - val_loss: 0.6621 - val_acc: 0.7774\n",
            "Epoch 20/20\n",
            "50000/50000 [==============================] - 19s 371us/step - loss: 0.6183 - acc: 0.7972 - val_loss: 0.6950 - val_acc: 0.7682\n"
          ],
          "name": "stdout"
        }
      ]
    },
    {
      "metadata": {
        "id": "gmCzNoVQuWMl",
        "colab_type": "code",
        "colab": {
          "base_uri": "https://localhost:8080/",
          "height": 85
        },
        "outputId": "5d5ab786-8ac8-4bf0-c67d-8c22b310591c"
      },
      "cell_type": "code",
      "source": [
        "model = keras.models.load_model('cifra10_batch_n0.01.h5')\n",
        "\n",
        "print('\\n  - Model with Batch Normalization and Gaussian Noise with 0.01 stdev:')\n",
        "scores = model.evaluate(x_test, y_test, verbose=0)\n",
        "print('\\tTest loss:\\t', scores[0])\n",
        "print('\\tTest accuracy:\\t', scores[1])"
      ],
      "execution_count": 25,
      "outputs": [
        {
          "output_type": "stream",
          "text": [
            "\n",
            "  - Model with Batch Normalization and Gaussian Noise with 0.01 stdev:\n",
            "\tTest loss:\t 0.6949894082069397\n",
            "\tTest accuracy:\t 0.7682\n"
          ],
          "name": "stdout"
        }
      ]
    }
  ]
}