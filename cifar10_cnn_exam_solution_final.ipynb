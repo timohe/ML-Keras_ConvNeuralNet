{
  "nbformat": 4,
  "nbformat_minor": 0,
  "metadata": {
    "colab": {
      "name": "cifar10_cnn_exam_solution.ipynb",
      "version": "0.3.2",
      "provenance": []
    },
    "kernelspec": {
      "display_name": "Python 3",
      "language": "python",
      "name": "python3"
    },
    "accelerator": "GPU"
  },
  "cells": [
    {
      "metadata": {
        "id": "CwL1HaHTuWLt",
        "colab_type": "text"
      },
      "cell_type": "markdown",
      "source": [
        "# CIFAR10 with CNN\n",
        "code from https://github.com/fchollet/keras/blob/master/examples/mnist_cnn.py\n"
      ]
    },
    {
      "metadata": {
        "id": "tkM8NCnJuWLv",
        "colab_type": "raw"
      },
      "cell_type": "markdown",
      "source": [
        "This notebook trains a simple convolutional neural network on the CIFAR10 small images dataset. \n",
        "\n"
      ]
    },
    {
      "metadata": {
        "id": "S8UZFSsBuWLv",
        "colab_type": "code",
        "colab": {
          "base_uri": "https://localhost:8080/",
          "height": 34
        },
        "outputId": "f56f6feb-a7ef-4de1-89cb-b2fcba20b6ac"
      },
      "cell_type": "code",
      "source": [
        "# import libraries\n",
        "from __future__ import print_function\n",
        "from __future__ import print_function\n",
        "import keras\n",
        "from keras.datasets import cifar10\n",
        "from keras.models import Sequential\n",
        "from keras.layers import Dense, Dropout, Activation, Flatten\n",
        "from keras.layers import Conv2D, MaxPooling2D\n",
        "\n",
        "#for confusion matrix\n",
        "import numpy as np\n",
        "import sklearn\n",
        "from sklearn.metrics import confusion_matrix\n"
      ],
      "execution_count": 1,
      "outputs": [
        {
          "output_type": "stream",
          "text": [
            "Using TensorFlow backend.\n"
          ],
          "name": "stderr"
        }
      ]
    },
    {
      "metadata": {
        "id": "HX32-SrFuWL0",
        "colab_type": "text"
      },
      "cell_type": "markdown",
      "source": [
        "Prepare data"
      ]
    },
    {
      "metadata": {
        "id": "o07n3FvbuWL0",
        "colab_type": "code",
        "colab": {
          "base_uri": "https://localhost:8080/",
          "height": 122
        },
        "outputId": "53ef3a9a-c5c6-4bb7-f715-e736a3f2a58c"
      },
      "cell_type": "code",
      "source": [
        "# define constants\n",
        "batch_size = 128\n",
        "num_classes = 10\n",
        "epochs = 20\n",
        "\n",
        "\n",
        "# The data, shuffled and split between train and test sets:\n",
        "(x_train, y_train), (x_test, y_test) = cifar10.load_data()\n",
        "print('x_train shape:', x_train.shape)\n",
        "print(x_train.shape[0], 'train samples')\n",
        "print(x_test.shape[0], 'test samples')\n",
        "\n",
        "# Convert class vectors to binary class matrices.\n",
        "y_train = keras.utils.to_categorical(y_train, num_classes)\n",
        "y_test = keras.utils.to_categorical(y_test, num_classes)\n",
        "\n",
        "# Cast features into correct data type then scale features\n",
        "x_train = x_train.astype('float32')\n",
        "x_test = x_test.astype('float32')\n",
        "x_train /= 255\n",
        "x_test /= 255"
      ],
      "execution_count": 2,
      "outputs": [
        {
          "output_type": "stream",
          "text": [
            "Downloading data from https://www.cs.toronto.edu/~kriz/cifar-10-python.tar.gz\n",
            "128819200/170498071 [=====================>........] - ETA: 13s"
          ],
          "name": "stdout"
        },
        {
          "output_type": "stream",
          "text": [
            "170500096/170498071 [==============================] - 55s 0us/step\n",
            "x_train shape: (50000, 32, 32, 3)\n",
            "50000 train samples\n",
            "10000 test samples\n"
          ],
          "name": "stdout"
        }
      ]
    },
    {
      "metadata": {
        "id": "cW5LnHj5uWL3",
        "colab_type": "text"
      },
      "cell_type": "markdown",
      "source": [
        "Define model"
      ]
    },
    {
      "metadata": {
        "id": "YYl_mjtUuWL4",
        "colab_type": "code",
        "colab": {
          "base_uri": "https://localhost:8080/",
          "height": 17
        },
        "outputId": "b92ce5a1-37f8-4a17-af1b-aabc5550cf4b"
      },
      "cell_type": "code",
      "source": [
        "model = Sequential()\n",
        "\n",
        "model.add(Conv2D(32, (3, 3), padding='same',\n",
        "                 input_shape=x_train.shape[1:]))\n",
        "model.add(Activation('relu'))\n",
        "model.add(Conv2D(32, (3, 3)))\n",
        "model.add(Activation('relu'))\n",
        "model.add(MaxPooling2D(pool_size=(2, 2)))\n",
        "model.add(Dropout(0.25))\n",
        "\n",
        "model.add(Conv2D(64, (3, 3), padding='same'))\n",
        "model.add(Activation('relu'))\n",
        "model.add(Conv2D(64, (3, 3)))\n",
        "model.add(Activation('relu'))\n",
        "model.add(MaxPooling2D(pool_size=(2, 2)))\n",
        "model.add(Dropout(0.25))\n",
        "\n",
        "model.add(Flatten())\n",
        "model.add(Dense(512))\n",
        "model.add(Activation('relu'))\n",
        "model.add(Dropout(0.5))\n",
        "model.add(Dense(num_classes))\n",
        "model.add(Activation('softmax'))\n"
      ],
      "execution_count": 3,
      "outputs": []
    },
    {
      "metadata": {
        "id": "MSNoYmMFuWL5",
        "colab_type": "text"
      },
      "cell_type": "markdown",
      "source": [
        "Show model structure"
      ]
    },
    {
      "metadata": {
        "id": "CF1UH3FsuWL6",
        "colab_type": "code",
        "colab": {
          "base_uri": "https://localhost:8080/",
          "height": 748
        },
        "outputId": "2822b719-0232-4099-db5c-c468fd382337"
      },
      "cell_type": "code",
      "source": [
        "model.summary()"
      ],
      "execution_count": 4,
      "outputs": [
        {
          "output_type": "stream",
          "text": [
            "_________________________________________________________________\n",
            "Layer (type)                 Output Shape              Param #   \n",
            "=================================================================\n",
            "conv2d_1 (Conv2D)            (None, 32, 32, 32)        896       \n",
            "_________________________________________________________________\n",
            "activation_1 (Activation)    (None, 32, 32, 32)        0         \n",
            "_________________________________________________________________\n",
            "conv2d_2 (Conv2D)            (None, 30, 30, 32)        9248      \n",
            "_________________________________________________________________\n",
            "activation_2 (Activation)    (None, 30, 30, 32)        0         \n",
            "_________________________________________________________________\n",
            "max_pooling2d_1 (MaxPooling2 (None, 15, 15, 32)        0         \n",
            "_________________________________________________________________\n",
            "dropout_1 (Dropout)          (None, 15, 15, 32)        0         \n",
            "_________________________________________________________________\n",
            "conv2d_3 (Conv2D)            (None, 15, 15, 64)        18496     \n",
            "_________________________________________________________________\n",
            "activation_3 (Activation)    (None, 15, 15, 64)        0         \n",
            "_________________________________________________________________\n",
            "conv2d_4 (Conv2D)            (None, 13, 13, 64)        36928     \n",
            "_________________________________________________________________\n",
            "activation_4 (Activation)    (None, 13, 13, 64)        0         \n",
            "_________________________________________________________________\n",
            "max_pooling2d_2 (MaxPooling2 (None, 6, 6, 64)          0         \n",
            "_________________________________________________________________\n",
            "dropout_2 (Dropout)          (None, 6, 6, 64)          0         \n",
            "_________________________________________________________________\n",
            "flatten_1 (Flatten)          (None, 2304)              0         \n",
            "_________________________________________________________________\n",
            "dense_1 (Dense)              (None, 512)               1180160   \n",
            "_________________________________________________________________\n",
            "activation_5 (Activation)    (None, 512)               0         \n",
            "_________________________________________________________________\n",
            "dropout_3 (Dropout)          (None, 512)               0         \n",
            "_________________________________________________________________\n",
            "dense_2 (Dense)              (None, 10)                5130      \n",
            "_________________________________________________________________\n",
            "activation_6 (Activation)    (None, 10)                0         \n",
            "=================================================================\n",
            "Total params: 1,250,858\n",
            "Trainable params: 1,250,858\n",
            "Non-trainable params: 0\n",
            "_________________________________________________________________\n"
          ],
          "name": "stdout"
        }
      ]
    },
    {
      "metadata": {
        "id": "5LrNtCcXuWL9",
        "colab_type": "text"
      },
      "cell_type": "markdown",
      "source": [
        "Compile model and fit\n"
      ]
    },
    {
      "metadata": {
        "id": "j--3W_mEuWL9",
        "colab_type": "code",
        "colab": {
          "base_uri": "https://localhost:8080/",
          "height": 768
        },
        "outputId": "20558dbe-de91-4bd4-a7d3-db630bd3d669"
      },
      "cell_type": "code",
      "source": [
        "# initiate RMSprop optimizer\n",
        "opt = keras.optimizers.rmsprop(lr=0.0001, decay=1e-6)\n",
        "\n",
        "# Let's train the model using RMSprop\n",
        "model.compile(loss='categorical_crossentropy',\n",
        "              optimizer=opt,\n",
        "                metrics=['accuracy'])\n",
        "\n",
        "\n",
        "model.fit(x_train, y_train,\n",
        "            batch_size=batch_size,\n",
        "            epochs=epochs,\n",
        "            validation_data=(x_test, y_test),\n",
        "            shuffle=True)\n",
        "\n",
        "\n"
      ],
      "execution_count": 5,
      "outputs": [
        {
          "output_type": "stream",
          "text": [
            "WARNING:tensorflow:Variable *= will be deprecated. Use variable.assign_mul if you want assignment to the variable value or 'x = x * y' if you want a new python Tensor object.\n",
            "Train on 50000 samples, validate on 10000 samples\n",
            "Epoch 1/20\n",
            "50000/50000 [==============================] - 15s 299us/step - loss: 1.9845 - acc: 0.2725 - val_loss: 1.7605 - val_acc: 0.3747\n",
            "Epoch 2/20\n",
            "20096/50000 [===========>..................] - ETA: 7s - loss: 1.7347 - acc: 0.3730"
          ],
          "name": "stdout"
        },
        {
          "output_type": "stream",
          "text": [
            "50000/50000 [==============================] - 13s 254us/step - loss: 1.6884 - acc: 0.3879 - val_loss: 1.5469 - val_acc: 0.4465\n",
            "Epoch 3/20\n",
            "50000/50000 [==============================] - 13s 255us/step - loss: 1.5577 - acc: 0.4357 - val_loss: 1.4386 - val_acc: 0.4792\n",
            "Epoch 4/20\n",
            "32640/50000 [==================>...........] - ETA: 4s - loss: 1.4776 - acc: 0.4654"
          ],
          "name": "stdout"
        },
        {
          "output_type": "stream",
          "text": [
            "50000/50000 [==============================] - 13s 254us/step - loss: 1.4652 - acc: 0.4698 - val_loss: 1.3518 - val_acc: 0.5235\n",
            "Epoch 5/20\n",
            "50000/50000 [==============================] - 13s 254us/step - loss: 1.3975 - acc: 0.4974 - val_loss: 1.2912 - val_acc: 0.5516\n",
            "Epoch 6/20\n",
            "35712/50000 [====================>.........] - ETA: 3s - loss: 1.3477 - acc: 0.5171"
          ],
          "name": "stdout"
        },
        {
          "output_type": "stream",
          "text": [
            "50000/50000 [==============================] - 13s 254us/step - loss: 1.3438 - acc: 0.5193 - val_loss: 1.2509 - val_acc: 0.5613\n",
            "Epoch 7/20\n",
            "50000/50000 [==============================] - 13s 255us/step - loss: 1.2942 - acc: 0.5385 - val_loss: 1.2208 - val_acc: 0.5738\n",
            "Epoch 8/20\n",
            "36224/50000 [====================>.........] - ETA: 3s - loss: 1.2558 - acc: 0.5528"
          ],
          "name": "stdout"
        },
        {
          "output_type": "stream",
          "text": [
            "50000/50000 [==============================] - 13s 254us/step - loss: 1.2527 - acc: 0.5546 - val_loss: 1.1599 - val_acc: 0.5951\n",
            "Epoch 9/20\n",
            "50000/50000 [==============================] - 13s 253us/step - loss: 1.2137 - acc: 0.5707 - val_loss: 1.1712 - val_acc: 0.5840\n",
            "Epoch 10/20\n",
            "36224/50000 [====================>.........] - ETA: 3s - loss: 1.1846 - acc: 0.5803"
          ],
          "name": "stdout"
        },
        {
          "output_type": "stream",
          "text": [
            "50000/50000 [==============================] - 13s 254us/step - loss: 1.1815 - acc: 0.5821 - val_loss: 1.1172 - val_acc: 0.6121\n",
            "Epoch 11/20\n",
            "50000/50000 [==============================] - 13s 254us/step - loss: 1.1432 - acc: 0.5940 - val_loss: 1.0926 - val_acc: 0.6161\n",
            "Epoch 12/20\n",
            "36224/50000 [====================>.........] - ETA: 3s - loss: 1.1221 - acc: 0.6036"
          ],
          "name": "stdout"
        },
        {
          "output_type": "stream",
          "text": [
            "50000/50000 [==============================] - 13s 255us/step - loss: 1.1193 - acc: 0.6050 - val_loss: 1.0563 - val_acc: 0.6302\n",
            "Epoch 13/20\n",
            "50000/50000 [==============================] - 13s 254us/step - loss: 1.0895 - acc: 0.6177 - val_loss: 1.0108 - val_acc: 0.6507\n",
            "Epoch 14/20\n",
            "36224/50000 [====================>.........] - ETA: 3s - loss: 1.0707 - acc: 0.6280"
          ],
          "name": "stdout"
        },
        {
          "output_type": "stream",
          "text": [
            "50000/50000 [==============================] - 13s 254us/step - loss: 1.0640 - acc: 0.6295 - val_loss: 0.9830 - val_acc: 0.6568\n",
            "Epoch 15/20\n",
            "50000/50000 [==============================] - 13s 254us/step - loss: 1.0371 - acc: 0.6348 - val_loss: 0.9806 - val_acc: 0.6592\n",
            "Epoch 16/20\n",
            "36224/50000 [====================>.........] - ETA: 3s - loss: 1.0101 - acc: 0.6438"
          ],
          "name": "stdout"
        },
        {
          "output_type": "stream",
          "text": [
            "50000/50000 [==============================] - 13s 255us/step - loss: 1.0079 - acc: 0.6442 - val_loss: 0.9853 - val_acc: 0.6592\n",
            "Epoch 17/20\n",
            "50000/50000 [==============================] - 13s 254us/step - loss: 0.9938 - acc: 0.6543 - val_loss: 0.9555 - val_acc: 0.6681\n",
            "Epoch 18/20\n",
            "36224/50000 [====================>.........] - ETA: 3s - loss: 0.9723 - acc: 0.6618"
          ],
          "name": "stdout"
        },
        {
          "output_type": "stream",
          "text": [
            "50000/50000 [==============================] - 13s 255us/step - loss: 0.9709 - acc: 0.6621 - val_loss: 0.9164 - val_acc: 0.6788\n",
            "Epoch 19/20\n",
            "50000/50000 [==============================] - 13s 254us/step - loss: 0.9521 - acc: 0.6700 - val_loss: 0.9011 - val_acc: 0.6851\n",
            "Epoch 20/20\n",
            "36224/50000 [====================>.........] - ETA: 3s - loss: 0.9393 - acc: 0.6689"
          ],
          "name": "stdout"
        },
        {
          "output_type": "stream",
          "text": [
            "50000/50000 [==============================] - 13s 254us/step - loss: 0.9348 - acc: 0.6706 - val_loss: 0.8952 - val_acc: 0.6874\n"
          ],
          "name": "stdout"
        },
        {
          "output_type": "execute_result",
          "data": {
            "text/plain": [
              "<keras.callbacks.History at 0x7f262e4dcbe0>"
            ]
          },
          "metadata": {
            "tags": []
          },
          "execution_count": 5
        }
      ]
    },
    {
      "metadata": {
        "id": "TnqygMfpuWMF",
        "colab_type": "code",
        "colab": {
          "base_uri": "https://localhost:8080/",
          "height": 17
        },
        "outputId": "5f247333-e0a8-4999-e8f2-340390961756"
      },
      "cell_type": "code",
      "source": [
        "# Save the original model\n",
        "model.save('cifra10_base.h5')"
      ],
      "execution_count": 6,
      "outputs": []
    },
    {
      "metadata": {
        "id": "qjAnVrbjuWMH",
        "colab_type": "code",
        "colab": {
          "base_uri": "https://localhost:8080/",
          "height": 272
        },
        "outputId": "91d5c9f1-2b2d-4350-91ed-98a1fc8302e7"
      },
      "cell_type": "code",
      "source": [
        "# Print base model loss and accuracy\n",
        "print('\\n  - Base case:')\n",
        "model = keras.models.load_model(\"cifra10_base.h5\")\n",
        "scores = model.evaluate(x_test, y_test, verbose=0)\n",
        "print('\\tTest loss:\\t', scores[0])\n",
        "print('\\tTest accuracy:\\t', scores[1])\n",
        "Y_pred = model.predict(x_test, verbose=2)\n",
        "cm = confusion_matrix(np.argmax(y_test,axis=1),np.argmax(Y_pred, axis=1))\n",
        "print('\\tConfusion Matrix:\\t')\n",
        "print(cm)"
      ],
      "execution_count": 7,
      "outputs": [
        {
          "output_type": "stream",
          "text": [
            "\n",
            "  - Base case:\n",
            "\tTest loss:\t 0.8952444440841675\n",
            "\tTest accuracy:\t 0.6874\n",
            "\tConfusion Matrix:\t\n",
            "[[711  14  61  24  20  15   9  11 111  24]\n",
            " [ 24 806  16  11   6  10  14  10  46  57]\n",
            " [ 60   2 560  84 128  71  45  27  18   5]\n",
            " [ 19   7  79 527  95 164  49  31  20   9]\n",
            " [ 24   3  79  60 676  38  41  63  15   1]\n",
            " [ 11   2  62 185  64 603  20  46   6   1]\n",
            " [  5   3  56  86  65  22 748   9   6   0]\n",
            " [ 13   0  38  53  86  78   6 718   5   3]\n",
            " [ 56  28  21  19   8   9   6   4 838  11]\n",
            " [ 34 111  10  30  10  12  14  30  62 687]]\n"
          ],
          "name": "stdout"
        }
      ]
    },
    {
      "metadata": {
        "id": "Yt0xEddBmTsk",
        "colab_type": "text"
      },
      "cell_type": "markdown",
      "source": [
        "### 1) Augment the data by adding noise."
      ]
    },
    {
      "metadata": {
        "id": "AMBbUhcTuWMJ",
        "colab_type": "code",
        "colab": {
          "base_uri": "https://localhost:8080/",
          "height": 3522
        },
        "outputId": "2391f106-f9ff-4336-85e2-5b8e1a4ff5ff"
      },
      "cell_type": "code",
      "source": [
        "# Save models with gaussian noise with different Standard Deviation\n",
        "for e in [0.5,0.1,0.05,0.02,0.01]:  \n",
        "  model = Sequential()\n",
        "  model.add(Conv2D(32, (3, 3), padding='same',input_shape=x_train.shape[1:]))\n",
        "  model.add(Activation('relu'))\n",
        "  model.add(Conv2D(32, (3, 3)))\n",
        "  model.add(Activation('relu'))\n",
        "  model.add(MaxPooling2D(pool_size=(2, 2)))\n",
        "  model.add(Dropout(0.25))\n",
        "  \n",
        "  #Add noise\n",
        "  model.add(keras.layers.GaussianNoise(e))\n",
        "\n",
        "  model.add(Conv2D(64, (3, 3), padding='same'))\n",
        "  model.add(Activation('relu'))\n",
        "  model.add(Conv2D(64, (3, 3)))\n",
        "  model.add(Activation('relu'))\n",
        "  model.add(MaxPooling2D(pool_size=(2, 2)))\n",
        "  model.add(Dropout(0.25))\n",
        "\n",
        "  model.add(Flatten())\n",
        "  model.add(Dense(512))\n",
        "  model.add(Activation('relu'))\n",
        "  model.add(Dropout(0.5))\n",
        "  model.add(Dense(num_classes))\n",
        "  model.add(Activation('softmax'))\n",
        "  \n",
        "  model.compile(loss='categorical_crossentropy', optimizer=opt, metrics=['accuracy'])\n",
        "  model.fit(x_train, y_train,\n",
        "                batch_size=batch_size,\n",
        "                epochs=epochs,\n",
        "                validation_data=(x_test, y_test),\n",
        "                shuffle=True)\n",
        "  model.save('cifra10_n'+str(e)+'.h5')"
      ],
      "execution_count": 8,
      "outputs": [
        {
          "output_type": "stream",
          "text": [
            "Train on 50000 samples, validate on 10000 samples\n",
            "Epoch 1/20\n",
            "50000/50000 [==============================] - 13s 268us/step - loss: 2.2115 - acc: 0.1662 - val_loss: 2.2241 - val_acc: 0.1296\n",
            "Epoch 2/20\n",
            "50000/50000 [==============================] - 13s 259us/step - loss: 2.0178 - acc: 0.2522 - val_loss: 2.0662 - val_acc: 0.2066\n",
            "Epoch 3/20\n",
            " 9344/50000 [====>.........................] - ETA: 9s - loss: 1.9427 - acc: 0.2996"
          ],
          "name": "stdout"
        },
        {
          "output_type": "stream",
          "text": [
            "50000/50000 [==============================] - 13s 257us/step - loss: 1.8989 - acc: 0.3068 - val_loss: 1.9736 - val_acc: 0.2445\n",
            "Epoch 4/20\n",
            "50000/50000 [==============================] - 13s 258us/step - loss: 1.7955 - acc: 0.3478 - val_loss: 1.8317 - val_acc: 0.3065\n",
            "Epoch 5/20\n",
            "30080/50000 [=================>............] - ETA: 4s - loss: 1.7326 - acc: 0.3697"
          ],
          "name": "stdout"
        },
        {
          "output_type": "stream",
          "text": [
            "50000/50000 [==============================] - 13s 257us/step - loss: 1.7205 - acc: 0.3750 - val_loss: 1.7812 - val_acc: 0.3455\n",
            "Epoch 6/20\n",
            "50000/50000 [==============================] - 13s 258us/step - loss: 1.6579 - acc: 0.3996 - val_loss: 1.7605 - val_acc: 0.3634\n",
            "Epoch 7/20\n",
            "34944/50000 [===================>..........] - ETA: 3s - loss: 1.6179 - acc: 0.4129"
          ],
          "name": "stdout"
        },
        {
          "output_type": "stream",
          "text": [
            "50000/50000 [==============================] - 13s 258us/step - loss: 1.6157 - acc: 0.4145 - val_loss: 1.7088 - val_acc: 0.3829\n",
            "Epoch 8/20\n",
            "50000/50000 [==============================] - 13s 259us/step - loss: 1.5738 - acc: 0.4311 - val_loss: 1.6556 - val_acc: 0.4119\n",
            "Epoch 9/20\n",
            "36224/50000 [====================>.........] - ETA: 3s - loss: 1.5313 - acc: 0.4474"
          ],
          "name": "stdout"
        },
        {
          "output_type": "stream",
          "text": [
            "50000/50000 [==============================] - 13s 257us/step - loss: 1.5302 - acc: 0.4489 - val_loss: 1.7012 - val_acc: 0.3922\n",
            "Epoch 10/20\n",
            "50000/50000 [==============================] - 13s 258us/step - loss: 1.4928 - acc: 0.4628 - val_loss: 1.5811 - val_acc: 0.4320\n",
            "Epoch 11/20\n",
            "36224/50000 [====================>.........] - ETA: 3s - loss: 1.4634 - acc: 0.4747"
          ],
          "name": "stdout"
        },
        {
          "output_type": "stream",
          "text": [
            "50000/50000 [==============================] - 13s 257us/step - loss: 1.4598 - acc: 0.4750 - val_loss: 1.5718 - val_acc: 0.4345\n",
            "Epoch 12/20\n",
            "50000/50000 [==============================] - 13s 259us/step - loss: 1.4324 - acc: 0.4847 - val_loss: 1.5369 - val_acc: 0.4431\n",
            "Epoch 13/20\n",
            "35968/50000 [====================>.........] - ETA: 3s - loss: 1.4044 - acc: 0.4984"
          ],
          "name": "stdout"
        },
        {
          "output_type": "stream",
          "text": [
            "50000/50000 [==============================] - 13s 257us/step - loss: 1.4028 - acc: 0.4979 - val_loss: 1.5109 - val_acc: 0.4598\n",
            "Epoch 14/20\n",
            "50000/50000 [==============================] - 13s 258us/step - loss: 1.3765 - acc: 0.5075 - val_loss: 1.4610 - val_acc: 0.4710\n",
            "Epoch 15/20\n",
            "35968/50000 [====================>.........] - ETA: 3s - loss: 1.3587 - acc: 0.5160"
          ],
          "name": "stdout"
        },
        {
          "output_type": "stream",
          "text": [
            "50000/50000 [==============================] - 13s 259us/step - loss: 1.3530 - acc: 0.5178 - val_loss: 1.3861 - val_acc: 0.4946\n",
            "Epoch 16/20\n",
            "50000/50000 [==============================] - 13s 258us/step - loss: 1.3314 - acc: 0.5220 - val_loss: 1.4568 - val_acc: 0.4812\n",
            "Epoch 17/20\n",
            "35968/50000 [====================>.........] - ETA: 3s - loss: 1.3121 - acc: 0.5352"
          ],
          "name": "stdout"
        },
        {
          "output_type": "stream",
          "text": [
            "50000/50000 [==============================] - 13s 258us/step - loss: 1.3111 - acc: 0.5350 - val_loss: 1.3617 - val_acc: 0.5074\n",
            "Epoch 18/20\n",
            "50000/50000 [==============================] - 13s 259us/step - loss: 1.2896 - acc: 0.5410 - val_loss: 1.4421 - val_acc: 0.4901\n",
            "Epoch 19/20\n",
            "35712/50000 [====================>.........] - ETA: 3s - loss: 1.2695 - acc: 0.5489"
          ],
          "name": "stdout"
        },
        {
          "output_type": "stream",
          "text": [
            "50000/50000 [==============================] - 13s 259us/step - loss: 1.2671 - acc: 0.5495 - val_loss: 1.3299 - val_acc: 0.5142\n",
            "Epoch 20/20\n",
            "50000/50000 [==============================] - 13s 260us/step - loss: 1.2525 - acc: 0.5553 - val_loss: 1.3347 - val_acc: 0.5230\n",
            "Train on 50000 samples, validate on 10000 samples\n",
            "Epoch 1/20\n",
            "31360/50000 [=================>............] - ETA: 4s - loss: 2.1499 - acc: 0.1959"
          ],
          "name": "stdout"
        },
        {
          "output_type": "stream",
          "text": [
            "50000/50000 [==============================] - 13s 266us/step - loss: 2.0633 - acc: 0.2392 - val_loss: 1.8500 - val_acc: 0.3499\n",
            "Epoch 2/20\n",
            "50000/50000 [==============================] - 13s 257us/step - loss: 1.7818 - acc: 0.3581 - val_loss: 1.6655 - val_acc: 0.4120\n",
            "Epoch 3/20\n",
            "35456/50000 [====================>.........] - ETA: 3s - loss: 1.6666 - acc: 0.4001"
          ],
          "name": "stdout"
        },
        {
          "output_type": "stream",
          "text": [
            "50000/50000 [==============================] - 13s 256us/step - loss: 1.6550 - acc: 0.4049 - val_loss: 1.5881 - val_acc: 0.4310\n",
            "Epoch 4/20\n",
            "50000/50000 [==============================] - 13s 257us/step - loss: 1.5657 - acc: 0.4341 - val_loss: 1.4561 - val_acc: 0.4793\n",
            "Epoch 5/20\n",
            "36224/50000 [====================>.........] - ETA: 3s - loss: 1.4990 - acc: 0.4619"
          ],
          "name": "stdout"
        },
        {
          "output_type": "stream",
          "text": [
            "50000/50000 [==============================] - 13s 258us/step - loss: 1.4931 - acc: 0.4631 - val_loss: 1.4898 - val_acc: 0.4718\n",
            "Epoch 6/20\n",
            "50000/50000 [==============================] - 13s 257us/step - loss: 1.4419 - acc: 0.4803 - val_loss: 1.3711 - val_acc: 0.5160\n",
            "Epoch 7/20\n",
            "36480/50000 [====================>.........] - ETA: 3s - loss: 1.3923 - acc: 0.5033"
          ],
          "name": "stdout"
        },
        {
          "output_type": "stream",
          "text": [
            "50000/50000 [==============================] - 13s 257us/step - loss: 1.3920 - acc: 0.5019 - val_loss: 1.3351 - val_acc: 0.5231\n",
            "Epoch 8/20\n",
            "50000/50000 [==============================] - 13s 257us/step - loss: 1.3571 - acc: 0.5162 - val_loss: 1.3532 - val_acc: 0.5121\n",
            "Epoch 9/20\n",
            "36480/50000 [====================>.........] - ETA: 3s - loss: 1.3248 - acc: 0.5295"
          ],
          "name": "stdout"
        },
        {
          "output_type": "stream",
          "text": [
            "50000/50000 [==============================] - 13s 257us/step - loss: 1.3238 - acc: 0.5297 - val_loss: 1.2264 - val_acc: 0.5641\n",
            "Epoch 10/20\n",
            "50000/50000 [==============================] - 13s 257us/step - loss: 1.2853 - acc: 0.5441 - val_loss: 1.2490 - val_acc: 0.5587\n",
            "Epoch 11/20\n",
            "35712/50000 [====================>.........] - ETA: 3s - loss: 1.2651 - acc: 0.5515"
          ],
          "name": "stdout"
        },
        {
          "output_type": "stream",
          "text": [
            "50000/50000 [==============================] - 13s 258us/step - loss: 1.2637 - acc: 0.5523 - val_loss: 1.1978 - val_acc: 0.5743\n",
            "Epoch 12/20\n",
            "50000/50000 [==============================] - 13s 257us/step - loss: 1.2315 - acc: 0.5641 - val_loss: 1.1665 - val_acc: 0.5823\n",
            "Epoch 13/20\n",
            "35968/50000 [====================>.........] - ETA: 3s - loss: 1.2131 - acc: 0.5721"
          ],
          "name": "stdout"
        },
        {
          "output_type": "stream",
          "text": [
            "50000/50000 [==============================] - 13s 257us/step - loss: 1.2078 - acc: 0.5727 - val_loss: 1.2210 - val_acc: 0.5685\n",
            "Epoch 14/20\n",
            "50000/50000 [==============================] - 13s 258us/step - loss: 1.1735 - acc: 0.5854 - val_loss: 1.1197 - val_acc: 0.6087\n",
            "Epoch 15/20\n",
            "35968/50000 [====================>.........] - ETA: 3s - loss: 1.1600 - acc: 0.5898"
          ],
          "name": "stdout"
        },
        {
          "output_type": "stream",
          "text": [
            "50000/50000 [==============================] - 13s 258us/step - loss: 1.1545 - acc: 0.5925 - val_loss: 1.0608 - val_acc: 0.6281\n",
            "Epoch 16/20\n",
            "50000/50000 [==============================] - 13s 257us/step - loss: 1.1329 - acc: 0.6019 - val_loss: 1.0963 - val_acc: 0.6106\n",
            "Epoch 17/20\n",
            "35968/50000 [====================>.........] - ETA: 3s - loss: 1.1189 - acc: 0.6063"
          ],
          "name": "stdout"
        },
        {
          "output_type": "stream",
          "text": [
            "50000/50000 [==============================] - 13s 257us/step - loss: 1.1132 - acc: 0.6082 - val_loss: 1.0690 - val_acc: 0.6184\n",
            "Epoch 18/20\n",
            "50000/50000 [==============================] - 13s 257us/step - loss: 1.0885 - acc: 0.6170 - val_loss: 1.0457 - val_acc: 0.6351\n",
            "Epoch 19/20\n",
            "35968/50000 [====================>.........] - ETA: 3s - loss: 1.0828 - acc: 0.6190"
          ],
          "name": "stdout"
        },
        {
          "output_type": "stream",
          "text": [
            "50000/50000 [==============================] - 13s 257us/step - loss: 1.0752 - acc: 0.6221 - val_loss: 1.0364 - val_acc: 0.6356\n",
            "Epoch 20/20\n",
            "50000/50000 [==============================] - 13s 257us/step - loss: 1.0477 - acc: 0.6319 - val_loss: 1.0011 - val_acc: 0.6474\n",
            "Train on 50000 samples, validate on 10000 samples\n",
            "Epoch 1/20\n",
            "31616/50000 [=================>............] - ETA: 4s - loss: 2.1141 - acc: 0.2163"
          ],
          "name": "stdout"
        },
        {
          "output_type": "stream",
          "text": [
            "50000/50000 [==============================] - 13s 266us/step - loss: 2.0277 - acc: 0.2558 - val_loss: 1.7633 - val_acc: 0.3819\n",
            "Epoch 2/20\n",
            "50000/50000 [==============================] - 13s 258us/step - loss: 1.7313 - acc: 0.3734 - val_loss: 1.6263 - val_acc: 0.4186\n",
            "Epoch 3/20\n",
            "35456/50000 [====================>.........] - ETA: 3s - loss: 1.6280 - acc: 0.4128"
          ],
          "name": "stdout"
        },
        {
          "output_type": "stream",
          "text": [
            "50000/50000 [==============================] - 13s 258us/step - loss: 1.6135 - acc: 0.4171 - val_loss: 1.6241 - val_acc: 0.4192\n",
            "Epoch 4/20\n",
            "50000/50000 [==============================] - 13s 259us/step - loss: 1.5238 - acc: 0.4488 - val_loss: 1.4311 - val_acc: 0.4824\n",
            "Epoch 5/20\n",
            "36224/50000 [====================>.........] - ETA: 3s - loss: 1.4628 - acc: 0.4751"
          ],
          "name": "stdout"
        },
        {
          "output_type": "stream",
          "text": [
            "50000/50000 [==============================] - 13s 258us/step - loss: 1.4556 - acc: 0.4759 - val_loss: 1.3569 - val_acc: 0.5095\n",
            "Epoch 6/20\n",
            "50000/50000 [==============================] - 13s 258us/step - loss: 1.3981 - acc: 0.4978 - val_loss: 1.3448 - val_acc: 0.5235\n",
            "Epoch 7/20\n",
            "36480/50000 [====================>.........] - ETA: 3s - loss: 1.3594 - acc: 0.5128"
          ],
          "name": "stdout"
        },
        {
          "output_type": "stream",
          "text": [
            "50000/50000 [==============================] - 13s 258us/step - loss: 1.3554 - acc: 0.5152 - val_loss: 1.2664 - val_acc: 0.5462\n",
            "Epoch 8/20\n",
            "50000/50000 [==============================] - 13s 257us/step - loss: 1.3101 - acc: 0.5327 - val_loss: 1.2280 - val_acc: 0.5634\n",
            "Epoch 9/20\n",
            "36480/50000 [====================>.........] - ETA: 3s - loss: 1.2797 - acc: 0.5454"
          ],
          "name": "stdout"
        },
        {
          "output_type": "stream",
          "text": [
            "50000/50000 [==============================] - 13s 258us/step - loss: 1.2741 - acc: 0.5466 - val_loss: 1.1867 - val_acc: 0.5840\n",
            "Epoch 10/20\n",
            "50000/50000 [==============================] - 13s 258us/step - loss: 1.2426 - acc: 0.5593 - val_loss: 1.1654 - val_acc: 0.5861\n",
            "Epoch 11/20\n",
            "36224/50000 [====================>.........] - ETA: 3s - loss: 1.2219 - acc: 0.5700"
          ],
          "name": "stdout"
        },
        {
          "output_type": "stream",
          "text": [
            "50000/50000 [==============================] - 13s 258us/step - loss: 1.2117 - acc: 0.5711 - val_loss: 1.1180 - val_acc: 0.6072\n",
            "Epoch 12/20\n",
            "50000/50000 [==============================] - 13s 259us/step - loss: 1.1803 - acc: 0.5839 - val_loss: 1.0814 - val_acc: 0.6214\n",
            "Epoch 13/20\n",
            "36224/50000 [====================>.........] - ETA: 3s - loss: 1.1499 - acc: 0.5962"
          ],
          "name": "stdout"
        },
        {
          "output_type": "stream",
          "text": [
            "50000/50000 [==============================] - 13s 258us/step - loss: 1.1491 - acc: 0.5967 - val_loss: 1.0826 - val_acc: 0.6197\n",
            "Epoch 14/20\n",
            "50000/50000 [==============================] - 13s 256us/step - loss: 1.1193 - acc: 0.6056 - val_loss: 1.0402 - val_acc: 0.6343\n",
            "Epoch 15/20\n",
            "36224/50000 [====================>.........] - ETA: 3s - loss: 1.0957 - acc: 0.6172"
          ],
          "name": "stdout"
        },
        {
          "output_type": "stream",
          "text": [
            "50000/50000 [==============================] - 13s 258us/step - loss: 1.0958 - acc: 0.6164 - val_loss: 1.0066 - val_acc: 0.6456\n",
            "Epoch 16/20\n",
            "50000/50000 [==============================] - 13s 257us/step - loss: 1.0755 - acc: 0.6231 - val_loss: 1.0167 - val_acc: 0.6463\n",
            "Epoch 17/20\n",
            "35456/50000 [====================>.........] - ETA: 3s - loss: 1.0521 - acc: 0.6293"
          ],
          "name": "stdout"
        },
        {
          "output_type": "stream",
          "text": [
            "50000/50000 [==============================] - 13s 260us/step - loss: 1.0472 - acc: 0.6318 - val_loss: 0.9773 - val_acc: 0.6565\n",
            "Epoch 18/20\n",
            "50000/50000 [==============================] - 13s 256us/step - loss: 1.0295 - acc: 0.6414 - val_loss: 0.9678 - val_acc: 0.6615\n",
            "Epoch 19/20\n",
            "35712/50000 [====================>.........] - ETA: 3s - loss: 1.0098 - acc: 0.6453"
          ],
          "name": "stdout"
        },
        {
          "output_type": "stream",
          "text": [
            "50000/50000 [==============================] - 13s 256us/step - loss: 1.0106 - acc: 0.6454 - val_loss: 0.9549 - val_acc: 0.6661\n",
            "Epoch 20/20\n",
            "50000/50000 [==============================] - 13s 257us/step - loss: 0.9889 - acc: 0.6536 - val_loss: 0.9230 - val_acc: 0.6798\n",
            "Train on 50000 samples, validate on 10000 samples\n",
            "Epoch 1/20\n",
            "31360/50000 [=================>............] - ETA: 4s - loss: 2.0752 - acc: 0.2250"
          ],
          "name": "stdout"
        },
        {
          "output_type": "stream",
          "text": [
            "50000/50000 [==============================] - 13s 267us/step - loss: 1.9726 - acc: 0.2681 - val_loss: 1.7410 - val_acc: 0.3786\n",
            "Epoch 2/20\n",
            "50000/50000 [==============================] - 13s 257us/step - loss: 1.6600 - acc: 0.3957 - val_loss: 1.5417 - val_acc: 0.4409\n",
            "Epoch 3/20\n",
            "35456/50000 [====================>.........] - ETA: 3s - loss: 1.5522 - acc: 0.4330"
          ],
          "name": "stdout"
        },
        {
          "output_type": "stream",
          "text": [
            "50000/50000 [==============================] - 13s 258us/step - loss: 1.5371 - acc: 0.4387 - val_loss: 1.4202 - val_acc: 0.4894\n",
            "Epoch 4/20\n",
            "50000/50000 [==============================] - 13s 258us/step - loss: 1.4604 - acc: 0.4712 - val_loss: 1.3547 - val_acc: 0.5112\n",
            "Epoch 5/20\n",
            "35968/50000 [====================>.........] - ETA: 3s - loss: 1.4098 - acc: 0.4883"
          ],
          "name": "stdout"
        },
        {
          "output_type": "stream",
          "text": [
            "50000/50000 [==============================] - 13s 258us/step - loss: 1.4041 - acc: 0.4914 - val_loss: 1.3588 - val_acc: 0.5217\n",
            "Epoch 6/20\n",
            "50000/50000 [==============================] - 13s 257us/step - loss: 1.3547 - acc: 0.5125 - val_loss: 1.2684 - val_acc: 0.5470\n",
            "Epoch 7/20\n",
            "36224/50000 [====================>.........] - ETA: 3s - loss: 1.3222 - acc: 0.5280"
          ],
          "name": "stdout"
        },
        {
          "output_type": "stream",
          "text": [
            "50000/50000 [==============================] - 13s 256us/step - loss: 1.3153 - acc: 0.5317 - val_loss: 1.2550 - val_acc: 0.5538\n",
            "Epoch 8/20\n",
            "50000/50000 [==============================] - 13s 258us/step - loss: 1.2758 - acc: 0.5468 - val_loss: 1.2121 - val_acc: 0.5674\n",
            "Epoch 9/20\n",
            "36224/50000 [====================>.........] - ETA: 3s - loss: 1.2493 - acc: 0.5529"
          ],
          "name": "stdout"
        },
        {
          "output_type": "stream",
          "text": [
            "50000/50000 [==============================] - 13s 257us/step - loss: 1.2402 - acc: 0.5565 - val_loss: 1.2131 - val_acc: 0.5756\n",
            "Epoch 10/20\n",
            "50000/50000 [==============================] - 13s 257us/step - loss: 1.2046 - acc: 0.5726 - val_loss: 1.1362 - val_acc: 0.6005\n",
            "Epoch 11/20\n",
            "36224/50000 [====================>.........] - ETA: 3s - loss: 1.1782 - acc: 0.5860"
          ],
          "name": "stdout"
        },
        {
          "output_type": "stream",
          "text": [
            "50000/50000 [==============================] - 13s 258us/step - loss: 1.1751 - acc: 0.5873 - val_loss: 1.0924 - val_acc: 0.6152\n",
            "Epoch 12/20\n",
            "50000/50000 [==============================] - 13s 258us/step - loss: 1.1428 - acc: 0.5966 - val_loss: 1.0958 - val_acc: 0.6106\n",
            "Epoch 13/20\n",
            "36224/50000 [====================>.........] - ETA: 3s - loss: 1.1168 - acc: 0.6067"
          ],
          "name": "stdout"
        },
        {
          "output_type": "stream",
          "text": [
            "50000/50000 [==============================] - 13s 257us/step - loss: 1.1176 - acc: 0.6054 - val_loss: 1.0290 - val_acc: 0.6391\n",
            "Epoch 14/20\n",
            "50000/50000 [==============================] - 13s 259us/step - loss: 1.0887 - acc: 0.6144 - val_loss: 1.0282 - val_acc: 0.6372\n",
            "Epoch 15/20\n",
            "36224/50000 [====================>.........] - ETA: 3s - loss: 1.0607 - acc: 0.6278"
          ],
          "name": "stdout"
        },
        {
          "output_type": "stream",
          "text": [
            "50000/50000 [==============================] - 13s 258us/step - loss: 1.0650 - acc: 0.6267 - val_loss: 0.9884 - val_acc: 0.6564\n",
            "Epoch 16/20\n",
            "50000/50000 [==============================] - 13s 258us/step - loss: 1.0398 - acc: 0.6340 - val_loss: 0.9828 - val_acc: 0.6564\n",
            "Epoch 17/20\n",
            "36224/50000 [====================>.........] - ETA: 3s - loss: 1.0223 - acc: 0.6418"
          ],
          "name": "stdout"
        },
        {
          "output_type": "stream",
          "text": [
            "50000/50000 [==============================] - 13s 257us/step - loss: 1.0208 - acc: 0.6424 - val_loss: 0.9571 - val_acc: 0.6632\n",
            "Epoch 18/20\n",
            "50000/50000 [==============================] - 13s 257us/step - loss: 0.9977 - acc: 0.6521 - val_loss: 0.9394 - val_acc: 0.6714\n",
            "Epoch 19/20\n",
            "36224/50000 [====================>.........] - ETA: 3s - loss: 0.9704 - acc: 0.6585"
          ],
          "name": "stdout"
        },
        {
          "output_type": "stream",
          "text": [
            "50000/50000 [==============================] - 13s 257us/step - loss: 0.9767 - acc: 0.6565 - val_loss: 0.9123 - val_acc: 0.6840\n",
            "Epoch 20/20\n",
            "50000/50000 [==============================] - 13s 256us/step - loss: 0.9604 - acc: 0.6650 - val_loss: 0.9106 - val_acc: 0.6845\n",
            "Train on 50000 samples, validate on 10000 samples\n",
            "Epoch 1/20\n",
            "31616/50000 [=================>............] - ETA: 4s - loss: 2.1081 - acc: 0.2200"
          ],
          "name": "stdout"
        },
        {
          "output_type": "stream",
          "text": [
            "50000/50000 [==============================] - 13s 269us/step - loss: 2.0218 - acc: 0.2601 - val_loss: 1.7835 - val_acc: 0.3726\n",
            "Epoch 2/20\n",
            "50000/50000 [==============================] - 13s 256us/step - loss: 1.7176 - acc: 0.3777 - val_loss: 1.5849 - val_acc: 0.4398\n",
            "Epoch 3/20\n",
            "35456/50000 [====================>.........] - ETA: 3s - loss: 1.6051 - acc: 0.4195"
          ],
          "name": "stdout"
        },
        {
          "output_type": "stream",
          "text": [
            "50000/50000 [==============================] - 13s 255us/step - loss: 1.5875 - acc: 0.4254 - val_loss: 1.5155 - val_acc: 0.4520\n",
            "Epoch 4/20\n",
            "50000/50000 [==============================] - 13s 256us/step - loss: 1.4958 - acc: 0.4591 - val_loss: 1.4267 - val_acc: 0.4835\n",
            "Epoch 5/20\n",
            "36224/50000 [====================>.........] - ETA: 3s - loss: 1.4412 - acc: 0.4817"
          ],
          "name": "stdout"
        },
        {
          "output_type": "stream",
          "text": [
            "50000/50000 [==============================] - 13s 256us/step - loss: 1.4341 - acc: 0.4840 - val_loss: 1.3407 - val_acc: 0.5255\n",
            "Epoch 6/20\n",
            "50000/50000 [==============================] - 13s 255us/step - loss: 1.3797 - acc: 0.5048 - val_loss: 1.3223 - val_acc: 0.5372\n",
            "Epoch 7/20\n",
            "36480/50000 [====================>.........] - ETA: 3s - loss: 1.3383 - acc: 0.5218"
          ],
          "name": "stdout"
        },
        {
          "output_type": "stream",
          "text": [
            "50000/50000 [==============================] - 13s 256us/step - loss: 1.3291 - acc: 0.5235 - val_loss: 1.2974 - val_acc: 0.5356\n",
            "Epoch 8/20\n",
            "50000/50000 [==============================] - 13s 256us/step - loss: 1.2838 - acc: 0.5415 - val_loss: 1.2100 - val_acc: 0.5699\n",
            "Epoch 9/20\n",
            "36480/50000 [====================>.........] - ETA: 3s - loss: 1.2446 - acc: 0.5572"
          ],
          "name": "stdout"
        },
        {
          "output_type": "stream",
          "text": [
            "50000/50000 [==============================] - 13s 255us/step - loss: 1.2460 - acc: 0.5580 - val_loss: 1.1683 - val_acc: 0.5867\n",
            "Epoch 10/20\n",
            "50000/50000 [==============================] - 13s 256us/step - loss: 1.2078 - acc: 0.5713 - val_loss: 1.1864 - val_acc: 0.5755\n",
            "Epoch 11/20\n",
            "36224/50000 [====================>.........] - ETA: 3s - loss: 1.1778 - acc: 0.5837"
          ],
          "name": "stdout"
        },
        {
          "output_type": "stream",
          "text": [
            "50000/50000 [==============================] - 13s 257us/step - loss: 1.1702 - acc: 0.5871 - val_loss: 1.1048 - val_acc: 0.6093\n",
            "Epoch 12/20\n",
            "50000/50000 [==============================] - 13s 256us/step - loss: 1.1416 - acc: 0.5989 - val_loss: 1.0674 - val_acc: 0.6284\n",
            "Epoch 13/20\n",
            "36224/50000 [====================>.........] - ETA: 3s - loss: 1.1146 - acc: 0.6084"
          ],
          "name": "stdout"
        },
        {
          "output_type": "stream",
          "text": [
            "50000/50000 [==============================] - 13s 256us/step - loss: 1.1107 - acc: 0.6103 - val_loss: 1.0351 - val_acc: 0.6388\n",
            "Epoch 14/20\n",
            "50000/50000 [==============================] - 13s 257us/step - loss: 1.0779 - acc: 0.6212 - val_loss: 1.0225 - val_acc: 0.6485\n",
            "Epoch 15/20\n",
            "36224/50000 [====================>.........] - ETA: 3s - loss: 1.0580 - acc: 0.6288"
          ],
          "name": "stdout"
        },
        {
          "output_type": "stream",
          "text": [
            "50000/50000 [==============================] - 13s 256us/step - loss: 1.0581 - acc: 0.6296 - val_loss: 0.9748 - val_acc: 0.6606\n",
            "Epoch 16/20\n",
            "50000/50000 [==============================] - 13s 256us/step - loss: 1.0302 - acc: 0.6386 - val_loss: 0.9595 - val_acc: 0.6668\n",
            "Epoch 17/20\n",
            "36224/50000 [====================>.........] - ETA: 3s - loss: 1.0104 - acc: 0.6445"
          ],
          "name": "stdout"
        },
        {
          "output_type": "stream",
          "text": [
            "50000/50000 [==============================] - 13s 257us/step - loss: 1.0072 - acc: 0.6465 - val_loss: 0.9386 - val_acc: 0.6745\n",
            "Epoch 18/20\n",
            "50000/50000 [==============================] - 13s 255us/step - loss: 0.9883 - acc: 0.6539 - val_loss: 0.9343 - val_acc: 0.6779\n",
            "Epoch 19/20\n",
            "36224/50000 [====================>.........] - ETA: 3s - loss: 0.9673 - acc: 0.6622"
          ],
          "name": "stdout"
        },
        {
          "output_type": "stream",
          "text": [
            "50000/50000 [==============================] - 13s 256us/step - loss: 0.9656 - acc: 0.6629 - val_loss: 0.9586 - val_acc: 0.6651\n",
            "Epoch 20/20\n",
            "50000/50000 [==============================] - 13s 257us/step - loss: 0.9444 - acc: 0.6698 - val_loss: 0.9093 - val_acc: 0.6836\n"
          ],
          "name": "stdout"
        }
      ]
    },
    {
      "metadata": {
        "id": "fVUkk-43uWML",
        "colab_type": "code",
        "colab": {
          "base_uri": "https://localhost:8080/",
          "height": 357
        },
        "outputId": "9e6fe927-af28-43ec-ecc4-389a0eea3c73"
      },
      "cell_type": "code",
      "source": [
        "# Load models and print results\n",
        "for e in [0.5,0.1,0.05,0.02,0.01]:\n",
        "    model = keras.models.load_model('cifra10_n'+str(e)+'.h5')\n",
        "    print('\\n  - Gaussian Noise with '+str(e)+' stdev:')\n",
        "    scores = model.evaluate(x_test, y_test, verbose=0)\n",
        "    print('\\tTest loss:\\t', scores[0])\n",
        "    print('\\tTest accuracy:\\t', scores[1])"
      ],
      "execution_count": 9,
      "outputs": [
        {
          "output_type": "stream",
          "text": [
            "\n",
            "  - Gaussian Noise with 0.5 stdev:\n",
            "\tTest loss:\t 1.3346526174545288\n",
            "\tTest accuracy:\t 0.523\n",
            "\n",
            "  - Gaussian Noise with 0.1 stdev:\n",
            "\tTest loss:\t 1.001115407371521\n",
            "\tTest accuracy:\t 0.6474\n",
            "\n",
            "  - Gaussian Noise with 0.05 stdev:\n",
            "\tTest loss:\t 0.9230113963127137\n",
            "\tTest accuracy:\t 0.6798\n",
            "\n",
            "  - Gaussian Noise with 0.02 stdev:\n",
            "\tTest loss:\t 0.9106454853057862\n",
            "\tTest accuracy:\t 0.6845\n",
            "\n",
            "  - Gaussian Noise with 0.01 stdev:\n",
            "\tTest loss:\t 0.9092573655128479\n",
            "\tTest accuracy:\t 0.6836\n"
          ],
          "name": "stdout"
        }
      ]
    },
    {
      "metadata": {
        "id": "JsJqBNCqmTso",
        "colab_type": "text"
      },
      "cell_type": "markdown",
      "source": [
        "### 2) Add layers to the network to improve performance"
      ]
    },
    {
      "metadata": {
        "id": "W-q-pZF-mTso",
        "colab_type": "text"
      },
      "cell_type": "markdown",
      "source": [
        "#### First model: Add more layers and Adam optimizer"
      ]
    },
    {
      "metadata": {
        "id": "5QeWb-pFjSh0",
        "colab_type": "code",
        "colab": {
          "base_uri": "https://localhost:8080/",
          "height": 734
        },
        "outputId": "2b8bbdd8-1672-4494-d21d-6aa5623a2088"
      },
      "cell_type": "code",
      "source": [
        "model = Sequential()\n",
        "\n",
        "model.add(Conv2D(32, (3, 3), padding='same',\n",
        "                 input_shape=x_train.shape[1:]))\n",
        "model.add(Activation('relu'))\n",
        "model.add(Conv2D(32, (3, 3)))\n",
        "model.add(Activation('relu'))\n",
        "model.add(MaxPooling2D(pool_size=(2, 2)))\n",
        "model.add(Dropout(0.25))\n",
        "\n",
        "model.add(Conv2D(64, (3, 3), padding='same'))\n",
        "model.add(Activation('relu'))\n",
        "model.add(Conv2D(64, (3, 3)))\n",
        "model.add(Activation('relu'))\n",
        "model.add(MaxPooling2D(pool_size=(2, 2)))\n",
        "model.add(Dropout(0.25))\n",
        "\n",
        "model.add(Flatten())\n",
        "model.add(Dense(512))\n",
        "#add another dense layer\n",
        "model.add(Dense(512))\n",
        "model.add(Activation('relu'))\n",
        "model.add(Dropout(0.5))\n",
        "model.add(Dense(num_classes))\n",
        "model.add(Activation('softmax'))\n",
        "\n",
        "model.compile(loss='categorical_crossentropy',\n",
        "              optimizer=keras.optimizers.Adam(lr=0.001, beta_1=0.9, beta_2=0.999, epsilon=None, decay=0.0, amsgrad=False),\n",
        "                metrics=['accuracy'])\n",
        "model.fit(x_train, y_train,\n",
        "            batch_size=batch_size,\n",
        "            epochs=epochs,\n",
        "            validation_data=(x_test, y_test),\n",
        "            shuffle=True)\n",
        "\n",
        "model.save('cifra10_moreLayersAdam.h5')"
      ],
      "execution_count": 10,
      "outputs": [
        {
          "output_type": "stream",
          "text": [
            "Train on 50000 samples, validate on 10000 samples\n",
            "Epoch 1/20\n",
            "50000/50000 [==============================] - 15s 297us/step - loss: 1.5643 - acc: 0.4242 - val_loss: 1.2047 - val_acc: 0.5712\n",
            "Epoch 2/20\n",
            "50000/50000 [==============================] - 14s 272us/step - loss: 1.1385 - acc: 0.5943 - val_loss: 0.9981 - val_acc: 0.6455\n",
            "Epoch 3/20\n",
            " 6016/50000 [==>...........................] - ETA: 11s - loss: 1.0340 - acc: 0.6268"
          ],
          "name": "stdout"
        },
        {
          "output_type": "stream",
          "text": [
            "50000/50000 [==============================] - 14s 271us/step - loss: 0.9819 - acc: 0.6532 - val_loss: 0.8642 - val_acc: 0.6963\n",
            "Epoch 4/20\n",
            "50000/50000 [==============================] - 14s 270us/step - loss: 0.8778 - acc: 0.6931 - val_loss: 0.8012 - val_acc: 0.7212\n",
            "Epoch 5/20\n",
            "25984/50000 [==============>...............] - ETA: 6s - loss: 0.8321 - acc: 0.7103"
          ],
          "name": "stdout"
        },
        {
          "output_type": "stream",
          "text": [
            "50000/50000 [==============================] - 13s 270us/step - loss: 0.8277 - acc: 0.7107 - val_loss: 0.7764 - val_acc: 0.7300\n",
            "Epoch 6/20\n",
            "50000/50000 [==============================] - 14s 271us/step - loss: 0.7774 - acc: 0.7269 - val_loss: 0.7238 - val_acc: 0.7474\n",
            "Epoch 7/20\n",
            "29312/50000 [================>.............] - ETA: 5s - loss: 0.7424 - acc: 0.7365"
          ],
          "name": "stdout"
        },
        {
          "output_type": "stream",
          "text": [
            "50000/50000 [==============================] - 14s 271us/step - loss: 0.7434 - acc: 0.7383 - val_loss: 0.7645 - val_acc: 0.7358\n",
            "Epoch 8/20\n",
            "50000/50000 [==============================] - 14s 271us/step - loss: 0.7056 - acc: 0.7528 - val_loss: 0.7037 - val_acc: 0.7570\n",
            "Epoch 9/20\n",
            "31104/50000 [=================>............] - ETA: 4s - loss: 0.6871 - acc: 0.7586"
          ],
          "name": "stdout"
        },
        {
          "output_type": "stream",
          "text": [
            "50000/50000 [==============================] - 14s 270us/step - loss: 0.6873 - acc: 0.7585 - val_loss: 0.7079 - val_acc: 0.7504\n",
            "Epoch 10/20\n",
            "50000/50000 [==============================] - 14s 271us/step - loss: 0.6627 - acc: 0.7671 - val_loss: 0.6851 - val_acc: 0.7617\n",
            "Epoch 11/20\n",
            "30848/50000 [=================>............] - ETA: 4s - loss: 0.6345 - acc: 0.7763"
          ],
          "name": "stdout"
        },
        {
          "output_type": "stream",
          "text": [
            "50000/50000 [==============================] - 14s 272us/step - loss: 0.6504 - acc: 0.7708 - val_loss: 0.6594 - val_acc: 0.7769\n",
            "Epoch 12/20\n",
            "50000/50000 [==============================] - 14s 270us/step - loss: 0.6171 - acc: 0.7824 - val_loss: 0.6746 - val_acc: 0.7681\n",
            "Epoch 13/20\n",
            "32128/50000 [==================>...........] - ETA: 4s - loss: 0.5963 - acc: 0.7897"
          ],
          "name": "stdout"
        },
        {
          "output_type": "stream",
          "text": [
            "50000/50000 [==============================] - 14s 271us/step - loss: 0.6014 - acc: 0.7874 - val_loss: 0.6723 - val_acc: 0.7706\n",
            "Epoch 14/20\n",
            "50000/50000 [==============================] - 14s 271us/step - loss: 0.5857 - acc: 0.7949 - val_loss: 0.6639 - val_acc: 0.7717\n",
            "Epoch 15/20\n",
            "32384/50000 [==================>...........] - ETA: 4s - loss: 0.5664 - acc: 0.7980"
          ],
          "name": "stdout"
        },
        {
          "output_type": "stream",
          "text": [
            "50000/50000 [==============================] - 14s 271us/step - loss: 0.5794 - acc: 0.7947 - val_loss: 0.6534 - val_acc: 0.7773\n",
            "Epoch 16/20\n",
            "50000/50000 [==============================] - 14s 272us/step - loss: 0.5619 - acc: 0.8007 - val_loss: 0.7089 - val_acc: 0.7592\n",
            "Epoch 17/20\n",
            "30336/50000 [=================>............] - ETA: 5s - loss: 0.5400 - acc: 0.8095"
          ],
          "name": "stdout"
        },
        {
          "output_type": "stream",
          "text": [
            "50000/50000 [==============================] - 14s 271us/step - loss: 0.5495 - acc: 0.8060 - val_loss: 0.6435 - val_acc: 0.7819\n",
            "Epoch 18/20\n",
            "50000/50000 [==============================] - 14s 273us/step - loss: 0.5434 - acc: 0.8080 - val_loss: 0.6521 - val_acc: 0.7867\n",
            "Epoch 19/20\n",
            "28544/50000 [================>.............] - ETA: 5s - loss: 0.5222 - acc: 0.8141"
          ],
          "name": "stdout"
        },
        {
          "output_type": "stream",
          "text": [
            "50000/50000 [==============================] - 14s 272us/step - loss: 0.5308 - acc: 0.8122 - val_loss: 0.6234 - val_acc: 0.7909\n",
            "Epoch 20/20\n",
            "50000/50000 [==============================] - 14s 273us/step - loss: 0.5262 - acc: 0.8130 - val_loss: 0.6483 - val_acc: 0.7837\n"
          ],
          "name": "stdout"
        }
      ]
    },
    {
      "metadata": {
        "id": "gfdlXw0nlmWK",
        "colab_type": "code",
        "colab": {
          "base_uri": "https://localhost:8080/",
          "height": 272
        },
        "outputId": "ff32059e-ec65-4702-a826-ffa6386bf2b0"
      },
      "cell_type": "code",
      "source": [
        "model= keras.models.load_model('cifra10_moreLayersAdam.h5')\n",
        "print('\\n  - More layers and Atom optimizer:')\n",
        "scores = model.evaluate(x_test, y_test, verbose=0)\n",
        "print('\\tTest loss:\\t', scores[0])\n",
        "print('\\tTest accuracy:\\t', scores[1])\n",
        "\n",
        "Y_pred = model.predict(x_test, verbose=2)\n",
        "cm = confusion_matrix(np.argmax(y_test,axis=1),np.argmax(Y_pred, axis=1))\n",
        "print('\\tConfusion Matrix:\\t')\n",
        "print(cm)"
      ],
      "execution_count": 11,
      "outputs": [
        {
          "output_type": "stream",
          "text": [
            "\n",
            "  - More layers and Atom optimizer:\n",
            "\tTest loss:\t 0.6483449568748474\n",
            "\tTest accuracy:\t 0.7837\n",
            "\tConfusion Matrix:\t\n",
            "[[823  19  23   9   4   4  10   6  68  34]\n",
            " [  6 930   0   2   1   3   2   1  14  41]\n",
            " [ 78   5 638  42  54  65  81  11  18   8]\n",
            " [ 29  15  45 555  38 174  79  20  26  19]\n",
            " [ 22   4  64  43 713  27  71  42   7   7]\n",
            " [ 15   5  42 150  25 709  23  21   7   3]\n",
            " [ 10   5  19  38  13  17 884   4   4   6]\n",
            " [ 23   1  28  29  42  52   6 800   4  15]\n",
            " [ 41  25   0   5   3   2   4   2 904  14]\n",
            " [ 20  59   6   6   1   1   2   3  21 881]]\n"
          ],
          "name": "stdout"
        }
      ]
    },
    {
      "metadata": {
        "id": "MmxET6jumTsx",
        "colab_type": "text"
      },
      "cell_type": "markdown",
      "source": [
        "#### Second model: regularizer"
      ]
    },
    {
      "metadata": {
        "id": "ptxx_FTouWMU",
        "colab_type": "code",
        "colab": {
          "base_uri": "https://localhost:8080/",
          "height": 734
        },
        "outputId": "d79e19cc-4f4f-4716-fb8e-937a966b4768"
      },
      "cell_type": "code",
      "source": [
        "from keras import regularizers\n",
        "\n",
        "weight_decay = 1e-4\n",
        "\n",
        "model = Sequential()\n",
        "\n",
        "model.add(Conv2D(32, (3, 3), padding='same',\n",
        "                 input_shape=x_train.shape[1:]))\n",
        "\n",
        "model.add(Activation('relu'))\n",
        "model.add(Conv2D(32, (3, 3)))\n",
        "model.add(Activation('relu'))\n",
        "model.add(MaxPooling2D(pool_size=(2, 2)))\n",
        "model.add(Dropout(0.25))\n",
        "\n",
        "model.add(Conv2D(64, (3, 3), padding='same', kernel_regularizer=regularizers.l2(weight_decay)))\n",
        "model.add(Activation('relu'))\n",
        "model.add(Conv2D(64, (3, 3), kernel_regularizer=regularizers.l2(weight_decay)))\n",
        "model.add(Activation('relu'))\n",
        "model.add(MaxPooling2D(pool_size=(2, 2)))\n",
        "model.add(Dropout(0.25))\n",
        "\n",
        "model.add(Flatten())\n",
        "model.add(Dense(512))\n",
        "model.add(Activation('relu'))\n",
        "model.add(Dropout(0.5))\n",
        "model.add(Dense(num_classes))\n",
        "model.add(Activation('softmax'))\n",
        "\n",
        "opt = keras.optimizers.rmsprop(lr=0.0001, decay=1e-6)\n",
        "model.compile(loss='categorical_crossentropy',\n",
        "              optimizer=opt,\n",
        "                metrics=['accuracy'])\n",
        "model.fit(x_train, y_train,\n",
        "            batch_size=batch_size,\n",
        "            epochs=epochs,\n",
        "            validation_data=(x_test, y_test),\n",
        "            shuffle=True)\n",
        "\n",
        "model.save('cifra10_regL2.h5')"
      ],
      "execution_count": 12,
      "outputs": [
        {
          "output_type": "stream",
          "text": [
            "Train on 50000 samples, validate on 10000 samples\n",
            "Epoch 1/20\n",
            "50000/50000 [==============================] - 14s 285us/step - loss: 1.9647 - acc: 0.2818 - val_loss: 1.6968 - val_acc: 0.3952\n",
            "Epoch 2/20\n",
            "50000/50000 [==============================] - 13s 258us/step - loss: 1.6897 - acc: 0.3925 - val_loss: 1.5514 - val_acc: 0.4524\n",
            "Epoch 3/20\n",
            " 9088/50000 [====>.........................] - ETA: 10s - loss: 1.5991 - acc: 0.4243"
          ],
          "name": "stdout"
        },
        {
          "output_type": "stream",
          "text": [
            "50000/50000 [==============================] - 13s 259us/step - loss: 1.5772 - acc: 0.4340 - val_loss: 1.4549 - val_acc: 0.4814\n",
            "Epoch 4/20\n",
            "50000/50000 [==============================] - 13s 257us/step - loss: 1.4930 - acc: 0.4665 - val_loss: 1.3822 - val_acc: 0.5066\n",
            "Epoch 5/20\n",
            "30080/50000 [=================>............] - ETA: 4s - loss: 1.4282 - acc: 0.4905"
          ],
          "name": "stdout"
        },
        {
          "output_type": "stream",
          "text": [
            "50000/50000 [==============================] - 13s 258us/step - loss: 1.4225 - acc: 0.4927 - val_loss: 1.3777 - val_acc: 0.5067\n",
            "Epoch 6/20\n",
            "50000/50000 [==============================] - 13s 257us/step - loss: 1.3682 - acc: 0.5127 - val_loss: 1.3644 - val_acc: 0.5157\n",
            "Epoch 7/20\n",
            "34688/50000 [===================>..........] - ETA: 3s - loss: 1.3268 - acc: 0.5295"
          ],
          "name": "stdout"
        },
        {
          "output_type": "stream",
          "text": [
            "50000/50000 [==============================] - 13s 258us/step - loss: 1.3185 - acc: 0.5332 - val_loss: 1.2325 - val_acc: 0.5680\n",
            "Epoch 8/20\n",
            "50000/50000 [==============================] - 13s 258us/step - loss: 1.2799 - acc: 0.5495 - val_loss: 1.1836 - val_acc: 0.5862\n",
            "Epoch 9/20\n",
            "35968/50000 [====================>.........] - ETA: 3s - loss: 1.2387 - acc: 0.5628"
          ],
          "name": "stdout"
        },
        {
          "output_type": "stream",
          "text": [
            "50000/50000 [==============================] - 13s 258us/step - loss: 1.2413 - acc: 0.5625 - val_loss: 1.1774 - val_acc: 0.5858\n",
            "Epoch 10/20\n",
            "50000/50000 [==============================] - 13s 257us/step - loss: 1.2059 - acc: 0.5745 - val_loss: 1.1359 - val_acc: 0.5980\n",
            "Epoch 11/20\n",
            "35968/50000 [====================>.........] - ETA: 3s - loss: 1.1806 - acc: 0.5834"
          ],
          "name": "stdout"
        },
        {
          "output_type": "stream",
          "text": [
            "50000/50000 [==============================] - 13s 256us/step - loss: 1.1745 - acc: 0.5868 - val_loss: 1.0959 - val_acc: 0.6178\n",
            "Epoch 12/20\n",
            "50000/50000 [==============================] - 13s 257us/step - loss: 1.1461 - acc: 0.6006 - val_loss: 1.0875 - val_acc: 0.6218\n",
            "Epoch 13/20\n",
            "35968/50000 [====================>.........] - ETA: 3s - loss: 1.1141 - acc: 0.6123"
          ],
          "name": "stdout"
        },
        {
          "output_type": "stream",
          "text": [
            "50000/50000 [==============================] - 13s 259us/step - loss: 1.1124 - acc: 0.6120 - val_loss: 1.0456 - val_acc: 0.6386\n",
            "Epoch 14/20\n",
            "50000/50000 [==============================] - 13s 258us/step - loss: 1.0892 - acc: 0.6217 - val_loss: 1.0262 - val_acc: 0.6458\n",
            "Epoch 15/20\n",
            "35968/50000 [====================>.........] - ETA: 3s - loss: 1.0652 - acc: 0.6269"
          ],
          "name": "stdout"
        },
        {
          "output_type": "stream",
          "text": [
            "50000/50000 [==============================] - 13s 258us/step - loss: 1.0668 - acc: 0.6278 - val_loss: 0.9957 - val_acc: 0.6560\n",
            "Epoch 16/20\n",
            "50000/50000 [==============================] - 13s 259us/step - loss: 1.0360 - acc: 0.6398 - val_loss: 0.9794 - val_acc: 0.6675\n",
            "Epoch 17/20\n",
            "35968/50000 [====================>.........] - ETA: 3s - loss: 1.0129 - acc: 0.6463"
          ],
          "name": "stdout"
        },
        {
          "output_type": "stream",
          "text": [
            "50000/50000 [==============================] - 13s 258us/step - loss: 1.0126 - acc: 0.6469 - val_loss: 0.9468 - val_acc: 0.6790\n",
            "Epoch 18/20\n",
            "50000/50000 [==============================] - 13s 259us/step - loss: 0.9930 - acc: 0.6552 - val_loss: 0.9502 - val_acc: 0.6747\n",
            "Epoch 19/20\n",
            "34944/50000 [===================>..........] - ETA: 3s - loss: 0.9746 - acc: 0.6639"
          ],
          "name": "stdout"
        },
        {
          "output_type": "stream",
          "text": [
            "50000/50000 [==============================] - 13s 260us/step - loss: 0.9721 - acc: 0.6662 - val_loss: 0.9268 - val_acc: 0.6840\n",
            "Epoch 20/20\n",
            "50000/50000 [==============================] - 13s 261us/step - loss: 0.9505 - acc: 0.6710 - val_loss: 0.9116 - val_acc: 0.6901\n"
          ],
          "name": "stdout"
        }
      ]
    },
    {
      "metadata": {
        "id": "kdaY9vZpuWMa",
        "colab_type": "code",
        "colab": {
          "base_uri": "https://localhost:8080/",
          "height": 272
        },
        "outputId": "ca659e75-4bb0-468d-de4b-d091304cec5d"
      },
      "cell_type": "code",
      "source": [
        "model= keras.models.load_model('cifra10_regL2.h5')\n",
        "print('\\n  - regularizer L2:')\n",
        "scores = model.evaluate(x_test, y_test, verbose=0)\n",
        "print('\\tTest loss:\\t', scores[0])\n",
        "print('\\tTest accuracy:\\t', scores[1])\n",
        "\n",
        "Y_pred = model.predict(x_test, verbose=2)\n",
        "cm = confusion_matrix(np.argmax(y_test,axis=1),np.argmax(Y_pred, axis=1))\n",
        "print('\\tConfusion Matrix:\\t')\n",
        "print(cm)"
      ],
      "execution_count": 13,
      "outputs": [
        {
          "output_type": "stream",
          "text": [
            "\n",
            "  - regularizer L2:\n",
            "\tTest loss:\t 0.9115801405906677\n",
            "\tTest accuracy:\t 0.6901\n",
            "\tConfusion Matrix:\t\n",
            "[[757  27  30  11   8   4  10   5  80  68]\n",
            " [ 16 825   2   3   1   2   9   2  27 113]\n",
            " [ 89  11 512  46 102  76  61  49  25  29]\n",
            " [ 22  23  62 412  79 200  67  62  23  50]\n",
            " [ 28   8  71  46 592  37  62 122  19  15]\n",
            " [ 20   9  54 105  41 631  26  70  11  33]\n",
            " [ 12  10  36  37  40  29 776  17   7  36]\n",
            " [ 22   8  29  23  43  57   5 766   5  42]\n",
            " [ 63  45   9   7   5   4   4   3 813  47]\n",
            " [ 24  94   7   4   5   3   7  12  27 817]]\n"
          ],
          "name": "stdout"
        }
      ]
    },
    {
      "metadata": {
        "id": "XRymftMOmTs3",
        "colab_type": "text"
      },
      "cell_type": "markdown",
      "source": [
        "### 3) Try another method for dealing with overfitting"
      ]
    },
    {
      "metadata": {
        "id": "f2KL0hWjuWMO",
        "colab_type": "code",
        "colab": {
          "base_uri": "https://localhost:8080/",
          "height": 734
        },
        "outputId": "df5c99ad-5a1b-4abf-cb97-9fdfa21ec896"
      },
      "cell_type": "code",
      "source": [
        "from keras.layers.normalization import BatchNormalization\n",
        "\n",
        "model = Sequential()\n",
        "\n",
        "model.add(Conv2D(32, (3, 3), padding='same',\n",
        "                 input_shape=x_train.shape[1:]))\n",
        "\n",
        "model.add(BatchNormalization())\n",
        "\n",
        "model.add(Activation('relu'))\n",
        "model.add(Conv2D(32, (3, 3)))\n",
        "\n",
        "model.add(BatchNormalization())\n",
        "\n",
        "model.add(Activation('relu'))\n",
        "model.add(MaxPooling2D(pool_size=(2, 2)))\n",
        "model.add(Dropout(0.25))\n",
        "\n",
        "model.add(Conv2D(64, (3, 3), padding='same'))\n",
        "\n",
        "model.add(BatchNormalization())\n",
        "\n",
        "model.add(Activation('relu'))\n",
        "model.add(Conv2D(64, (3, 3)))\n",
        "\n",
        "model.add(BatchNormalization())\n",
        "\n",
        "model.add(Activation('relu'))\n",
        "model.add(MaxPooling2D(pool_size=(2, 2)))\n",
        "model.add(Dropout(0.25))\n",
        "\n",
        "model.add(Flatten())\n",
        "model.add(Dense(512))\n",
        "model.add(Activation('relu'))\n",
        "model.add(Dropout(0.5))\n",
        "model.add(Dense(num_classes))\n",
        "model.add(Activation('softmax'))\n",
        "\n",
        "opt = keras.optimizers.rmsprop(lr=0.0001, decay=1e-6)\n",
        "model.compile(loss='categorical_crossentropy',\n",
        "              optimizer=opt,\n",
        "                metrics=['accuracy'])\n",
        "model.fit(x_train, y_train,\n",
        "            batch_size=batch_size,\n",
        "            epochs=epochs,\n",
        "            validation_data=(x_test, y_test),\n",
        "            shuffle=True)\n",
        "\n",
        "model.save('cifra10_batch.h5')\n"
      ],
      "execution_count": 14,
      "outputs": [
        {
          "output_type": "stream",
          "text": [
            "Train on 50000 samples, validate on 10000 samples\n",
            "Epoch 1/20\n",
            "50000/50000 [==============================] - 19s 386us/step - loss: 1.9515 - acc: 0.3040 - val_loss: 1.4902 - val_acc: 0.4661\n",
            "Epoch 2/20\n",
            "50000/50000 [==============================] - 17s 350us/step - loss: 1.5572 - acc: 0.4324 - val_loss: 1.3541 - val_acc: 0.5073\n",
            "Epoch 3/20\n",
            " 8576/50000 [====>.........................] - ETA: 13s - loss: 1.4624 - acc: 0.4674"
          ],
          "name": "stdout"
        },
        {
          "output_type": "stream",
          "text": [
            "50000/50000 [==============================] - 18s 352us/step - loss: 1.4231 - acc: 0.4865 - val_loss: 1.2797 - val_acc: 0.5433\n",
            "Epoch 4/20\n",
            "50000/50000 [==============================] - 17s 348us/step - loss: 1.3386 - acc: 0.5201 - val_loss: 1.2585 - val_acc: 0.5518\n",
            "Epoch 5/20\n",
            "29568/50000 [================>.............] - ETA: 6s - loss: 1.2674 - acc: 0.5447"
          ],
          "name": "stdout"
        },
        {
          "output_type": "stream",
          "text": [
            "50000/50000 [==============================] - 18s 351us/step - loss: 1.2634 - acc: 0.5469 - val_loss: 1.1279 - val_acc: 0.5957\n",
            "Epoch 6/20\n",
            "50000/50000 [==============================] - 18s 352us/step - loss: 1.1955 - acc: 0.5732 - val_loss: 1.1449 - val_acc: 0.5968\n",
            "Epoch 7/20\n",
            "34304/50000 [===================>..........] - ETA: 5s - loss: 1.1469 - acc: 0.5910"
          ],
          "name": "stdout"
        },
        {
          "output_type": "stream",
          "text": [
            "50000/50000 [==============================] - 18s 351us/step - loss: 1.1393 - acc: 0.5945 - val_loss: 1.0476 - val_acc: 0.6310\n",
            "Epoch 8/20\n",
            "50000/50000 [==============================] - 18s 350us/step - loss: 1.0890 - acc: 0.6125 - val_loss: 1.0892 - val_acc: 0.6252\n",
            "Epoch 9/20\n",
            "35712/50000 [====================>.........] - ETA: 4s - loss: 1.0519 - acc: 0.6244"
          ],
          "name": "stdout"
        },
        {
          "output_type": "stream",
          "text": [
            "50000/50000 [==============================] - 18s 352us/step - loss: 1.0488 - acc: 0.6266 - val_loss: 1.0397 - val_acc: 0.6376\n",
            "Epoch 10/20\n",
            "50000/50000 [==============================] - 18s 353us/step - loss: 1.0063 - acc: 0.6423 - val_loss: 0.8893 - val_acc: 0.6845\n",
            "Epoch 11/20\n",
            "35456/50000 [====================>.........] - ETA: 4s - loss: 0.9762 - acc: 0.6559"
          ],
          "name": "stdout"
        },
        {
          "output_type": "stream",
          "text": [
            "50000/50000 [==============================] - 18s 350us/step - loss: 0.9697 - acc: 0.6582 - val_loss: 0.9003 - val_acc: 0.6834\n",
            "Epoch 12/20\n",
            "50000/50000 [==============================] - 17s 350us/step - loss: 0.9392 - acc: 0.6675 - val_loss: 0.8657 - val_acc: 0.6950\n",
            "Epoch 13/20\n",
            "35456/50000 [====================>.........] - ETA: 4s - loss: 0.9176 - acc: 0.6769"
          ],
          "name": "stdout"
        },
        {
          "output_type": "stream",
          "text": [
            "50000/50000 [==============================] - 17s 349us/step - loss: 0.9137 - acc: 0.6775 - val_loss: 0.9235 - val_acc: 0.6812\n",
            "Epoch 14/20\n",
            "50000/50000 [==============================] - 17s 349us/step - loss: 0.8874 - acc: 0.6857 - val_loss: 0.8293 - val_acc: 0.7101\n",
            "Epoch 15/20\n",
            "35584/50000 [====================>.........] - ETA: 4s - loss: 0.8622 - acc: 0.6922"
          ],
          "name": "stdout"
        },
        {
          "output_type": "stream",
          "text": [
            "50000/50000 [==============================] - 17s 349us/step - loss: 0.8625 - acc: 0.6937 - val_loss: 0.7957 - val_acc: 0.7213\n",
            "Epoch 16/20\n",
            "50000/50000 [==============================] - 18s 351us/step - loss: 0.8412 - acc: 0.7021 - val_loss: 0.8623 - val_acc: 0.7017\n",
            "Epoch 17/20\n",
            "35328/50000 [====================>.........] - ETA: 4s - loss: 0.8271 - acc: 0.7063"
          ],
          "name": "stdout"
        },
        {
          "output_type": "stream",
          "text": [
            "50000/50000 [==============================] - 17s 350us/step - loss: 0.8260 - acc: 0.7073 - val_loss: 0.8963 - val_acc: 0.6911\n",
            "Epoch 18/20\n",
            "50000/50000 [==============================] - 17s 349us/step - loss: 0.7977 - acc: 0.7192 - val_loss: 0.8140 - val_acc: 0.7201\n",
            "Epoch 19/20\n",
            "35456/50000 [====================>.........] - ETA: 4s - loss: 0.7872 - acc: 0.7217"
          ],
          "name": "stdout"
        },
        {
          "output_type": "stream",
          "text": [
            "50000/50000 [==============================] - 17s 348us/step - loss: 0.7814 - acc: 0.7234 - val_loss: 0.7898 - val_acc: 0.7269\n",
            "Epoch 20/20\n",
            "50000/50000 [==============================] - 17s 348us/step - loss: 0.7731 - acc: 0.7269 - val_loss: 0.7826 - val_acc: 0.7337\n"
          ],
          "name": "stdout"
        }
      ]
    },
    {
      "metadata": {
        "id": "L-1gJhvUuWMR",
        "colab_type": "code",
        "colab": {
          "base_uri": "https://localhost:8080/",
          "height": 272
        },
        "outputId": "59180dc6-897c-4cad-903c-19fd3dd5addc"
      },
      "cell_type": "code",
      "source": [
        "\n",
        "model = keras.models.load_model('cifra10_batch.h5')\n",
        "print('\\n  - Model with Batch Normalization:')\n",
        "scores = model.evaluate(x_test, y_test, verbose=0)\n",
        "print('\\tTest loss:\\t', scores[0])\n",
        "print('\\tTest accuracy:\\t', scores[1])\n",
        "\n",
        "Y_pred = model.predict(x_test, verbose=2)\n",
        "cm = confusion_matrix(np.argmax(y_test,axis=1),np.argmax(Y_pred, axis=1))\n",
        "print('\\tConfusion Matrix:\\t')\n",
        "print(cm)"
      ],
      "execution_count": 15,
      "outputs": [
        {
          "output_type": "stream",
          "text": [
            "\n",
            "  - Model with Batch Normalization:\n",
            "\tTest loss:\t 0.7826421875\n",
            "\tTest accuracy:\t 0.7337\n",
            "\tConfusion Matrix:\t\n",
            "[[718  12  41  26  38  15  10  35  47  58]\n",
            " [  8 764   3  13   6   5  11  11  16 163]\n",
            " [ 46   2 500  74 122 101  69  69   5  12]\n",
            " [  6   5  24 565  66 206  53  54   6  15]\n",
            " [ 11   1  25  60 735  30  30 101   5   2]\n",
            " [  6   1  13 141  47 705  13  68   1   5]\n",
            " [  3   1  15  79  45  25 819   9   2   2]\n",
            " [  3   0   6  27  40  57   3 859   0   5]\n",
            " [ 53  32  10  26  13   5   5  14 789  53]\n",
            " [ 13  32   2  11   7   4   5  31  12 883]]\n"
          ],
          "name": "stdout"
        }
      ]
    },
    {
      "metadata": {
        "id": "S7i58d-1uWMc",
        "colab_type": "code",
        "colab": {
          "base_uri": "https://localhost:8080/",
          "height": 734
        },
        "outputId": "b661a150-59c0-441d-d944-bbd2c5df1209"
      },
      "cell_type": "code",
      "source": [
        "from keras.layers.normalization import BatchNormalization\n",
        "from keras import regularizers\n",
        "\n",
        "weight_decay = 1e-4\n",
        "\n",
        "model = Sequential()\n",
        "\n",
        "model.add(Conv2D(32, (3, 3), padding='same',\n",
        "                 input_shape=x_train.shape[1:]))\n",
        "\n",
        "model.add(BatchNormalization())\n",
        "\n",
        "model.add(Activation('relu'))\n",
        "model.add(Conv2D(32, (3, 3)))\n",
        "\n",
        "model.add(BatchNormalization())\n",
        "\n",
        "model.add(Activation('relu'))\n",
        "model.add(MaxPooling2D(pool_size=(2, 2)))\n",
        "model.add(Dropout(0.25))\n",
        "\n",
        "model.add(Conv2D(64, (3, 3), padding='same', kernel_regularizer=regularizers.l2(weight_decay)))\n",
        "\n",
        "model.add(BatchNormalization())\n",
        "\n",
        "model.add(Activation('relu'))\n",
        "model.add(Conv2D(64, (3, 3), kernel_regularizer=regularizers.l2(weight_decay)))\n",
        "\n",
        "model.add(BatchNormalization())\n",
        "\n",
        "model.add(Activation('relu'))\n",
        "model.add(MaxPooling2D(pool_size=(2, 2)))\n",
        "model.add(Dropout(0.25))\n",
        "\n",
        "model.add(Flatten())\n",
        "model.add(Dense(512))\n",
        "model.add(Activation('relu'))\n",
        "model.add(Dropout(0.5))\n",
        "model.add(Dense(num_classes))\n",
        "model.add(Activation('softmax'))\n",
        "\n",
        "opt = keras.optimizers.rmsprop(lr=0.0001, decay=1e-6)\n",
        "model.compile(loss='categorical_crossentropy',\n",
        "              optimizer=opt,\n",
        "                metrics=['accuracy'])\n",
        "model.fit(x_train, y_train,\n",
        "            batch_size=batch_size,\n",
        "            epochs=epochs,\n",
        "            validation_data=(x_test, y_test),\n",
        "            shuffle=True)\n",
        "\n",
        "model.save('cifra10_batch_regL2.h5')"
      ],
      "execution_count": 16,
      "outputs": [
        {
          "output_type": "stream",
          "text": [
            "Train on 50000 samples, validate on 10000 samples\n",
            "Epoch 1/20\n",
            "50000/50000 [==============================] - 20s 391us/step - loss: 1.9556 - acc: 0.3048 - val_loss: 1.6298 - val_acc: 0.4052\n",
            "Epoch 2/20\n",
            "50000/50000 [==============================] - 18s 352us/step - loss: 1.5889 - acc: 0.4204 - val_loss: 1.3941 - val_acc: 0.4997\n",
            "Epoch 3/20\n",
            " 8960/50000 [====>.........................] - ETA: 13s - loss: 1.5171 - acc: 0.4443"
          ],
          "name": "stdout"
        },
        {
          "output_type": "stream",
          "text": [
            "50000/50000 [==============================] - 18s 353us/step - loss: 1.4601 - acc: 0.4730 - val_loss: 1.3182 - val_acc: 0.5305\n",
            "Epoch 4/20\n",
            "50000/50000 [==============================] - 18s 351us/step - loss: 1.3745 - acc: 0.5065 - val_loss: 1.2634 - val_acc: 0.5532\n",
            "Epoch 5/20\n",
            "29696/50000 [================>.............] - ETA: 6s - loss: 1.3170 - acc: 0.5300"
          ],
          "name": "stdout"
        },
        {
          "output_type": "stream",
          "text": [
            "50000/50000 [==============================] - 18s 352us/step - loss: 1.3086 - acc: 0.5326 - val_loss: 1.1818 - val_acc: 0.5780\n",
            "Epoch 6/20\n",
            "50000/50000 [==============================] - 18s 353us/step - loss: 1.2513 - acc: 0.5509 - val_loss: 1.1197 - val_acc: 0.6074\n",
            "Epoch 7/20\n",
            "34432/50000 [===================>..........] - ETA: 5s - loss: 1.2059 - acc: 0.5734"
          ],
          "name": "stdout"
        },
        {
          "output_type": "stream",
          "text": [
            "50000/50000 [==============================] - 18s 352us/step - loss: 1.2049 - acc: 0.5743 - val_loss: 1.0720 - val_acc: 0.6243\n",
            "Epoch 8/20\n",
            "50000/50000 [==============================] - 18s 353us/step - loss: 1.1596 - acc: 0.5926 - val_loss: 1.0738 - val_acc: 0.6251\n",
            "Epoch 9/20\n",
            "35456/50000 [====================>.........] - ETA: 4s - loss: 1.1165 - acc: 0.6051"
          ],
          "name": "stdout"
        },
        {
          "output_type": "stream",
          "text": [
            "50000/50000 [==============================] - 18s 351us/step - loss: 1.1077 - acc: 0.6079 - val_loss: 1.0416 - val_acc: 0.6366\n",
            "Epoch 10/20\n",
            "50000/50000 [==============================] - 18s 353us/step - loss: 1.0722 - acc: 0.6208 - val_loss: 1.0107 - val_acc: 0.6545\n",
            "Epoch 11/20\n",
            "35328/50000 [====================>.........] - ETA: 4s - loss: 1.0511 - acc: 0.6311"
          ],
          "name": "stdout"
        },
        {
          "output_type": "stream",
          "text": [
            "50000/50000 [==============================] - 18s 351us/step - loss: 1.0441 - acc: 0.6332 - val_loss: 1.0244 - val_acc: 0.6391\n",
            "Epoch 12/20\n",
            "50000/50000 [==============================] - 18s 354us/step - loss: 1.0048 - acc: 0.6461 - val_loss: 0.9385 - val_acc: 0.6762\n",
            "Epoch 13/20\n",
            "35456/50000 [====================>.........] - ETA: 4s - loss: 0.9756 - acc: 0.6578"
          ],
          "name": "stdout"
        },
        {
          "output_type": "stream",
          "text": [
            "50000/50000 [==============================] - 18s 352us/step - loss: 0.9771 - acc: 0.6569 - val_loss: 0.9015 - val_acc: 0.6866\n",
            "Epoch 14/20\n",
            "50000/50000 [==============================] - 18s 352us/step - loss: 0.9504 - acc: 0.6669 - val_loss: 0.8687 - val_acc: 0.6947\n",
            "Epoch 15/20\n",
            "35584/50000 [====================>.........] - ETA: 4s - loss: 0.9238 - acc: 0.6784"
          ],
          "name": "stdout"
        },
        {
          "output_type": "stream",
          "text": [
            "50000/50000 [==============================] - 18s 351us/step - loss: 0.9228 - acc: 0.6777 - val_loss: 0.8914 - val_acc: 0.6916\n",
            "Epoch 16/20\n",
            "50000/50000 [==============================] - 18s 353us/step - loss: 0.8984 - acc: 0.6865 - val_loss: 0.9595 - val_acc: 0.6679\n",
            "Epoch 17/20\n",
            "35584/50000 [====================>.........] - ETA: 4s - loss: 0.8745 - acc: 0.6935"
          ],
          "name": "stdout"
        },
        {
          "output_type": "stream",
          "text": [
            "50000/50000 [==============================] - 18s 354us/step - loss: 0.8752 - acc: 0.6930 - val_loss: 0.9191 - val_acc: 0.6843\n",
            "Epoch 18/20\n",
            "50000/50000 [==============================] - 18s 352us/step - loss: 0.8538 - acc: 0.7013 - val_loss: 0.8051 - val_acc: 0.7186\n",
            "Epoch 19/20\n",
            "35712/50000 [====================>.........] - ETA: 4s - loss: 0.8355 - acc: 0.7092"
          ],
          "name": "stdout"
        },
        {
          "output_type": "stream",
          "text": [
            "50000/50000 [==============================] - 18s 352us/step - loss: 0.8381 - acc: 0.7078 - val_loss: 0.8196 - val_acc: 0.7196\n",
            "Epoch 20/20\n",
            "50000/50000 [==============================] - 18s 354us/step - loss: 0.8136 - acc: 0.7163 - val_loss: 0.7944 - val_acc: 0.7245\n"
          ],
          "name": "stdout"
        }
      ]
    },
    {
      "metadata": {
        "id": "jpd39SHkuWMf",
        "colab_type": "code",
        "colab": {
          "base_uri": "https://localhost:8080/",
          "height": 85
        },
        "outputId": "5bbec0f6-5d3e-475a-a718-4bdae18eb4e5"
      },
      "cell_type": "code",
      "source": [
        "model.save('cifra10_batch_regL2.h5')\n",
        "print('\\n  - Model with batch normalization and regularizer:')\n",
        "scores = model.evaluate(x_test, y_test, verbose=0)\n",
        "print('\\tTest loss:\\t', scores[0])\n",
        "print('\\tTest accuracy:\\t', scores[1])"
      ],
      "execution_count": 17,
      "outputs": [
        {
          "output_type": "stream",
          "text": [
            "\n",
            "  - Model with batch normalization and regularizer:\n",
            "\tTest loss:\t 0.794379836654663\n",
            "\tTest accuracy:\t 0.7245\n"
          ],
          "name": "stdout"
        }
      ]
    }
  ]
}