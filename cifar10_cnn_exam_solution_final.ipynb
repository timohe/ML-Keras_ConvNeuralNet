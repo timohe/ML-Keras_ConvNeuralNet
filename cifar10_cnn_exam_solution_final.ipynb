{
  "nbformat": 4,
  "nbformat_minor": 0,
  "metadata": {
    "colab": {
      "name": "cifar10_cnn_exam_solution.ipynb",
      "version": "0.3.2",
      "provenance": []
    },
    "kernelspec": {
      "display_name": "Python 3",
      "language": "python",
      "name": "python3"
    },
    "accelerator": "GPU"
  },
  "cells": [
    {
      "metadata": {
        "id": "CwL1HaHTuWLt",
        "colab_type": "text"
      },
      "cell_type": "markdown",
      "source": [
        "# CIFAR10 with CNN\n",
        "code from https://github.com/fchollet/keras/blob/master/examples/mnist_cnn.py\n"
      ]
    },
    {
      "metadata": {
        "id": "tkM8NCnJuWLv",
        "colab_type": "raw"
      },
      "cell_type": "markdown",
      "source": [
        "This notebook trains a simple convolutional neural network on the CIFAR10 small images dataset. \n",
        "Note: Although its seems like the epochs sometimes do not train until the end, this is only a visual issue. \n",
        "\n"
      ]
    },
    {
      "metadata": {
        "id": "YL5O83rccR4T",
        "colab_type": "text"
      },
      "cell_type": "markdown",
      "source": [
        "### Setup"
      ]
    },
    {
      "metadata": {
        "id": "S8UZFSsBuWLv",
        "colab_type": "code",
        "colab": {
          "base_uri": "https://localhost:8080/",
          "height": 17
        },
        "outputId": "e49355ec-5eda-4a19-b5c2-7245815c5901"
      },
      "cell_type": "code",
      "source": [
        "# import libraries\n",
        "from __future__ import print_function\n",
        "from __future__ import print_function\n",
        "import keras\n",
        "from keras.datasets import cifar10\n",
        "from keras.models import Sequential\n",
        "from keras.layers import Dense, Dropout, Activation, Flatten\n",
        "from keras.layers import Conv2D, MaxPooling2D\n",
        "\n",
        "#for confusion matrix\n",
        "import numpy as np\n",
        "import sklearn\n",
        "from sklearn.metrics import confusion_matrix\n"
      ],
      "execution_count": 10,
      "outputs": []
    },
    {
      "metadata": {
        "id": "o07n3FvbuWL0",
        "colab_type": "code",
        "colab": {
          "base_uri": "https://localhost:8080/",
          "height": 68
        },
        "outputId": "c6f9a44a-ff81-4855-97ae-683c6b8ef6e1"
      },
      "cell_type": "code",
      "source": [
        "# define constants\n",
        "batch_size = 128\n",
        "num_classes = 10\n",
        "epochs = 20\n",
        "\n",
        "\n",
        "# The data, shuffled and split between train and test sets:\n",
        "(x_train, y_train), (x_test, y_test) = cifar10.load_data()\n",
        "print('x_train shape:', x_train.shape)\n",
        "print(x_train.shape[0], 'train samples')\n",
        "print(x_test.shape[0], 'test samples')\n",
        "\n",
        "# Convert class vectors to binary class matrices.\n",
        "y_train = keras.utils.to_categorical(y_train, num_classes)\n",
        "y_test = keras.utils.to_categorical(y_test, num_classes)\n",
        "\n",
        "# Cast features into correct data type then scale features\n",
        "x_train = x_train.astype('float32')\n",
        "x_test = x_test.astype('float32')\n",
        "x_train /= 255\n",
        "x_test /= 255"
      ],
      "execution_count": 11,
      "outputs": [
        {
          "output_type": "stream",
          "text": [
            "x_train shape: (50000, 32, 32, 3)\n",
            "50000 train samples\n",
            "10000 test samples\n"
          ],
          "name": "stdout"
        }
      ]
    },
    {
      "metadata": {
        "id": "cW5LnHj5uWL3",
        "colab_type": "text"
      },
      "cell_type": "markdown",
      "source": [
        "### Base case"
      ]
    },
    {
      "metadata": {
        "id": "YYl_mjtUuWL4",
        "colab_type": "code",
        "colab": {
          "base_uri": "https://localhost:8080/",
          "height": 17
        },
        "outputId": "518861a9-bc34-4781-cd27-2fede2171c8d"
      },
      "cell_type": "code",
      "source": [
        "model = Sequential()\n",
        "\n",
        "model.add(Conv2D(32, (3, 3), padding='same',\n",
        "                 input_shape=x_train.shape[1:]))\n",
        "model.add(Activation('relu'))\n",
        "model.add(Conv2D(32, (3, 3)))\n",
        "model.add(Activation('relu'))\n",
        "model.add(MaxPooling2D(pool_size=(2, 2)))\n",
        "model.add(Dropout(0.25))\n",
        "\n",
        "model.add(Conv2D(64, (3, 3), padding='same'))\n",
        "model.add(Activation('relu'))\n",
        "model.add(Conv2D(64, (3, 3)))\n",
        "model.add(Activation('relu'))\n",
        "model.add(MaxPooling2D(pool_size=(2, 2)))\n",
        "model.add(Dropout(0.25))\n",
        "\n",
        "model.add(Flatten())\n",
        "model.add(Dense(512))\n",
        "model.add(Activation('relu'))\n",
        "model.add(Dropout(0.5))\n",
        "model.add(Dense(num_classes))\n",
        "model.add(Activation('softmax'))\n"
      ],
      "execution_count": 12,
      "outputs": []
    },
    {
      "metadata": {
        "id": "j--3W_mEuWL9",
        "colab_type": "code",
        "colab": {
          "base_uri": "https://localhost:8080/",
          "height": 734
        },
        "outputId": "8e082723-b719-4957-9099-b2929f2fd318"
      },
      "cell_type": "code",
      "source": [
        "# initiate RMSprop optimizer\n",
        "opt = keras.optimizers.rmsprop(lr=0.0001, decay=1e-6)\n",
        "\n",
        "# Let's train the model using RMSprop\n",
        "model.compile(loss='categorical_crossentropy',\n",
        "              optimizer=opt,\n",
        "                metrics=['accuracy'])\n",
        "\n",
        "\n",
        "model.fit(x_train, y_train,\n",
        "            batch_size=batch_size,\n",
        "            epochs=epochs,\n",
        "            validation_data=(x_test, y_test),\n",
        "            shuffle=True)\n",
        "\n",
        "# Save the original model\n",
        "model.save('cifra10_base.h5')\n",
        "\n"
      ],
      "execution_count": 13,
      "outputs": [
        {
          "output_type": "stream",
          "text": [
            "Train on 50000 samples, validate on 10000 samples\n",
            "Epoch 1/20\n",
            "50000/50000 [==============================] - 14s 273us/step - loss: 1.9615 - acc: 0.2762 - val_loss: 1.7035 - val_acc: 0.3952\n",
            "Epoch 2/20\n",
            "50000/50000 [==============================] - 13s 257us/step - loss: 1.6647 - acc: 0.3953 - val_loss: 1.5512 - val_acc: 0.4449\n",
            "Epoch 3/20\n",
            " 9344/50000 [====>.........................] - ETA: 9s - loss: 1.5881 - acc: 0.4238 "
          ],
          "name": "stdout"
        },
        {
          "output_type": "stream",
          "text": [
            "50000/50000 [==============================] - 13s 258us/step - loss: 1.5464 - acc: 0.4364 - val_loss: 1.4493 - val_acc: 0.4771\n",
            "Epoch 4/20\n",
            "50000/50000 [==============================] - 13s 259us/step - loss: 1.4681 - acc: 0.4676 - val_loss: 1.3638 - val_acc: 0.5108\n",
            "Epoch 5/20\n",
            "29824/50000 [================>.............] - ETA: 4s - loss: 1.4175 - acc: 0.4887"
          ],
          "name": "stdout"
        },
        {
          "output_type": "stream",
          "text": [
            "50000/50000 [==============================] - 13s 257us/step - loss: 1.4078 - acc: 0.4927 - val_loss: 1.3076 - val_acc: 0.5383\n",
            "Epoch 6/20\n",
            "50000/50000 [==============================] - 13s 260us/step - loss: 1.3538 - acc: 0.5161 - val_loss: 1.2917 - val_acc: 0.5386\n",
            "Epoch 7/20\n",
            "34176/50000 [===================>..........] - ETA: 3s - loss: 1.3202 - acc: 0.5307"
          ],
          "name": "stdout"
        },
        {
          "output_type": "stream",
          "text": [
            "50000/50000 [==============================] - 13s 259us/step - loss: 1.3119 - acc: 0.5344 - val_loss: 1.2189 - val_acc: 0.5699\n",
            "Epoch 8/20\n",
            "50000/50000 [==============================] - 13s 259us/step - loss: 1.2655 - acc: 0.5527 - val_loss: 1.1920 - val_acc: 0.5733\n",
            "Epoch 9/20\n",
            "34688/50000 [===================>..........] - ETA: 3s - loss: 1.2325 - acc: 0.5622"
          ],
          "name": "stdout"
        },
        {
          "output_type": "stream",
          "text": [
            "50000/50000 [==============================] - 13s 259us/step - loss: 1.2276 - acc: 0.5636 - val_loss: 1.1449 - val_acc: 0.5966\n",
            "Epoch 10/20\n",
            "50000/50000 [==============================] - 13s 258us/step - loss: 1.1890 - acc: 0.5813 - val_loss: 1.1207 - val_acc: 0.6036\n",
            "Epoch 11/20\n",
            "35712/50000 [====================>.........] - ETA: 3s - loss: 1.1615 - acc: 0.5863"
          ],
          "name": "stdout"
        },
        {
          "output_type": "stream",
          "text": [
            "50000/50000 [==============================] - 13s 259us/step - loss: 1.1569 - acc: 0.5901 - val_loss: 1.0678 - val_acc: 0.6214\n",
            "Epoch 12/20\n",
            "50000/50000 [==============================] - 13s 260us/step - loss: 1.1234 - acc: 0.6034 - val_loss: 1.0922 - val_acc: 0.6203\n",
            "Epoch 13/20\n",
            "34944/50000 [===================>..........] - ETA: 3s - loss: 1.0939 - acc: 0.6169"
          ],
          "name": "stdout"
        },
        {
          "output_type": "stream",
          "text": [
            "50000/50000 [==============================] - 13s 258us/step - loss: 1.0924 - acc: 0.6169 - val_loss: 1.0170 - val_acc: 0.6445\n",
            "Epoch 14/20\n",
            "50000/50000 [==============================] - 13s 259us/step - loss: 1.0641 - acc: 0.6255 - val_loss: 0.9874 - val_acc: 0.6555\n",
            "Epoch 15/20\n",
            "35200/50000 [====================>.........] - ETA: 3s - loss: 1.0420 - acc: 0.6360"
          ],
          "name": "stdout"
        },
        {
          "output_type": "stream",
          "text": [
            "50000/50000 [==============================] - 13s 260us/step - loss: 1.0382 - acc: 0.6363 - val_loss: 0.9699 - val_acc: 0.6605\n",
            "Epoch 16/20\n",
            "50000/50000 [==============================] - 13s 257us/step - loss: 1.0100 - acc: 0.6465 - val_loss: 0.9734 - val_acc: 0.6600\n",
            "Epoch 17/20\n",
            "35200/50000 [====================>.........] - ETA: 3s - loss: 0.9903 - acc: 0.6513"
          ],
          "name": "stdout"
        },
        {
          "output_type": "stream",
          "text": [
            "50000/50000 [==============================] - 13s 259us/step - loss: 0.9907 - acc: 0.6509 - val_loss: 0.9176 - val_acc: 0.6778\n",
            "Epoch 18/20\n",
            "50000/50000 [==============================] - 13s 258us/step - loss: 0.9709 - acc: 0.6605 - val_loss: 0.8981 - val_acc: 0.6840\n",
            "Epoch 19/20\n",
            "35712/50000 [====================>.........] - ETA: 3s - loss: 0.9510 - acc: 0.6661"
          ],
          "name": "stdout"
        },
        {
          "output_type": "stream",
          "text": [
            "50000/50000 [==============================] - 13s 258us/step - loss: 0.9498 - acc: 0.6657 - val_loss: 0.9161 - val_acc: 0.6816\n",
            "Epoch 20/20\n",
            "50000/50000 [==============================] - 13s 260us/step - loss: 0.9302 - acc: 0.6746 - val_loss: 0.8805 - val_acc: 0.6913\n"
          ],
          "name": "stdout"
        }
      ]
    },
    {
      "metadata": {
        "id": "qjAnVrbjuWMH",
        "colab_type": "code",
        "colab": {
          "base_uri": "https://localhost:8080/",
          "height": 272
        },
        "outputId": "96c7f70e-5edf-45c3-ba27-81debd7c39a6"
      },
      "cell_type": "code",
      "source": [
        "# Print base model loss and accuracy\n",
        "print('\\n  - Base case:')\n",
        "model = keras.models.load_model(\"cifra10_base.h5\")\n",
        "scores = model.evaluate(x_test, y_test, verbose=0)\n",
        "print('\\tTest loss:\\t', scores[0])\n",
        "print('\\tTest accuracy:\\t', scores[1])\n",
        "Y_pred = model.predict(x_test, verbose=2)\n",
        "cm = confusion_matrix(np.argmax(y_test,axis=1),np.argmax(Y_pred, axis=1))\n",
        "print('\\tConfusion Matrix:\\t')\n",
        "print(cm)"
      ],
      "execution_count": 14,
      "outputs": [
        {
          "output_type": "stream",
          "text": [
            "\n",
            "  - Base case:\n",
            "\tTest loss:\t 0.8805189178466797\n",
            "\tTest accuracy:\t 0.6913\n",
            "\tConfusion Matrix:\t\n",
            "[[761  22  42  12   7   6  12  18  65  55]\n",
            " [ 17 829   5   4   1   2  12   8  15 107]\n",
            " [ 80  10 524  54  93  66  80  61  11  21]\n",
            " [ 20  15  72 413  70 200  89  72  18  31]\n",
            " [ 30   6  83  34 553  40  87 148  14   5]\n",
            " [  9   2  52 121  52 607  39  88  12  18]\n",
            " [  9   4  41  43  38  20 812  17   7   9]\n",
            " [ 13   6  25  18  39  53  10 817   3  16]\n",
            " [ 78  59  15   7   4   6   7   9 775  40]\n",
            " [ 34  69   4   7   6   4  11  23  20 822]]\n"
          ],
          "name": "stdout"
        }
      ]
    },
    {
      "metadata": {
        "id": "Yt0xEddBmTsk",
        "colab_type": "text"
      },
      "cell_type": "markdown",
      "source": [
        "### 1) Augment the data by adding noise."
      ]
    },
    {
      "metadata": {
        "id": "AMBbUhcTuWMJ",
        "colab_type": "code",
        "colab": {
          "base_uri": "https://localhost:8080/",
          "height": 3522
        },
        "outputId": "b8a5a412-4ac1-4c7e-e5a4-c54b8dc81493"
      },
      "cell_type": "code",
      "source": [
        "# Save models with gaussian noise with different Standard Deviation\n",
        "for e in [0.5,0.1,0.05,0.02,0.01]:  \n",
        "  model = Sequential()\n",
        "  model.add(Conv2D(32, (3, 3), padding='same',input_shape=x_train.shape[1:]))\n",
        "  model.add(Activation('relu'))\n",
        "  model.add(Conv2D(32, (3, 3)))\n",
        "  model.add(Activation('relu'))\n",
        "  model.add(MaxPooling2D(pool_size=(2, 2)))\n",
        "  model.add(Dropout(0.25))\n",
        "  \n",
        "  #Add noise\n",
        "  model.add(keras.layers.GaussianNoise(e))\n",
        "\n",
        "  model.add(Conv2D(64, (3, 3), padding='same'))\n",
        "  model.add(Activation('relu'))\n",
        "  model.add(Conv2D(64, (3, 3)))\n",
        "  model.add(Activation('relu'))\n",
        "  model.add(MaxPooling2D(pool_size=(2, 2)))\n",
        "  model.add(Dropout(0.25))\n",
        "\n",
        "  model.add(Flatten())\n",
        "  model.add(Dense(512))\n",
        "  model.add(Activation('relu'))\n",
        "  model.add(Dropout(0.5))\n",
        "  model.add(Dense(num_classes))\n",
        "  model.add(Activation('softmax'))\n",
        "  \n",
        "  model.compile(loss='categorical_crossentropy', optimizer=opt, metrics=['accuracy'])\n",
        "  model.fit(x_train, y_train,\n",
        "                batch_size=batch_size,\n",
        "                epochs=epochs,\n",
        "                validation_data=(x_test, y_test),\n",
        "                shuffle=True)\n",
        "  model.save('cifra10_n'+str(e)+'.h5')"
      ],
      "execution_count": 15,
      "outputs": [
        {
          "output_type": "stream",
          "text": [
            "Train on 50000 samples, validate on 10000 samples\n",
            "Epoch 1/20\n",
            "50000/50000 [==============================] - 14s 274us/step - loss: 2.2335 - acc: 0.1548 - val_loss: 2.3352 - val_acc: 0.1054\n",
            "Epoch 2/20\n",
            "50000/50000 [==============================] - 13s 262us/step - loss: 2.0171 - acc: 0.2517 - val_loss: 2.1543 - val_acc: 0.1526\n",
            "Epoch 3/20\n",
            " 8576/50000 [====>.........................] - ETA: 10s - loss: 1.9442 - acc: 0.2912"
          ],
          "name": "stdout"
        },
        {
          "output_type": "stream",
          "text": [
            "50000/50000 [==============================] - 13s 261us/step - loss: 1.8772 - acc: 0.3123 - val_loss: 2.0207 - val_acc: 0.2273\n",
            "Epoch 4/20\n",
            "50000/50000 [==============================] - 13s 262us/step - loss: 1.7720 - acc: 0.3539 - val_loss: 1.9886 - val_acc: 0.2551\n",
            "Epoch 5/20\n",
            "29312/50000 [================>.............] - ETA: 5s - loss: 1.7016 - acc: 0.3826"
          ],
          "name": "stdout"
        },
        {
          "output_type": "stream",
          "text": [
            "50000/50000 [==============================] - 13s 263us/step - loss: 1.6924 - acc: 0.3856 - val_loss: 1.8913 - val_acc: 0.3243\n",
            "Epoch 6/20\n",
            "50000/50000 [==============================] - 13s 261us/step - loss: 1.6389 - acc: 0.4035 - val_loss: 1.8533 - val_acc: 0.3422\n",
            "Epoch 7/20\n",
            "34432/50000 [===================>..........] - ETA: 3s - loss: 1.5922 - acc: 0.4223"
          ],
          "name": "stdout"
        },
        {
          "output_type": "stream",
          "text": [
            "50000/50000 [==============================] - 13s 264us/step - loss: 1.5881 - acc: 0.4241 - val_loss: 1.7911 - val_acc: 0.3763\n",
            "Epoch 8/20\n",
            "50000/50000 [==============================] - 13s 264us/step - loss: 1.5424 - acc: 0.4418 - val_loss: 1.7739 - val_acc: 0.3802\n",
            "Epoch 9/20\n",
            "34688/50000 [===================>..........] - ETA: 3s - loss: 1.5112 - acc: 0.4572"
          ],
          "name": "stdout"
        },
        {
          "output_type": "stream",
          "text": [
            "50000/50000 [==============================] - 13s 258us/step - loss: 1.5094 - acc: 0.4568 - val_loss: 1.7013 - val_acc: 0.4053\n",
            "Epoch 10/20\n",
            "50000/50000 [==============================] - 13s 264us/step - loss: 1.4753 - acc: 0.4683 - val_loss: 1.8071 - val_acc: 0.3824\n",
            "Epoch 11/20\n",
            "34944/50000 [===================>..........] - ETA: 3s - loss: 1.4407 - acc: 0.4804"
          ],
          "name": "stdout"
        },
        {
          "output_type": "stream",
          "text": [
            "50000/50000 [==============================] - 13s 262us/step - loss: 1.4412 - acc: 0.4814 - val_loss: 1.7206 - val_acc: 0.4017\n",
            "Epoch 12/20\n",
            "50000/50000 [==============================] - 13s 260us/step - loss: 1.4142 - acc: 0.4917 - val_loss: 1.6308 - val_acc: 0.4261\n",
            "Epoch 13/20\n",
            "35200/50000 [====================>.........] - ETA: 3s - loss: 1.3855 - acc: 0.5019"
          ],
          "name": "stdout"
        },
        {
          "output_type": "stream",
          "text": [
            "50000/50000 [==============================] - 13s 263us/step - loss: 1.3845 - acc: 0.5031 - val_loss: 1.6744 - val_acc: 0.4259\n",
            "Epoch 14/20\n",
            "50000/50000 [==============================] - 13s 259us/step - loss: 1.3606 - acc: 0.5128 - val_loss: 1.6078 - val_acc: 0.4414\n",
            "Epoch 15/20\n",
            "35968/50000 [====================>.........] - ETA: 3s - loss: 1.3458 - acc: 0.5192"
          ],
          "name": "stdout"
        },
        {
          "output_type": "stream",
          "text": [
            "50000/50000 [==============================] - 13s 261us/step - loss: 1.3380 - acc: 0.5216 - val_loss: 1.4557 - val_acc: 0.4826\n",
            "Epoch 16/20\n",
            "50000/50000 [==============================] - 13s 263us/step - loss: 1.3169 - acc: 0.5286 - val_loss: 1.6442 - val_acc: 0.4408\n",
            "Epoch 17/20\n",
            "35712/50000 [====================>.........] - ETA: 3s - loss: 1.2976 - acc: 0.5358"
          ],
          "name": "stdout"
        },
        {
          "output_type": "stream",
          "text": [
            "50000/50000 [==============================] - 13s 261us/step - loss: 1.2986 - acc: 0.5363 - val_loss: 1.5048 - val_acc: 0.4745\n",
            "Epoch 18/20\n",
            "50000/50000 [==============================] - 13s 265us/step - loss: 1.2789 - acc: 0.5434 - val_loss: 1.4914 - val_acc: 0.4804\n",
            "Epoch 19/20\n",
            "34688/50000 [===================>..........] - ETA: 3s - loss: 1.2568 - acc: 0.5518"
          ],
          "name": "stdout"
        },
        {
          "output_type": "stream",
          "text": [
            "50000/50000 [==============================] - 13s 260us/step - loss: 1.2605 - acc: 0.5518 - val_loss: 1.3974 - val_acc: 0.5087\n",
            "Epoch 20/20\n",
            "50000/50000 [==============================] - 13s 260us/step - loss: 1.2410 - acc: 0.5583 - val_loss: 1.4773 - val_acc: 0.4864\n",
            "Train on 50000 samples, validate on 10000 samples\n",
            "Epoch 1/20\n",
            "29824/50000 [================>.............] - ETA: 5s - loss: 2.1255 - acc: 0.2029"
          ],
          "name": "stdout"
        },
        {
          "output_type": "stream",
          "text": [
            "50000/50000 [==============================] - 14s 275us/step - loss: 2.0457 - acc: 0.2415 - val_loss: 1.8455 - val_acc: 0.3427\n",
            "Epoch 2/20\n",
            "50000/50000 [==============================] - 13s 262us/step - loss: 1.7601 - acc: 0.3619 - val_loss: 1.6675 - val_acc: 0.4057\n",
            "Epoch 3/20\n",
            "33920/50000 [===================>..........] - ETA: 3s - loss: 1.6573 - acc: 0.3999"
          ],
          "name": "stdout"
        },
        {
          "output_type": "stream",
          "text": [
            "50000/50000 [==============================] - 13s 262us/step - loss: 1.6447 - acc: 0.4039 - val_loss: 1.5887 - val_acc: 0.4240\n",
            "Epoch 4/20\n",
            "50000/50000 [==============================] - 13s 261us/step - loss: 1.5544 - acc: 0.4363 - val_loss: 1.4892 - val_acc: 0.4646\n",
            "Epoch 5/20\n",
            "35456/50000 [====================>.........] - ETA: 3s - loss: 1.4854 - acc: 0.4629"
          ],
          "name": "stdout"
        },
        {
          "output_type": "stream",
          "text": [
            "50000/50000 [==============================] - 13s 262us/step - loss: 1.4808 - acc: 0.4658 - val_loss: 1.4487 - val_acc: 0.4810\n",
            "Epoch 6/20\n",
            "50000/50000 [==============================] - 13s 265us/step - loss: 1.4285 - acc: 0.4887 - val_loss: 1.4188 - val_acc: 0.4913\n",
            "Epoch 7/20\n",
            "35200/50000 [====================>.........] - ETA: 3s - loss: 1.3917 - acc: 0.5006"
          ],
          "name": "stdout"
        },
        {
          "output_type": "stream",
          "text": [
            "50000/50000 [==============================] - 13s 258us/step - loss: 1.3817 - acc: 0.5043 - val_loss: 1.3623 - val_acc: 0.5155\n",
            "Epoch 8/20\n",
            "50000/50000 [==============================] - 13s 259us/step - loss: 1.3364 - acc: 0.5227 - val_loss: 1.2926 - val_acc: 0.5400\n",
            "Epoch 9/20\n",
            "34688/50000 [===================>..........] - ETA: 3s - loss: 1.3094 - acc: 0.5330"
          ],
          "name": "stdout"
        },
        {
          "output_type": "stream",
          "text": [
            "50000/50000 [==============================] - 13s 264us/step - loss: 1.3033 - acc: 0.5361 - val_loss: 1.2663 - val_acc: 0.5525\n",
            "Epoch 10/20\n",
            "50000/50000 [==============================] - 13s 262us/step - loss: 1.2689 - acc: 0.5465 - val_loss: 1.2783 - val_acc: 0.5478\n",
            "Epoch 11/20\n",
            "35200/50000 [====================>.........] - ETA: 3s - loss: 1.2438 - acc: 0.5589"
          ],
          "name": "stdout"
        },
        {
          "output_type": "stream",
          "text": [
            "50000/50000 [==============================] - 13s 264us/step - loss: 1.2356 - acc: 0.5621 - val_loss: 1.1531 - val_acc: 0.5881\n",
            "Epoch 12/20\n",
            "50000/50000 [==============================] - 13s 260us/step - loss: 1.2066 - acc: 0.5730 - val_loss: 1.1543 - val_acc: 0.5895\n",
            "Epoch 13/20\n",
            "35200/50000 [====================>.........] - ETA: 3s - loss: 1.1716 - acc: 0.5870"
          ],
          "name": "stdout"
        },
        {
          "output_type": "stream",
          "text": [
            "50000/50000 [==============================] - 13s 262us/step - loss: 1.1732 - acc: 0.5864 - val_loss: 1.1322 - val_acc: 0.6012\n",
            "Epoch 14/20\n",
            "50000/50000 [==============================] - 13s 264us/step - loss: 1.1485 - acc: 0.5945 - val_loss: 1.0787 - val_acc: 0.6241\n",
            "Epoch 15/20\n",
            "35200/50000 [====================>.........] - ETA: 3s - loss: 1.1280 - acc: 0.6012"
          ],
          "name": "stdout"
        },
        {
          "output_type": "stream",
          "text": [
            "50000/50000 [==============================] - 13s 262us/step - loss: 1.1260 - acc: 0.6026 - val_loss: 1.0543 - val_acc: 0.6339\n",
            "Epoch 16/20\n",
            "50000/50000 [==============================] - 13s 262us/step - loss: 1.0977 - acc: 0.6124 - val_loss: 1.0388 - val_acc: 0.6383\n",
            "Epoch 17/20\n",
            "34944/50000 [===================>..........] - ETA: 3s - loss: 1.0810 - acc: 0.6192"
          ],
          "name": "stdout"
        },
        {
          "output_type": "stream",
          "text": [
            "50000/50000 [==============================] - 13s 261us/step - loss: 1.0781 - acc: 0.6201 - val_loss: 1.0365 - val_acc: 0.6374\n",
            "Epoch 18/20\n",
            "50000/50000 [==============================] - 13s 260us/step - loss: 1.0549 - acc: 0.6291 - val_loss: 0.9921 - val_acc: 0.6541\n",
            "Epoch 19/20\n",
            "35200/50000 [====================>.........] - ETA: 3s - loss: 1.0359 - acc: 0.6379"
          ],
          "name": "stdout"
        },
        {
          "output_type": "stream",
          "text": [
            "50000/50000 [==============================] - 13s 262us/step - loss: 1.0335 - acc: 0.6375 - val_loss: 0.9881 - val_acc: 0.6573\n",
            "Epoch 20/20\n",
            "50000/50000 [==============================] - 13s 262us/step - loss: 1.0111 - acc: 0.6451 - val_loss: 0.9551 - val_acc: 0.6693\n",
            "Train on 50000 samples, validate on 10000 samples\n",
            "Epoch 1/20\n",
            "30848/50000 [=================>............] - ETA: 5s - loss: 2.0371 - acc: 0.2472"
          ],
          "name": "stdout"
        },
        {
          "output_type": "stream",
          "text": [
            "50000/50000 [==============================] - 14s 283us/step - loss: 1.9401 - acc: 0.2874 - val_loss: 1.7217 - val_acc: 0.3886\n",
            "Epoch 2/20\n",
            "50000/50000 [==============================] - 13s 262us/step - loss: 1.6799 - acc: 0.3870 - val_loss: 1.5525 - val_acc: 0.4375\n",
            "Epoch 3/20\n",
            "34688/50000 [===================>..........] - ETA: 3s - loss: 1.5917 - acc: 0.4203"
          ],
          "name": "stdout"
        },
        {
          "output_type": "stream",
          "text": [
            "50000/50000 [==============================] - 13s 262us/step - loss: 1.5790 - acc: 0.4257 - val_loss: 1.4774 - val_acc: 0.4592\n",
            "Epoch 4/20\n",
            "50000/50000 [==============================] - 13s 265us/step - loss: 1.4991 - acc: 0.4533 - val_loss: 1.4126 - val_acc: 0.4861\n",
            "Epoch 5/20\n",
            "34432/50000 [===================>..........] - ETA: 3s - loss: 1.4454 - acc: 0.4758"
          ],
          "name": "stdout"
        },
        {
          "output_type": "stream",
          "text": [
            "50000/50000 [==============================] - 13s 264us/step - loss: 1.4403 - acc: 0.4790 - val_loss: 1.3540 - val_acc: 0.5067\n",
            "Epoch 6/20\n",
            "50000/50000 [==============================] - 13s 261us/step - loss: 1.3967 - acc: 0.4959 - val_loss: 1.3593 - val_acc: 0.5197\n",
            "Epoch 7/20\n",
            "35456/50000 [====================>.........] - ETA: 3s - loss: 1.3473 - acc: 0.5144"
          ],
          "name": "stdout"
        },
        {
          "output_type": "stream",
          "text": [
            "50000/50000 [==============================] - 13s 262us/step - loss: 1.3490 - acc: 0.5164 - val_loss: 1.2903 - val_acc: 0.5375\n",
            "Epoch 8/20\n",
            "50000/50000 [==============================] - 13s 263us/step - loss: 1.3143 - acc: 0.5310 - val_loss: 1.2266 - val_acc: 0.5679\n",
            "Epoch 9/20\n",
            "35712/50000 [====================>.........] - ETA: 3s - loss: 1.2828 - acc: 0.5418"
          ],
          "name": "stdout"
        },
        {
          "output_type": "stream",
          "text": [
            "50000/50000 [==============================] - 13s 263us/step - loss: 1.2810 - acc: 0.5426 - val_loss: 1.2041 - val_acc: 0.5708\n",
            "Epoch 10/20\n",
            "50000/50000 [==============================] - 13s 261us/step - loss: 1.2525 - acc: 0.5554 - val_loss: 1.2142 - val_acc: 0.5668\n",
            "Epoch 11/20\n",
            "35200/50000 [====================>.........] - ETA: 3s - loss: 1.2187 - acc: 0.5679"
          ],
          "name": "stdout"
        },
        {
          "output_type": "stream",
          "text": [
            "50000/50000 [==============================] - 13s 259us/step - loss: 1.2176 - acc: 0.5695 - val_loss: 1.1579 - val_acc: 0.5876\n",
            "Epoch 12/20\n",
            "50000/50000 [==============================] - 13s 263us/step - loss: 1.1890 - acc: 0.5781 - val_loss: 1.1244 - val_acc: 0.6049\n",
            "Epoch 13/20\n",
            "32896/50000 [==================>...........] - ETA: 4s - loss: 1.1657 - acc: 0.5865"
          ],
          "name": "stdout"
        },
        {
          "output_type": "stream",
          "text": [
            "50000/50000 [==============================] - 13s 265us/step - loss: 1.1660 - acc: 0.5872 - val_loss: 1.1268 - val_acc: 0.6032\n",
            "Epoch 14/20\n",
            "50000/50000 [==============================] - 13s 259us/step - loss: 1.1362 - acc: 0.6027 - val_loss: 1.1349 - val_acc: 0.5975\n",
            "Epoch 15/20\n",
            "34688/50000 [===================>..........] - ETA: 3s - loss: 1.1124 - acc: 0.6082"
          ],
          "name": "stdout"
        },
        {
          "output_type": "stream",
          "text": [
            "50000/50000 [==============================] - 13s 260us/step - loss: 1.1136 - acc: 0.6078 - val_loss: 1.0264 - val_acc: 0.6452\n",
            "Epoch 16/20\n",
            "50000/50000 [==============================] - 13s 266us/step - loss: 1.0897 - acc: 0.6181 - val_loss: 1.1338 - val_acc: 0.6008\n",
            "Epoch 17/20\n",
            "32896/50000 [==================>...........] - ETA: 4s - loss: 1.0693 - acc: 0.6224"
          ],
          "name": "stdout"
        },
        {
          "output_type": "stream",
          "text": [
            "50000/50000 [==============================] - 13s 265us/step - loss: 1.0615 - acc: 0.6252 - val_loss: 1.0465 - val_acc: 0.6334\n",
            "Epoch 18/20\n",
            "50000/50000 [==============================] - 13s 262us/step - loss: 1.0469 - acc: 0.6338 - val_loss: 0.9767 - val_acc: 0.6631\n",
            "Epoch 19/20\n",
            "34432/50000 [===================>..........] - ETA: 3s - loss: 1.0224 - acc: 0.6393"
          ],
          "name": "stdout"
        },
        {
          "output_type": "stream",
          "text": [
            "50000/50000 [==============================] - 13s 262us/step - loss: 1.0222 - acc: 0.6413 - val_loss: 0.9576 - val_acc: 0.6705\n",
            "Epoch 20/20\n",
            "50000/50000 [==============================] - 13s 261us/step - loss: 1.0071 - acc: 0.6495 - val_loss: 0.9679 - val_acc: 0.6651\n",
            "Train on 50000 samples, validate on 10000 samples\n",
            "Epoch 1/20\n",
            "30848/50000 [=================>............] - ETA: 5s - loss: 2.0750 - acc: 0.2321"
          ],
          "name": "stdout"
        },
        {
          "output_type": "stream",
          "text": [
            "50000/50000 [==============================] - 14s 280us/step - loss: 1.9714 - acc: 0.2771 - val_loss: 1.6845 - val_acc: 0.4059\n",
            "Epoch 2/20\n",
            "50000/50000 [==============================] - 13s 267us/step - loss: 1.6638 - acc: 0.3952 - val_loss: 1.5466 - val_acc: 0.4403\n",
            "Epoch 3/20\n",
            "34688/50000 [===================>..........] - ETA: 3s - loss: 1.5573 - acc: 0.4367"
          ],
          "name": "stdout"
        },
        {
          "output_type": "stream",
          "text": [
            "50000/50000 [==============================] - 13s 262us/step - loss: 1.5461 - acc: 0.4414 - val_loss: 1.4363 - val_acc: 0.4851\n",
            "Epoch 4/20\n",
            "50000/50000 [==============================] - 13s 263us/step - loss: 1.4758 - acc: 0.4656 - val_loss: 1.4092 - val_acc: 0.4898\n",
            "Epoch 5/20\n",
            "35456/50000 [====================>.........] - ETA: 3s - loss: 1.4256 - acc: 0.4869"
          ],
          "name": "stdout"
        },
        {
          "output_type": "stream",
          "text": [
            "50000/50000 [==============================] - 13s 262us/step - loss: 1.4179 - acc: 0.4911 - val_loss: 1.3168 - val_acc: 0.5317\n",
            "Epoch 6/20\n",
            "50000/50000 [==============================] - 13s 262us/step - loss: 1.3722 - acc: 0.5066 - val_loss: 1.3052 - val_acc: 0.5327\n",
            "Epoch 7/20\n",
            "35456/50000 [====================>.........] - ETA: 3s - loss: 1.3336 - acc: 0.5217"
          ],
          "name": "stdout"
        },
        {
          "output_type": "stream",
          "text": [
            "50000/50000 [==============================] - 13s 263us/step - loss: 1.3270 - acc: 0.5245 - val_loss: 1.3002 - val_acc: 0.5435\n",
            "Epoch 8/20\n",
            "50000/50000 [==============================] - 13s 263us/step - loss: 1.2900 - acc: 0.5362 - val_loss: 1.2621 - val_acc: 0.5579\n",
            "Epoch 9/20\n",
            "34688/50000 [===================>..........] - ETA: 3s - loss: 1.2523 - acc: 0.5573"
          ],
          "name": "stdout"
        },
        {
          "output_type": "stream",
          "text": [
            "50000/50000 [==============================] - 13s 263us/step - loss: 1.2517 - acc: 0.5573 - val_loss: 1.1753 - val_acc: 0.5839\n",
            "Epoch 10/20\n",
            "50000/50000 [==============================] - 13s 263us/step - loss: 1.2208 - acc: 0.5647 - val_loss: 1.1335 - val_acc: 0.6046\n",
            "Epoch 11/20\n",
            "34944/50000 [===================>..........] - ETA: 3s - loss: 1.1892 - acc: 0.5804"
          ],
          "name": "stdout"
        },
        {
          "output_type": "stream",
          "text": [
            "50000/50000 [==============================] - 13s 261us/step - loss: 1.1906 - acc: 0.5807 - val_loss: 1.1345 - val_acc: 0.6029\n",
            "Epoch 12/20\n",
            "50000/50000 [==============================] - 13s 265us/step - loss: 1.1600 - acc: 0.5901 - val_loss: 1.0933 - val_acc: 0.6194\n",
            "Epoch 13/20\n",
            "34944/50000 [===================>..........] - ETA: 3s - loss: 1.1347 - acc: 0.5962"
          ],
          "name": "stdout"
        },
        {
          "output_type": "stream",
          "text": [
            "50000/50000 [==============================] - 13s 262us/step - loss: 1.1316 - acc: 0.5980 - val_loss: 1.0730 - val_acc: 0.6190\n",
            "Epoch 14/20\n",
            "50000/50000 [==============================] - 13s 262us/step - loss: 1.1028 - acc: 0.6099 - val_loss: 1.0245 - val_acc: 0.6429\n",
            "Epoch 15/20\n",
            "33664/50000 [===================>..........] - ETA: 4s - loss: 1.0831 - acc: 0.6182"
          ],
          "name": "stdout"
        },
        {
          "output_type": "stream",
          "text": [
            "50000/50000 [==============================] - 13s 265us/step - loss: 1.0808 - acc: 0.6187 - val_loss: 1.0396 - val_acc: 0.6353\n",
            "Epoch 16/20\n",
            "50000/50000 [==============================] - 13s 264us/step - loss: 1.0567 - acc: 0.6282 - val_loss: 1.0027 - val_acc: 0.6492\n",
            "Epoch 17/20\n",
            "34688/50000 [===================>..........] - ETA: 3s - loss: 1.0367 - acc: 0.6383"
          ],
          "name": "stdout"
        },
        {
          "output_type": "stream",
          "text": [
            "50000/50000 [==============================] - 13s 261us/step - loss: 1.0361 - acc: 0.6366 - val_loss: 0.9714 - val_acc: 0.6637\n",
            "Epoch 18/20\n",
            "50000/50000 [==============================] - 13s 261us/step - loss: 1.0124 - acc: 0.6434 - val_loss: 0.9511 - val_acc: 0.6728\n",
            "Epoch 19/20\n",
            "35200/50000 [====================>.........] - ETA: 3s - loss: 0.9933 - acc: 0.6513"
          ],
          "name": "stdout"
        },
        {
          "output_type": "stream",
          "text": [
            "50000/50000 [==============================] - 13s 262us/step - loss: 0.9940 - acc: 0.6513 - val_loss: 0.9575 - val_acc: 0.6674\n",
            "Epoch 20/20\n",
            "50000/50000 [==============================] - 13s 267us/step - loss: 0.9753 - acc: 0.6568 - val_loss: 0.9284 - val_acc: 0.6798\n",
            "Train on 50000 samples, validate on 10000 samples\n",
            "Epoch 1/20\n",
            "29824/50000 [================>.............] - ETA: 5s - loss: 2.0924 - acc: 0.2257"
          ],
          "name": "stdout"
        },
        {
          "output_type": "stream",
          "text": [
            "50000/50000 [==============================] - 14s 281us/step - loss: 1.9951 - acc: 0.2675 - val_loss: 1.7247 - val_acc: 0.3927\n",
            "Epoch 2/20\n",
            "50000/50000 [==============================] - 13s 261us/step - loss: 1.7004 - acc: 0.3839 - val_loss: 1.5706 - val_acc: 0.4359\n",
            "Epoch 3/20\n",
            "33920/50000 [===================>..........] - ETA: 4s - loss: 1.6002 - acc: 0.4169"
          ],
          "name": "stdout"
        },
        {
          "output_type": "stream",
          "text": [
            "50000/50000 [==============================] - 13s 265us/step - loss: 1.5839 - acc: 0.4225 - val_loss: 1.4859 - val_acc: 0.4624\n",
            "Epoch 4/20\n",
            "50000/50000 [==============================] - 13s 262us/step - loss: 1.5057 - acc: 0.4546 - val_loss: 1.4534 - val_acc: 0.4781\n",
            "Epoch 5/20\n",
            "35456/50000 [====================>.........] - ETA: 3s - loss: 1.4446 - acc: 0.4777"
          ],
          "name": "stdout"
        },
        {
          "output_type": "stream",
          "text": [
            "50000/50000 [==============================] - 13s 265us/step - loss: 1.4425 - acc: 0.4784 - val_loss: 1.3593 - val_acc: 0.5143\n",
            "Epoch 6/20\n",
            "50000/50000 [==============================] - 13s 263us/step - loss: 1.3927 - acc: 0.4969 - val_loss: 1.3141 - val_acc: 0.5317\n",
            "Epoch 7/20\n",
            "35456/50000 [====================>.........] - ETA: 3s - loss: 1.3519 - acc: 0.5160"
          ],
          "name": "stdout"
        },
        {
          "output_type": "stream",
          "text": [
            "50000/50000 [==============================] - 13s 262us/step - loss: 1.3435 - acc: 0.5188 - val_loss: 1.2560 - val_acc: 0.5565\n",
            "Epoch 8/20\n",
            "50000/50000 [==============================] - 13s 265us/step - loss: 1.3024 - acc: 0.5362 - val_loss: 1.2401 - val_acc: 0.5594\n",
            "Epoch 9/20\n",
            "35456/50000 [====================>.........] - ETA: 3s - loss: 1.2642 - acc: 0.5517"
          ],
          "name": "stdout"
        },
        {
          "output_type": "stream",
          "text": [
            "50000/50000 [==============================] - 13s 261us/step - loss: 1.2611 - acc: 0.5525 - val_loss: 1.2008 - val_acc: 0.5792\n",
            "Epoch 10/20\n",
            "50000/50000 [==============================] - 13s 263us/step - loss: 1.2258 - acc: 0.5640 - val_loss: 1.1561 - val_acc: 0.5970\n",
            "Epoch 11/20\n",
            "34688/50000 [===================>..........] - ETA: 3s - loss: 1.1950 - acc: 0.5771"
          ],
          "name": "stdout"
        },
        {
          "output_type": "stream",
          "text": [
            "50000/50000 [==============================] - 13s 264us/step - loss: 1.1925 - acc: 0.5790 - val_loss: 1.1301 - val_acc: 0.6029\n",
            "Epoch 12/20\n",
            "50000/50000 [==============================] - 13s 261us/step - loss: 1.1613 - acc: 0.5894 - val_loss: 1.0997 - val_acc: 0.6126\n",
            "Epoch 13/20\n",
            "34944/50000 [===================>..........] - ETA: 3s - loss: 1.1347 - acc: 0.5995"
          ],
          "name": "stdout"
        },
        {
          "output_type": "stream",
          "text": [
            "50000/50000 [==============================] - 13s 264us/step - loss: 1.1308 - acc: 0.6006 - val_loss: 1.0674 - val_acc: 0.6258\n",
            "Epoch 14/20\n",
            "50000/50000 [==============================] - 13s 262us/step - loss: 1.1002 - acc: 0.6116 - val_loss: 1.0521 - val_acc: 0.6326\n",
            "Epoch 15/20\n",
            "35200/50000 [====================>.........] - ETA: 3s - loss: 1.0822 - acc: 0.6188"
          ],
          "name": "stdout"
        },
        {
          "output_type": "stream",
          "text": [
            "50000/50000 [==============================] - 13s 262us/step - loss: 1.0779 - acc: 0.6199 - val_loss: 1.0421 - val_acc: 0.6392\n",
            "Epoch 16/20\n",
            "50000/50000 [==============================] - 13s 266us/step - loss: 1.0501 - acc: 0.6301 - val_loss: 0.9951 - val_acc: 0.6536\n",
            "Epoch 17/20\n",
            "34432/50000 [===================>..........] - ETA: 3s - loss: 1.0334 - acc: 0.6342"
          ],
          "name": "stdout"
        },
        {
          "output_type": "stream",
          "text": [
            "50000/50000 [==============================] - 13s 263us/step - loss: 1.0299 - acc: 0.6369 - val_loss: 0.9784 - val_acc: 0.6591\n",
            "Epoch 18/20\n",
            "50000/50000 [==============================] - 13s 263us/step - loss: 1.0097 - acc: 0.6455 - val_loss: 0.9454 - val_acc: 0.6685\n",
            "Epoch 19/20\n",
            "35456/50000 [====================>.........] - ETA: 3s - loss: 0.9882 - acc: 0.6516"
          ],
          "name": "stdout"
        },
        {
          "output_type": "stream",
          "text": [
            "50000/50000 [==============================] - 13s 264us/step - loss: 0.9884 - acc: 0.6526 - val_loss: 0.9232 - val_acc: 0.6795\n",
            "Epoch 20/20\n",
            "50000/50000 [==============================] - 13s 262us/step - loss: 0.9676 - acc: 0.6610 - val_loss: 0.8999 - val_acc: 0.6857\n"
          ],
          "name": "stdout"
        }
      ]
    },
    {
      "metadata": {
        "id": "fVUkk-43uWML",
        "colab_type": "code",
        "colab": {
          "base_uri": "https://localhost:8080/",
          "height": 357
        },
        "outputId": "0d7e018e-678d-4a9f-c593-f2d3b3974498"
      },
      "cell_type": "code",
      "source": [
        "# Load models and print results\n",
        "for e in [0.5,0.1,0.05,0.02,0.01]:\n",
        "    model = keras.models.load_model('cifra10_n'+str(e)+'.h5')\n",
        "    print('\\n  - Gaussian Noise with '+str(e)+' stdev:')\n",
        "    scores = model.evaluate(x_test, y_test, verbose=0)\n",
        "    print('\\tTest loss:\\t', scores[0])\n",
        "    print('\\tTest accuracy:\\t', scores[1])"
      ],
      "execution_count": 16,
      "outputs": [
        {
          "output_type": "stream",
          "text": [
            "\n",
            "  - Gaussian Noise with 0.5 stdev:\n",
            "\tTest loss:\t 1.4772556245803834\n",
            "\tTest accuracy:\t 0.4864\n",
            "\n",
            "  - Gaussian Noise with 0.1 stdev:\n",
            "\tTest loss:\t 0.9550858486175537\n",
            "\tTest accuracy:\t 0.6693\n",
            "\n",
            "  - Gaussian Noise with 0.05 stdev:\n",
            "\tTest loss:\t 0.9679321733474732\n",
            "\tTest accuracy:\t 0.6651\n",
            "\n",
            "  - Gaussian Noise with 0.02 stdev:\n",
            "\tTest loss:\t 0.9283743391036987\n",
            "\tTest accuracy:\t 0.6798\n",
            "\n",
            "  - Gaussian Noise with 0.01 stdev:\n",
            "\tTest loss:\t 0.8998800125122071\n",
            "\tTest accuracy:\t 0.6857\n"
          ],
          "name": "stdout"
        }
      ]
    },
    {
      "metadata": {
        "id": "JsJqBNCqmTso",
        "colab_type": "text"
      },
      "cell_type": "markdown",
      "source": [
        "### 2) Add layers to the network to improve performance"
      ]
    },
    {
      "metadata": {
        "id": "W-q-pZF-mTso",
        "colab_type": "text"
      },
      "cell_type": "markdown",
      "source": [
        "#### A) Add more layers and Adam optimizer"
      ]
    },
    {
      "metadata": {
        "id": "5QeWb-pFjSh0",
        "colab_type": "code",
        "colab": {
          "base_uri": "https://localhost:8080/",
          "height": 989
        },
        "outputId": "3373b86d-de99-4ba2-e86f-31e6d696d598"
      },
      "cell_type": "code",
      "source": [
        "model = Sequential()\n",
        "\n",
        "model.add(Conv2D(32, (3, 3), padding='same',\n",
        "                 input_shape=x_train.shape[1:]))\n",
        "model.add(Activation('relu'))\n",
        "model.add(Conv2D(32, (3, 3)))\n",
        "model.add(Activation('relu'))\n",
        "model.add(MaxPooling2D(pool_size=(2, 2)))\n",
        "model.add(Dropout(0.25))\n",
        "\n",
        "model.add(Conv2D(64, (3, 3), padding='same'))\n",
        "model.add(Activation('relu'))\n",
        "model.add(Conv2D(64, (3, 3)))\n",
        "model.add(Activation('relu'))\n",
        "model.add(MaxPooling2D(pool_size=(2, 2)))\n",
        "model.add(Dropout(0.25))\n",
        "\n",
        "model.add(Flatten())\n",
        "model.add(Dense(512))\n",
        "#add another dense layer\n",
        "model.add(Dense(512))\n",
        "model.add(Activation('relu'))\n",
        "model.add(Dropout(0.5))\n",
        "model.add(Dense(num_classes))\n",
        "model.add(Activation('softmax'))\n",
        "\n",
        "model.compile(loss='categorical_crossentropy',optimizer=keras.optimizers.Adam(lr=0.001, beta_1=0.9, beta_2=0.999, epsilon=None, decay=0.0, amsgrad=False),metrics=['accuracy'])\n",
        "model.fit(x_train, y_train, batch_size=batch_size, epochs=epochs, validation_data=(x_test, y_test), shuffle=True)\n",
        "\n",
        "print('\\n  - More layers and Atom optimizer:')\n",
        "scores = model.evaluate(x_test, y_test, verbose=0)\n",
        "print('\\tTest loss:\\t', scores[0])\n",
        "print('\\tTest accuracy:\\t', scores[1])\n",
        "\n",
        "Y_pred = model.predict(x_test, verbose=2)\n",
        "cm = confusion_matrix(np.argmax(y_test,axis=1),np.argmax(Y_pred, axis=1))\n",
        "print('\\tConfusion Matrix:\\t')\n",
        "print(cm)"
      ],
      "execution_count": 17,
      "outputs": [
        {
          "output_type": "stream",
          "text": [
            "Train on 50000 samples, validate on 10000 samples\n",
            "Epoch 1/20\n",
            "50000/50000 [==============================] - 16s 312us/step - loss: 1.5690 - acc: 0.4235 - val_loss: 1.1981 - val_acc: 0.5662\n",
            "Epoch 2/20\n",
            "50000/50000 [==============================] - 14s 282us/step - loss: 1.1358 - acc: 0.5948 - val_loss: 0.9637 - val_acc: 0.6553\n",
            "Epoch 3/20\n",
            " 6016/50000 [==>...........................] - ETA: 11s - loss: 0.9922 - acc: 0.6444"
          ],
          "name": "stdout"
        },
        {
          "output_type": "stream",
          "text": [
            "50000/50000 [==============================] - 14s 277us/step - loss: 0.9671 - acc: 0.6579 - val_loss: 0.8512 - val_acc: 0.7000\n",
            "Epoch 4/20\n",
            "50000/50000 [==============================] - 14s 278us/step - loss: 0.8671 - acc: 0.6934 - val_loss: 0.7820 - val_acc: 0.7274\n",
            "Epoch 5/20\n",
            "24448/50000 [=============>................] - ETA: 6s - loss: 0.8088 - acc: 0.7172"
          ],
          "name": "stdout"
        },
        {
          "output_type": "stream",
          "text": [
            "50000/50000 [==============================] - 14s 279us/step - loss: 0.8141 - acc: 0.7145 - val_loss: 0.7407 - val_acc: 0.7419\n",
            "Epoch 6/20\n",
            "50000/50000 [==============================] - 14s 275us/step - loss: 0.7706 - acc: 0.7298 - val_loss: 0.7394 - val_acc: 0.7418\n",
            "Epoch 7/20\n",
            "29568/50000 [================>.............] - ETA: 5s - loss: 0.7231 - acc: 0.7455"
          ],
          "name": "stdout"
        },
        {
          "output_type": "stream",
          "text": [
            "50000/50000 [==============================] - 14s 281us/step - loss: 0.7287 - acc: 0.7425 - val_loss: 0.7195 - val_acc: 0.7527\n",
            "Epoch 8/20\n",
            "50000/50000 [==============================] - 14s 277us/step - loss: 0.7058 - acc: 0.7523 - val_loss: 0.6805 - val_acc: 0.7647\n",
            "Epoch 9/20\n",
            "30592/50000 [=================>............] - ETA: 5s - loss: 0.6598 - acc: 0.7648"
          ],
          "name": "stdout"
        },
        {
          "output_type": "stream",
          "text": [
            "50000/50000 [==============================] - 14s 279us/step - loss: 0.6700 - acc: 0.7634 - val_loss: 0.6765 - val_acc: 0.7706\n",
            "Epoch 10/20\n",
            "50000/50000 [==============================] - 14s 279us/step - loss: 0.6467 - acc: 0.7724 - val_loss: 0.6806 - val_acc: 0.7715\n",
            "Epoch 11/20\n",
            "28288/50000 [===============>..............] - ETA: 5s - loss: 0.6236 - acc: 0.7780"
          ],
          "name": "stdout"
        },
        {
          "output_type": "stream",
          "text": [
            "50000/50000 [==============================] - 14s 277us/step - loss: 0.6319 - acc: 0.7767 - val_loss: 0.6731 - val_acc: 0.7672\n",
            "Epoch 12/20\n",
            "50000/50000 [==============================] - 14s 280us/step - loss: 0.6133 - acc: 0.7858 - val_loss: 0.6516 - val_acc: 0.7768\n",
            "Epoch 13/20\n",
            "29568/50000 [================>.............] - ETA: 5s - loss: 0.5923 - acc: 0.7900"
          ],
          "name": "stdout"
        },
        {
          "output_type": "stream",
          "text": [
            "50000/50000 [==============================] - 14s 277us/step - loss: 0.5999 - acc: 0.7872 - val_loss: 0.6653 - val_acc: 0.7810\n",
            "Epoch 14/20\n",
            "50000/50000 [==============================] - 14s 281us/step - loss: 0.5760 - acc: 0.7956 - val_loss: 0.6374 - val_acc: 0.7828\n",
            "Epoch 15/20\n",
            "31616/50000 [=================>............] - ETA: 4s - loss: 0.5571 - acc: 0.8036"
          ],
          "name": "stdout"
        },
        {
          "output_type": "stream",
          "text": [
            "50000/50000 [==============================] - 14s 275us/step - loss: 0.5649 - acc: 0.8012 - val_loss: 0.6578 - val_acc: 0.7814\n",
            "Epoch 16/20\n",
            "50000/50000 [==============================] - 14s 277us/step - loss: 0.5562 - acc: 0.8022 - val_loss: 0.6352 - val_acc: 0.7899\n",
            "Epoch 17/20\n",
            "32128/50000 [==================>...........] - ETA: 4s - loss: 0.5232 - acc: 0.8138"
          ],
          "name": "stdout"
        },
        {
          "output_type": "stream",
          "text": [
            "50000/50000 [==============================] - 14s 280us/step - loss: 0.5293 - acc: 0.8115 - val_loss: 0.6192 - val_acc: 0.7893\n",
            "Epoch 18/20\n",
            "50000/50000 [==============================] - 14s 278us/step - loss: 0.5359 - acc: 0.8112 - val_loss: 0.6386 - val_acc: 0.7858\n",
            "Epoch 19/20\n",
            "30080/50000 [=================>............] - ETA: 5s - loss: 0.5115 - acc: 0.8201"
          ],
          "name": "stdout"
        },
        {
          "output_type": "stream",
          "text": [
            "50000/50000 [==============================] - 14s 281us/step - loss: 0.5246 - acc: 0.8154 - val_loss: 0.6540 - val_acc: 0.7834\n",
            "Epoch 20/20\n",
            "50000/50000 [==============================] - 14s 279us/step - loss: 0.5094 - acc: 0.8202 - val_loss: 0.6470 - val_acc: 0.7883\n",
            "\n",
            "  - More layers and Atom optimizer:\n",
            "\tTest loss:\t 0.6469792132854462\n",
            "\tTest accuracy:\t 0.7883\n",
            "\tConfusion Matrix:\t\n",
            "[[832  15  43   9  14   1  10  12  42  22]\n",
            " [  8 911   4   0   1   2   9   2  13  50]\n",
            " [ 59   6 696  29  38  49  78  31   9   5]\n",
            " [ 19   6  83 513  46 160 110  33  19  11]\n",
            " [ 13   4  76  36 695  30 103  34   7   2]\n",
            " [ 10   2  55 101  26 723  38  36   2   7]\n",
            " [  6   0  27  17  11   8 921   4   5   1]\n",
            " [ 11   3  33  21  36  31  10 848   2   5]\n",
            " [ 51  17   5   8   5   3   7   5 878  21]\n",
            " [ 21  58   5  10   2   1   8  10  19 866]]\n"
          ],
          "name": "stdout"
        }
      ]
    },
    {
      "metadata": {
        "id": "SFVHrqlBc8Ze",
        "colab_type": "text"
      },
      "cell_type": "markdown",
      "source": [
        "#### B) Use batch normalization"
      ]
    },
    {
      "metadata": {
        "id": "f2KL0hWjuWMO",
        "colab_type": "code",
        "colab": {
          "base_uri": "https://localhost:8080/",
          "height": 989
        },
        "outputId": "0fc96295-f03f-429a-8a1f-36575a17a2de"
      },
      "cell_type": "code",
      "source": [
        "from keras.layers.normalization import BatchNormalization\n",
        "\n",
        "model = Sequential()\n",
        "model.add(Conv2D(32, (3, 3), padding='same',input_shape=x_train.shape[1:]))\n",
        "model.add(BatchNormalization())\n",
        "model.add(Activation('relu'))\n",
        "model.add(Conv2D(32, (3, 3)))\n",
        "model.add(BatchNormalization())\n",
        "model.add(Activation('relu'))\n",
        "model.add(MaxPooling2D(pool_size=(2, 2)))\n",
        "model.add(Dropout(0.25))\n",
        "model.add(Conv2D(64, (3, 3), padding='same'))\n",
        "model.add(BatchNormalization())\n",
        "model.add(Activation('relu'))\n",
        "model.add(Conv2D(64, (3, 3)))\n",
        "model.add(BatchNormalization())\n",
        "model.add(Activation('relu'))\n",
        "model.add(MaxPooling2D(pool_size=(2, 2)))\n",
        "model.add(Dropout(0.25))\n",
        "model.add(Flatten())\n",
        "model.add(Dense(512))\n",
        "model.add(Activation('relu'))\n",
        "model.add(Dropout(0.5))\n",
        "model.add(Dense(num_classes))\n",
        "model.add(Activation('softmax'))\n",
        "\n",
        "opt = keras.optimizers.rmsprop(lr=0.0001, decay=1e-6)\n",
        "model.compile(loss='categorical_crossentropy', optimizer=opt, metrics=['accuracy'])\n",
        "model.fit(x_train, y_train,batch_size=batch_size, epochs=epochs, validation_data=(x_test, y_test), shuffle=True)\n",
        "\n",
        "print('\\n  - Model with Batch Normalization:')\n",
        "scores = model.evaluate(x_test, y_test, verbose=0)\n",
        "print('\\tTest loss:\\t', scores[0])\n",
        "print('\\tTest accuracy:\\t', scores[1])\n",
        "\n",
        "Y_pred = model.predict(x_test, verbose=2)\n",
        "cm = confusion_matrix(np.argmax(y_test,axis=1),np.argmax(Y_pred, axis=1))\n",
        "print('\\tConfusion Matrix:\\t')\n",
        "print(cm)"
      ],
      "execution_count": 18,
      "outputs": [
        {
          "output_type": "stream",
          "text": [
            "Train on 50000 samples, validate on 10000 samples\n",
            "Epoch 1/20\n",
            "50000/50000 [==============================] - 20s 397us/step - loss: 1.9795 - acc: 0.2991 - val_loss: 1.5757 - val_acc: 0.4343\n",
            "Epoch 2/20\n",
            "50000/50000 [==============================] - 18s 353us/step - loss: 1.5930 - acc: 0.4184 - val_loss: 1.3964 - val_acc: 0.4975\n",
            "Epoch 3/20\n",
            " 8576/50000 [====>.........................] - ETA: 13s - loss: 1.4962 - acc: 0.4556"
          ],
          "name": "stdout"
        },
        {
          "output_type": "stream",
          "text": [
            "50000/50000 [==============================] - 18s 355us/step - loss: 1.4592 - acc: 0.4710 - val_loss: 1.2724 - val_acc: 0.5441\n",
            "Epoch 4/20\n",
            "50000/50000 [==============================] - 18s 352us/step - loss: 1.3706 - acc: 0.5075 - val_loss: 1.1969 - val_acc: 0.5686\n",
            "Epoch 5/20\n",
            "29568/50000 [================>.............] - ETA: 6s - loss: 1.3087 - acc: 0.5310"
          ],
          "name": "stdout"
        },
        {
          "output_type": "stream",
          "text": [
            "50000/50000 [==============================] - 18s 353us/step - loss: 1.3013 - acc: 0.5337 - val_loss: 1.1699 - val_acc: 0.5794\n",
            "Epoch 6/20\n",
            "50000/50000 [==============================] - 18s 353us/step - loss: 1.2426 - acc: 0.5545 - val_loss: 1.1738 - val_acc: 0.5741\n",
            "Epoch 7/20\n",
            "33792/50000 [===================>..........] - ETA: 5s - loss: 1.1974 - acc: 0.5716"
          ],
          "name": "stdout"
        },
        {
          "output_type": "stream",
          "text": [
            "50000/50000 [==============================] - 18s 355us/step - loss: 1.1860 - acc: 0.5766 - val_loss: 1.0587 - val_acc: 0.6205\n",
            "Epoch 8/20\n",
            "50000/50000 [==============================] - 18s 353us/step - loss: 1.1392 - acc: 0.5953 - val_loss: 1.1156 - val_acc: 0.5990\n",
            "Epoch 9/20\n",
            "34304/50000 [===================>..........] - ETA: 5s - loss: 1.0940 - acc: 0.6095"
          ],
          "name": "stdout"
        },
        {
          "output_type": "stream",
          "text": [
            "50000/50000 [==============================] - 18s 352us/step - loss: 1.0912 - acc: 0.6107 - val_loss: 1.0623 - val_acc: 0.6267\n",
            "Epoch 10/20\n",
            "50000/50000 [==============================] - 17s 350us/step - loss: 1.0429 - acc: 0.6293 - val_loss: 1.0198 - val_acc: 0.6306\n",
            "Epoch 11/20\n",
            "35328/50000 [====================>.........] - ETA: 4s - loss: 1.0103 - acc: 0.6401"
          ],
          "name": "stdout"
        },
        {
          "output_type": "stream",
          "text": [
            "50000/50000 [==============================] - 18s 356us/step - loss: 1.0048 - acc: 0.6407 - val_loss: 0.9051 - val_acc: 0.6790\n",
            "Epoch 12/20\n",
            "50000/50000 [==============================] - 18s 351us/step - loss: 0.9707 - acc: 0.6530 - val_loss: 0.8595 - val_acc: 0.6914\n",
            "Epoch 13/20\n",
            "34688/50000 [===================>..........] - ETA: 5s - loss: 0.9357 - acc: 0.6658"
          ],
          "name": "stdout"
        },
        {
          "output_type": "stream",
          "text": [
            "50000/50000 [==============================] - 18s 355us/step - loss: 0.9374 - acc: 0.6665 - val_loss: 0.8569 - val_acc: 0.6986\n",
            "Epoch 14/20\n",
            "50000/50000 [==============================] - 18s 353us/step - loss: 0.9116 - acc: 0.6773 - val_loss: 0.8801 - val_acc: 0.6903\n",
            "Epoch 15/20\n",
            "34944/50000 [===================>..........] - ETA: 4s - loss: 0.8841 - acc: 0.6884"
          ],
          "name": "stdout"
        },
        {
          "output_type": "stream",
          "text": [
            "50000/50000 [==============================] - 18s 355us/step - loss: 0.8804 - acc: 0.6890 - val_loss: 0.9000 - val_acc: 0.6813\n",
            "Epoch 16/20\n",
            "50000/50000 [==============================] - 18s 353us/step - loss: 0.8579 - acc: 0.6972 - val_loss: 0.8400 - val_acc: 0.7050\n",
            "Epoch 17/20\n",
            "34944/50000 [===================>..........] - ETA: 5s - loss: 0.8424 - acc: 0.7040"
          ],
          "name": "stdout"
        },
        {
          "output_type": "stream",
          "text": [
            "50000/50000 [==============================] - 18s 356us/step - loss: 0.8356 - acc: 0.7057 - val_loss: 0.8238 - val_acc: 0.7097\n",
            "Epoch 18/20\n",
            "50000/50000 [==============================] - 18s 357us/step - loss: 0.8095 - acc: 0.7142 - val_loss: 0.7941 - val_acc: 0.7213\n",
            "Epoch 19/20\n",
            "34688/50000 [===================>..........] - ETA: 5s - loss: 0.7919 - acc: 0.7231"
          ],
          "name": "stdout"
        },
        {
          "output_type": "stream",
          "text": [
            "50000/50000 [==============================] - 18s 355us/step - loss: 0.7952 - acc: 0.7209 - val_loss: 0.7472 - val_acc: 0.7359\n",
            "Epoch 20/20\n",
            "50000/50000 [==============================] - 18s 354us/step - loss: 0.7769 - acc: 0.7238 - val_loss: 0.7987 - val_acc: 0.7221\n",
            "\n",
            "  - Model with Batch Normalization:\n",
            "\tTest loss:\t 0.7986920112609863\n",
            "\tTest accuracy:\t 0.7221\n",
            "\tConfusion Matrix:\t\n",
            "[[666   9  47  59  37  12  11  11  90  58]\n",
            " [ 10 769   7  22   9   6  23   5  44 105]\n",
            " [ 44   1 503 118 101 105  92  23   8   5]\n",
            " [  7   0  28 641  45 204  52  11   8   4]\n",
            " [  7   0  34 122 679  59  54  37   7   1]\n",
            " [  4   0  19 188  32 714  13  27   2   1]\n",
            " [  2   1  19  89  31  24 829   4   1   0]\n",
            " [  5   1  19  57  74 127  10 701   2   4]\n",
            " [ 23  13   5  35   7   8   7   0 881  21]\n",
            " [ 13  35   8  34   9   7  13  12  31 838]]\n"
          ],
          "name": "stdout"
        }
      ]
    },
    {
      "metadata": {
        "id": "XRymftMOmTs3",
        "colab_type": "text"
      },
      "cell_type": "markdown",
      "source": [
        "### 3) Try another method batch normalization to deal with overfitting "
      ]
    },
    {
      "metadata": {
        "id": "MmxET6jumTsx",
        "colab_type": "text"
      },
      "cell_type": "markdown",
      "source": [
        "#### Using Regularizer"
      ]
    },
    {
      "metadata": {
        "id": "ptxx_FTouWMU",
        "colab_type": "code",
        "colab": {
          "base_uri": "https://localhost:8080/",
          "height": 989
        },
        "outputId": "7f2a4f29-a036-4f83-f34d-baa6c28d1317"
      },
      "cell_type": "code",
      "source": [
        "from keras import regularizers\n",
        "\n",
        "weight_decay = 1e-4\n",
        "model = Sequential()\n",
        "model.add(Conv2D(32, (3, 3), padding='same', input_shape=x_train.shape[1:]))\n",
        "\n",
        "model.add(Activation('relu'))\n",
        "model.add(Conv2D(32, (3, 3)))\n",
        "model.add(Activation('relu'))\n",
        "model.add(MaxPooling2D(pool_size=(2, 2)))\n",
        "model.add(Dropout(0.25))\n",
        "\n",
        "model.add(Conv2D(64, (3, 3), padding='same', kernel_regularizer=regularizers.l2(weight_decay)))\n",
        "model.add(Activation('relu'))\n",
        "model.add(Conv2D(64, (3, 3), kernel_regularizer=regularizers.l2(weight_decay)))\n",
        "model.add(Activation('relu'))\n",
        "model.add(MaxPooling2D(pool_size=(2, 2)))\n",
        "model.add(Dropout(0.25))\n",
        "\n",
        "model.add(Flatten())\n",
        "model.add(Dense(512))\n",
        "model.add(Activation('relu'))\n",
        "model.add(Dropout(0.5))\n",
        "model.add(Dense(num_classes))\n",
        "model.add(Activation('softmax'))\n",
        "\n",
        "opt = keras.optimizers.rmsprop(lr=0.0001, decay=1e-6)\n",
        "model.compile(loss='categorical_crossentropy', optimizer=opt, metrics=['accuracy'])\n",
        "model.fit(x_train, y_train, batch_size=batch_size, epochs=epochs, validation_data=(x_test, y_test), shuffle=True)\n",
        "\n",
        "print('\\n  - regularizer L2:')\n",
        "scores = model.evaluate(x_test, y_test, verbose=0)\n",
        "print('\\tTest loss:\\t', scores[0])\n",
        "print('\\tTest accuracy:\\t', scores[1])\n",
        "Y_pred = model.predict(x_test, verbose=2)\n",
        "cm = confusion_matrix(np.argmax(y_test,axis=1),np.argmax(Y_pred, axis=1))\n",
        "print('\\tConfusion Matrix:\\t')\n",
        "print(cm)"
      ],
      "execution_count": 19,
      "outputs": [
        {
          "output_type": "stream",
          "text": [
            "Train on 50000 samples, validate on 10000 samples\n",
            "Epoch 1/20\n",
            "50000/50000 [==============================] - 15s 298us/step - loss: 1.9566 - acc: 0.2847 - val_loss: 1.6900 - val_acc: 0.3984\n",
            "Epoch 2/20\n",
            "50000/50000 [==============================] - 13s 268us/step - loss: 1.6664 - acc: 0.3977 - val_loss: 1.5282 - val_acc: 0.4453\n",
            "Epoch 3/20\n",
            " 6528/50000 [==>...........................] - ETA: 10s - loss: 1.5956 - acc: 0.4225"
          ],
          "name": "stdout"
        },
        {
          "output_type": "stream",
          "text": [
            "50000/50000 [==============================] - 13s 263us/step - loss: 1.5558 - acc: 0.4373 - val_loss: 1.4989 - val_acc: 0.4568\n",
            "Epoch 4/20\n",
            "50000/50000 [==============================] - 13s 266us/step - loss: 1.4765 - acc: 0.4713 - val_loss: 1.3871 - val_acc: 0.5048\n",
            "Epoch 5/20\n",
            "27776/50000 [===============>..............] - ETA: 5s - loss: 1.4317 - acc: 0.4888"
          ],
          "name": "stdout"
        },
        {
          "output_type": "stream",
          "text": [
            "50000/50000 [==============================] - 13s 266us/step - loss: 1.4189 - acc: 0.4950 - val_loss: 1.3425 - val_acc: 0.5264\n",
            "Epoch 6/20\n",
            "50000/50000 [==============================] - 13s 263us/step - loss: 1.3671 - acc: 0.5144 - val_loss: 1.2760 - val_acc: 0.5510\n",
            "Epoch 7/20\n",
            "32640/50000 [==================>...........] - ETA: 4s - loss: 1.3296 - acc: 0.5301"
          ],
          "name": "stdout"
        },
        {
          "output_type": "stream",
          "text": [
            "50000/50000 [==============================] - 13s 265us/step - loss: 1.3220 - acc: 0.5319 - val_loss: 1.2261 - val_acc: 0.5717\n",
            "Epoch 8/20\n",
            "50000/50000 [==============================] - 13s 268us/step - loss: 1.2783 - acc: 0.5465 - val_loss: 1.1909 - val_acc: 0.5830\n",
            "Epoch 9/20\n",
            "33664/50000 [===================>..........] - ETA: 4s - loss: 1.2482 - acc: 0.5613"
          ],
          "name": "stdout"
        },
        {
          "output_type": "stream",
          "text": [
            "50000/50000 [==============================] - 13s 264us/step - loss: 1.2395 - acc: 0.5652 - val_loss: 1.1878 - val_acc: 0.5913\n",
            "Epoch 10/20\n",
            "50000/50000 [==============================] - 13s 265us/step - loss: 1.2054 - acc: 0.5777 - val_loss: 1.1929 - val_acc: 0.5845\n",
            "Epoch 11/20\n",
            "35200/50000 [====================>.........] - ETA: 3s - loss: 1.1720 - acc: 0.5922"
          ],
          "name": "stdout"
        },
        {
          "output_type": "stream",
          "text": [
            "50000/50000 [==============================] - 13s 263us/step - loss: 1.1724 - acc: 0.5918 - val_loss: 1.1489 - val_acc: 0.6026\n",
            "Epoch 12/20\n",
            "50000/50000 [==============================] - 13s 265us/step - loss: 1.1406 - acc: 0.6016 - val_loss: 1.0638 - val_acc: 0.6335\n",
            "Epoch 13/20\n",
            "34176/50000 [===================>..........] - ETA: 3s - loss: 1.1130 - acc: 0.6134"
          ],
          "name": "stdout"
        },
        {
          "output_type": "stream",
          "text": [
            "50000/50000 [==============================] - 13s 264us/step - loss: 1.1122 - acc: 0.6139 - val_loss: 1.0520 - val_acc: 0.6353\n",
            "Epoch 14/20\n",
            "50000/50000 [==============================] - 13s 263us/step - loss: 1.0833 - acc: 0.6239 - val_loss: 1.0155 - val_acc: 0.6486\n",
            "Epoch 15/20\n",
            "34944/50000 [===================>..........] - ETA: 3s - loss: 1.0609 - acc: 0.6330"
          ],
          "name": "stdout"
        },
        {
          "output_type": "stream",
          "text": [
            "50000/50000 [==============================] - 13s 263us/step - loss: 1.0567 - acc: 0.6342 - val_loss: 1.0044 - val_acc: 0.6550\n",
            "Epoch 16/20\n",
            "50000/50000 [==============================] - 13s 263us/step - loss: 1.0328 - acc: 0.6412 - val_loss: 0.9734 - val_acc: 0.6625\n",
            "Epoch 17/20\n",
            "34688/50000 [===================>..........] - ETA: 3s - loss: 1.0179 - acc: 0.6448"
          ],
          "name": "stdout"
        },
        {
          "output_type": "stream",
          "text": [
            "50000/50000 [==============================] - 13s 264us/step - loss: 1.0135 - acc: 0.6480 - val_loss: 0.9503 - val_acc: 0.6724\n",
            "Epoch 18/20\n",
            "50000/50000 [==============================] - 13s 267us/step - loss: 0.9913 - acc: 0.6551 - val_loss: 0.9368 - val_acc: 0.6757\n",
            "Epoch 19/20\n",
            "32640/50000 [==================>...........] - ETA: 4s - loss: 0.9740 - acc: 0.6645"
          ],
          "name": "stdout"
        },
        {
          "output_type": "stream",
          "text": [
            "50000/50000 [==============================] - 13s 265us/step - loss: 0.9721 - acc: 0.6655 - val_loss: 0.9616 - val_acc: 0.6625\n",
            "Epoch 20/20\n",
            "50000/50000 [==============================] - 13s 267us/step - loss: 0.9565 - acc: 0.6707 - val_loss: 0.9137 - val_acc: 0.6838\n",
            "\n",
            "  - regularizer L2:\n",
            "\tTest loss:\t 0.9137261812210083\n",
            "\tTest accuracy:\t 0.6838\n",
            "\tConfusion Matrix:\t\n",
            "[[701  18  72  15  12  11  16   6 116  33]\n",
            " [ 17 807   9   5   5   6  19   3  50  79]\n",
            " [ 61   5 552  62  93  65 107  19  20  16]\n",
            " [ 12   7  90 455  71 179 131  14  21  20]\n",
            " [ 19   4  85  56 592  32 147  41  23   1]\n",
            " [ 15   1  84 170  44 577  69  27  10   3]\n",
            " [  5   4  37  36  13  13 881   2   6   3]\n",
            " [ 23   0  41  47  88  91  19 668   4  19]\n",
            " [ 55  29  13  13   5   3  12   2 842  26]\n",
            " [ 28  81  10  16   7   5  28  11  51 763]]\n"
          ],
          "name": "stdout"
        }
      ]
    },
    {
      "metadata": {
        "id": "wys5CMbZb7b8",
        "colab_type": "text"
      },
      "cell_type": "markdown",
      "source": [
        "#### Base case with no dropouts"
      ]
    },
    {
      "metadata": {
        "id": "PHaWmSbkb4qL",
        "colab_type": "code",
        "colab": {
          "base_uri": "https://localhost:8080/",
          "height": 802
        },
        "outputId": "1a1cc18a-f374-466b-fa69-624ac7730d31"
      },
      "cell_type": "code",
      "source": [
        "model = Sequential()\n",
        "\n",
        "model.add(Conv2D(32, (3, 3), padding='same',\n",
        "                 input_shape=x_train.shape[1:]))\n",
        "model.add(Activation('relu'))\n",
        "model.add(Conv2D(32, (3, 3)))\n",
        "model.add(Activation('relu'))\n",
        "model.add(MaxPooling2D(pool_size=(2, 2)))\n",
        "\n",
        "model.add(Conv2D(64, (3, 3), padding='same'))\n",
        "model.add(Activation('relu'))\n",
        "model.add(Conv2D(64, (3, 3)))\n",
        "model.add(Activation('relu'))\n",
        "model.add(MaxPooling2D(pool_size=(2, 2)))\n",
        "\n",
        "model.add(Flatten())\n",
        "model.add(Dense(512))\n",
        "model.add(Activation('relu'))\n",
        "model.add(Dense(num_classes))\n",
        "model.add(Activation('softmax'))\n",
        "\n",
        "opt = keras.optimizers.rmsprop(lr=0.0001, decay=1e-6)\n",
        "model.compile(loss='categorical_crossentropy', optimizer=opt, metrics=['accuracy'])\n",
        "model.fit(x_train, y_train, batch_size=batch_size, epochs=epochs, validation_data=(x_test, y_test),shuffle=True)\n",
        "\n",
        "print('\\n  - Base case without dropouts:')\n",
        "scores = model.evaluate(x_test, y_test, verbose=0)\n",
        "print('\\tTest loss:\\t', scores[0])\n",
        "print('\\tTest accuracy:\\t', scores[1])"
      ],
      "execution_count": 20,
      "outputs": [
        {
          "output_type": "stream",
          "text": [
            "Train on 50000 samples, validate on 10000 samples\n",
            "Epoch 1/20\n",
            "50000/50000 [==============================] - 14s 279us/step - loss: 1.8106 - acc: 0.3533 - val_loss: 1.5989 - val_acc: 0.4234\n",
            "Epoch 2/20\n",
            "50000/50000 [==============================] - 12s 243us/step - loss: 1.5339 - acc: 0.4515 - val_loss: 1.4927 - val_acc: 0.4688\n",
            "Epoch 3/20\n",
            " 9088/50000 [====>.........................] - ETA: 9s - loss: 1.4358 - acc: 0.4883"
          ],
          "name": "stdout"
        },
        {
          "output_type": "stream",
          "text": [
            "50000/50000 [==============================] - 12s 246us/step - loss: 1.4069 - acc: 0.5003 - val_loss: 1.3650 - val_acc: 0.5164\n",
            "Epoch 4/20\n",
            "50000/50000 [==============================] - 12s 241us/step - loss: 1.3248 - acc: 0.5341 - val_loss: 1.2682 - val_acc: 0.5512\n",
            "Epoch 5/20\n",
            "29824/50000 [================>.............] - ETA: 4s - loss: 1.2661 - acc: 0.5533"
          ],
          "name": "stdout"
        },
        {
          "output_type": "stream",
          "text": [
            "50000/50000 [==============================] - 12s 243us/step - loss: 1.2568 - acc: 0.5571 - val_loss: 1.2239 - val_acc: 0.5714\n",
            "Epoch 6/20\n",
            "50000/50000 [==============================] - 12s 245us/step - loss: 1.1978 - acc: 0.5804 - val_loss: 1.2441 - val_acc: 0.5698\n",
            "Epoch 7/20\n",
            "34944/50000 [===================>..........] - ETA: 3s - loss: 1.1506 - acc: 0.5989"
          ],
          "name": "stdout"
        },
        {
          "output_type": "stream",
          "text": [
            "50000/50000 [==============================] - 12s 244us/step - loss: 1.1435 - acc: 0.6024 - val_loss: 1.1634 - val_acc: 0.5944\n",
            "Epoch 8/20\n",
            "50000/50000 [==============================] - 12s 244us/step - loss: 1.0949 - acc: 0.6208 - val_loss: 1.1550 - val_acc: 0.6028\n",
            "Epoch 9/20\n",
            "36224/50000 [====================>.........] - ETA: 3s - loss: 1.0511 - acc: 0.6330"
          ],
          "name": "stdout"
        },
        {
          "output_type": "stream",
          "text": [
            "50000/50000 [==============================] - 12s 249us/step - loss: 1.0517 - acc: 0.6338 - val_loss: 1.0531 - val_acc: 0.6352\n",
            "Epoch 10/20\n",
            "50000/50000 [==============================] - 12s 243us/step - loss: 1.0114 - acc: 0.6493 - val_loss: 1.0672 - val_acc: 0.6308\n",
            "Epoch 11/20\n",
            "36224/50000 [====================>.........] - ETA: 3s - loss: 0.9810 - acc: 0.6607"
          ],
          "name": "stdout"
        },
        {
          "output_type": "stream",
          "text": [
            "50000/50000 [==============================] - 12s 245us/step - loss: 0.9736 - acc: 0.6634 - val_loss: 1.0193 - val_acc: 0.6484\n",
            "Epoch 12/20\n",
            "50000/50000 [==============================] - 12s 244us/step - loss: 0.9382 - acc: 0.6744 - val_loss: 1.0086 - val_acc: 0.6510\n",
            "Epoch 13/20\n",
            "36224/50000 [====================>.........] - ETA: 3s - loss: 0.9098 - acc: 0.6844"
          ],
          "name": "stdout"
        },
        {
          "output_type": "stream",
          "text": [
            "50000/50000 [==============================] - 12s 243us/step - loss: 0.9066 - acc: 0.6865 - val_loss: 1.0190 - val_acc: 0.6546\n",
            "Epoch 14/20\n",
            "50000/50000 [==============================] - 12s 246us/step - loss: 0.8724 - acc: 0.6989 - val_loss: 1.0658 - val_acc: 0.6264\n",
            "Epoch 15/20\n",
            "36224/50000 [====================>.........] - ETA: 3s - loss: 0.8486 - acc: 0.7089"
          ],
          "name": "stdout"
        },
        {
          "output_type": "stream",
          "text": [
            "50000/50000 [==============================] - 12s 244us/step - loss: 0.8440 - acc: 0.7103 - val_loss: 1.0072 - val_acc: 0.6578\n",
            "Epoch 16/20\n",
            "50000/50000 [==============================] - 12s 246us/step - loss: 0.8116 - acc: 0.7219 - val_loss: 0.9829 - val_acc: 0.6612\n",
            "Epoch 17/20\n",
            "36224/50000 [====================>.........] - ETA: 3s - loss: 0.7817 - acc: 0.7312"
          ],
          "name": "stdout"
        },
        {
          "output_type": "stream",
          "text": [
            "50000/50000 [==============================] - 12s 246us/step - loss: 0.7866 - acc: 0.7289 - val_loss: 0.9890 - val_acc: 0.6660\n",
            "Epoch 18/20\n",
            "50000/50000 [==============================] - 12s 243us/step - loss: 0.7573 - acc: 0.7408 - val_loss: 0.9508 - val_acc: 0.6797\n",
            "Epoch 19/20\n",
            "36224/50000 [====================>.........] - ETA: 3s - loss: 0.7273 - acc: 0.7512"
          ],
          "name": "stdout"
        },
        {
          "output_type": "stream",
          "text": [
            "50000/50000 [==============================] - 12s 245us/step - loss: 0.7298 - acc: 0.7493 - val_loss: 0.8967 - val_acc: 0.6927\n",
            "Epoch 20/20\n",
            "50000/50000 [==============================] - 12s 246us/step - loss: 0.7022 - acc: 0.7615 - val_loss: 0.9665 - val_acc: 0.6751\n",
            "\n",
            "  - Base case without dropouts:\n",
            "\tTest loss:\t 0.9664685956954956\n",
            "\tTest accuracy:\t 0.6751\n"
          ],
          "name": "stdout"
        }
      ]
    },
    {
      "metadata": {
        "id": "Gxw3W7_mYzMX",
        "colab_type": "text"
      },
      "cell_type": "markdown",
      "source": [
        "#### Model with Regularizer but no dropout"
      ]
    },
    {
      "metadata": {
        "id": "O71kbYLKX_4t",
        "colab_type": "code",
        "colab": {
          "base_uri": "https://localhost:8080/",
          "height": 802
        },
        "outputId": "b17d3f34-4bea-499f-cdc6-c013af8c3055"
      },
      "cell_type": "code",
      "source": [
        "from keras import regularizers\n",
        "\n",
        "weight_decay = 1e-4\n",
        "model = Sequential()\n",
        "model.add(Conv2D(32, (3, 3), padding='same', input_shape=x_train.shape[1:]))\n",
        "\n",
        "model.add(Activation('relu'))\n",
        "model.add(Conv2D(32, (3, 3)))\n",
        "model.add(Activation('relu'))\n",
        "model.add(MaxPooling2D(pool_size=(2, 2)))\n",
        "\n",
        "model.add(Conv2D(64, (3, 3), padding='same', kernel_regularizer=regularizers.l2(weight_decay)))\n",
        "model.add(Activation('relu'))\n",
        "model.add(Conv2D(64, (3, 3), kernel_regularizer=regularizers.l2(weight_decay)))\n",
        "model.add(Activation('relu'))\n",
        "model.add(MaxPooling2D(pool_size=(2, 2)))\n",
        "\n",
        "model.add(Flatten())\n",
        "model.add(Dense(512))\n",
        "model.add(Activation('relu'))\n",
        "model.add(Dense(num_classes))\n",
        "model.add(Activation('softmax'))\n",
        "\n",
        "opt = keras.optimizers.rmsprop(lr=0.0001, decay=1e-6)\n",
        "model.compile(loss='categorical_crossentropy', optimizer=opt, metrics=['accuracy'])\n",
        "model.fit(x_train, y_train, batch_size=batch_size, epochs=epochs, validation_data=(x_test, y_test), shuffle=True)\n",
        "\n",
        "print('\\n  - regularizer L2 without dropout:')\n",
        "scores = model.evaluate(x_test, y_test, verbose=0)\n",
        "print('\\tTest loss:\\t', scores[0])\n",
        "print('\\tTest accuracy:\\t', scores[1])"
      ],
      "execution_count": 21,
      "outputs": [
        {
          "output_type": "stream",
          "text": [
            "Train on 50000 samples, validate on 10000 samples\n",
            "Epoch 1/20\n",
            "50000/50000 [==============================] - 14s 282us/step - loss: 1.8228 - acc: 0.3531 - val_loss: 1.6782 - val_acc: 0.4014\n",
            "Epoch 2/20\n",
            "50000/50000 [==============================] - 12s 248us/step - loss: 1.5387 - acc: 0.4533 - val_loss: 1.4508 - val_acc: 0.4773\n",
            "Epoch 3/20\n",
            " 9344/50000 [====>.........................] - ETA: 9s - loss: 1.4520 - acc: 0.4853"
          ],
          "name": "stdout"
        },
        {
          "output_type": "stream",
          "text": [
            "50000/50000 [==============================] - 12s 248us/step - loss: 1.4228 - acc: 0.4977 - val_loss: 1.4084 - val_acc: 0.5025\n",
            "Epoch 4/20\n",
            "50000/50000 [==============================] - 12s 245us/step - loss: 1.3354 - acc: 0.5303 - val_loss: 1.3079 - val_acc: 0.5421\n",
            "Epoch 5/20\n",
            "30336/50000 [=================>............] - ETA: 4s - loss: 1.2772 - acc: 0.5568"
          ],
          "name": "stdout"
        },
        {
          "output_type": "stream",
          "text": [
            "50000/50000 [==============================] - 12s 248us/step - loss: 1.2687 - acc: 0.5571 - val_loss: 1.3178 - val_acc: 0.5358\n",
            "Epoch 6/20\n",
            "50000/50000 [==============================] - 12s 246us/step - loss: 1.2059 - acc: 0.5810 - val_loss: 1.2183 - val_acc: 0.5664\n",
            "Epoch 7/20\n",
            "35200/50000 [====================>.........] - ETA: 3s - loss: 1.1604 - acc: 0.6018"
          ],
          "name": "stdout"
        },
        {
          "output_type": "stream",
          "text": [
            "50000/50000 [==============================] - 12s 247us/step - loss: 1.1533 - acc: 0.6030 - val_loss: 1.1433 - val_acc: 0.5973\n",
            "Epoch 8/20\n",
            "50000/50000 [==============================] - 12s 248us/step - loss: 1.1051 - acc: 0.6186 - val_loss: 1.1605 - val_acc: 0.5949\n",
            "Epoch 9/20\n",
            "36224/50000 [====================>.........] - ETA: 3s - loss: 1.0653 - acc: 0.6332"
          ],
          "name": "stdout"
        },
        {
          "output_type": "stream",
          "text": [
            "50000/50000 [==============================] - 12s 248us/step - loss: 1.0642 - acc: 0.6340 - val_loss: 1.1030 - val_acc: 0.6092\n",
            "Epoch 10/20\n",
            "50000/50000 [==============================] - 12s 244us/step - loss: 1.0239 - acc: 0.6501 - val_loss: 1.1024 - val_acc: 0.6147\n",
            "Epoch 11/20\n",
            "36224/50000 [====================>.........] - ETA: 3s - loss: 0.9919 - acc: 0.6601"
          ],
          "name": "stdout"
        },
        {
          "output_type": "stream",
          "text": [
            "50000/50000 [==============================] - 12s 246us/step - loss: 0.9905 - acc: 0.6613 - val_loss: 1.0822 - val_acc: 0.6170\n",
            "Epoch 12/20\n",
            "50000/50000 [==============================] - 12s 245us/step - loss: 0.9549 - acc: 0.6737 - val_loss: 1.0225 - val_acc: 0.6513\n",
            "Epoch 13/20\n",
            "36224/50000 [====================>.........] - ETA: 3s - loss: 0.9269 - acc: 0.6863"
          ],
          "name": "stdout"
        },
        {
          "output_type": "stream",
          "text": [
            "50000/50000 [==============================] - 12s 245us/step - loss: 0.9231 - acc: 0.6871 - val_loss: 1.0047 - val_acc: 0.6551\n",
            "Epoch 14/20\n",
            "50000/50000 [==============================] - 12s 245us/step - loss: 0.8944 - acc: 0.6962 - val_loss: 0.9613 - val_acc: 0.6720\n",
            "Epoch 15/20\n",
            "35968/50000 [====================>.........] - ETA: 3s - loss: 0.8581 - acc: 0.7100"
          ],
          "name": "stdout"
        },
        {
          "output_type": "stream",
          "text": [
            "50000/50000 [==============================] - 12s 245us/step - loss: 0.8626 - acc: 0.7076 - val_loss: 1.0454 - val_acc: 0.6464\n",
            "Epoch 16/20\n",
            "50000/50000 [==============================] - 12s 245us/step - loss: 0.8356 - acc: 0.7176 - val_loss: 1.0107 - val_acc: 0.6577\n",
            "Epoch 17/20\n",
            "35968/50000 [====================>.........] - ETA: 3s - loss: 0.8022 - acc: 0.7300"
          ],
          "name": "stdout"
        },
        {
          "output_type": "stream",
          "text": [
            "50000/50000 [==============================] - 13s 250us/step - loss: 0.8049 - acc: 0.7291 - val_loss: 0.9677 - val_acc: 0.6690\n",
            "Epoch 18/20\n",
            "50000/50000 [==============================] - 13s 252us/step - loss: 0.7798 - acc: 0.7405 - val_loss: 1.1470 - val_acc: 0.6236\n",
            "Epoch 19/20\n",
            "35968/50000 [====================>.........] - ETA: 3s - loss: 0.7520 - acc: 0.7477"
          ],
          "name": "stdout"
        },
        {
          "output_type": "stream",
          "text": [
            "50000/50000 [==============================] - 12s 250us/step - loss: 0.7513 - acc: 0.7472 - val_loss: 0.9316 - val_acc: 0.6834\n",
            "Epoch 20/20\n",
            "50000/50000 [==============================] - 13s 252us/step - loss: 0.7244 - acc: 0.7562 - val_loss: 0.9376 - val_acc: 0.6883\n",
            "\n",
            "  - regularizer L2 without dropout:\n",
            "\tTest loss:\t 0.9376100969314575\n",
            "\tTest accuracy:\t 0.6883\n"
          ],
          "name": "stdout"
        }
      ]
    }
  ]
}